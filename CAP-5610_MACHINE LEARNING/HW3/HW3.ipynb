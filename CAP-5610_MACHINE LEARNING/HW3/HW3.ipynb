{
  "nbformat": 4,
  "nbformat_minor": 0,
  "metadata": {
    "colab": {
      "name": "HW3.ipynb",
      "version": "0.3.2",
      "provenance": [],
      "include_colab_link": true
    },
    "kernelspec": {
      "name": "python3",
      "display_name": "Python 3"
    }
  },
  "cells": [
    {
      "cell_type": "markdown",
      "metadata": {
        "id": "view-in-github",
        "colab_type": "text"
      },
      "source": [
        "<a href=\"https://colab.research.google.com/github/rvalienter90/UCF/blob/master/CAP-5610_MACHINE%20LEARNING/HW3/HW3.ipynb\" target=\"_parent\"><img src=\"https://colab.research.google.com/assets/colab-badge.svg\" alt=\"Open In Colab\"/></a>"
      ]
    },
    {
      "metadata": {
        "id": "ELvnPMwEpHoD",
        "colab_type": "text"
      },
      "cell_type": "markdown",
      "source": [
        "**RODOLFO VALIENTE ROMERO**\n",
        "\n"
      ]
    },
    {
      "metadata": {
        "id": "ve7k3m1PpI7g",
        "colab_type": "text"
      },
      "cell_type": "markdown",
      "source": [
        "# HW 3\n",
        "\n",
        "** *Code is based on course notes and was used code from the Colab examples**\n",
        "\n",
        "The goal of this homework is to learn how to leverage pretrained convnets and to use some visualization techniques.\n",
        "You will work with the data set *cats vs dogs* and use the pretrained convnet VGG19.\n",
        "\n",
        "Experiment with different classifiers, trying to maximize the validation accuracy. You only need to show one classifier.\n",
        "\n",
        "---\n",
        "**Problem 1**\n",
        "\n",
        "Do feature extraction with data augmentation.\n",
        "\n",
        "**Problem 2**\n",
        "\n",
        "Do fine-tuning with data augmentation. \n",
        "\n",
        "**Problem 3**\n",
        "\n",
        "Visualize heatmaps of class activation for the the model obtained in Problem 2.\n",
        "\n",
        "**Problem 4**\n",
        "\n",
        "Build an activation model that takes as input an image and produces as output the activation of the last conv layer of the model obtained in Problem 2. Using this activation model obtain the corresponding activations for the validation images. Apply t-SNE visualization to these activations to see how well the convnet separates cats from dogs.\n"
      ]
    },
    {
      "metadata": {
        "id": "1nNwhVjlpKCT",
        "colab_type": "text"
      },
      "cell_type": "markdown",
      "source": [
        "## Problem 1\n",
        "\n",
        "Do feature extraction with data augmentation.\n"
      ]
    },
    {
      "metadata": {
        "id": "PUp4uudXpKLD",
        "colab_type": "text"
      },
      "cell_type": "markdown",
      "source": [
        "## Problem 2\n",
        "\n",
        "Do fine-tuning with data augmentation. "
      ]
    },
    {
      "metadata": {
        "id": "V9pfUfQMpKTT",
        "colab_type": "text"
      },
      "cell_type": "markdown",
      "source": [
        "## Problem 3\n",
        "\n",
        "Visualize heatmaps of class activation for the the model obtained in Problem 2."
      ]
    },
    {
      "metadata": {
        "id": "RLNARnMEpKdG",
        "colab_type": "text"
      },
      "cell_type": "markdown",
      "source": [
        "## Problem 4\n",
        "\n",
        "Build an activation model that takes as input an image and produces as output the activation of the last conv layer of the model obtained in Problem 2. Using this activation model obtain the corresponding activations for the validation images. Apply t-SNE visualization to these activations to see how well the convnet separates cats from dogs."
      ]
    },
    {
      "metadata": {
        "id": "jUrdprGPpJhB",
        "colab_type": "code",
        "colab": {}
      },
      "cell_type": "code",
      "source": [
        ""
      ],
      "execution_count": 0,
      "outputs": []
    }
  ]
}