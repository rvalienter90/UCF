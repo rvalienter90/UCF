{
  "nbformat": 4,
  "nbformat_minor": 0,
  "metadata": {
    "colab": {
      "name": "HW1.ipynb",
      "version": "0.3.2",
      "provenance": [],
      "include_colab_link": true
    },
    "kernelspec": {
      "name": "python3",
      "display_name": "Python 3"
    },
    "accelerator": "GPU"
  },
  "cells": [
    {
      "cell_type": "markdown",
      "metadata": {
        "id": "view-in-github",
        "colab_type": "text"
      },
      "source": [
        "<a href=\"https://colab.research.google.com/github/rvalienter90/UCF/blob/master/CAP-5610_MACHINE%20LEARNING/HW1/HW1.ipynb\" target=\"_parent\"><img src=\"https://colab.research.google.com/assets/colab-badge.svg\" alt=\"Open In Colab\"/></a>"
      ]
    },
    {
      "metadata": {
        "id": "Dc1slCEXrTyP",
        "colab_type": "text"
      },
      "cell_type": "markdown",
      "source": [
        "***RODOLFO VALIENTE ROMERO***"
      ]
    },
    {
      "metadata": {
        "id": "-fZ2xwR6qi5I",
        "colab_type": "text"
      },
      "cell_type": "markdown",
      "source": [
        "#**HW 1**"
      ]
    },
    {
      "metadata": {
        "id": "zZO8-UwXrdaf",
        "colab_type": "text"
      },
      "cell_type": "markdown",
      "source": [
        "** *Code is based on course notes and was used code from the Colab examples**"
      ]
    },
    {
      "metadata": {
        "id": "-jRmAiXrqut3",
        "colab_type": "text"
      },
      "cell_type": "markdown",
      "source": [
        "This homework will get you up to speed with Python programming, numpy, matplotlib, Keras, gradients, partial derivatives, git, GitHub, Google's colaboratory etc. Have fun!\n",
        "\n",
        "For this homework, you will create neural networks with an input layer and an output layer without any hidden layers. The connections are dense: each input neuron is connected to each output neuron.\n",
        "\n",
        "Instructions for problems 1 and 2:\n",
        "- Load the training and test data using Keras, no validation set needed.\n",
        "- Train 10 classifiers that perform binary classification: *Is the input image the digit i or is it a digit different from i?* Each of the ten classifiers has an input layer consisting of 28 x 28 input neurons and an output layer consisting of a single output neuron.\n",
        "- Implement mini-batch stochastic gradient descent using only numpy, that is, you are not allowed to use TensorFlow/Keras for SGD.\n",
        "- Use ```argmax``` to determine the classifier with the strongest output and declare the corresponding digit as output."
      ]
    },
    {
      "metadata": {
        "id": "3BKvrQyOtd7W",
        "colab_type": "text"
      },
      "cell_type": "markdown",
      "source": [
        "## Load and Explore data"
      ]
    },
    {
      "metadata": {
        "id": "uT1ugdRys_5O",
        "colab_type": "text"
      },
      "cell_type": "markdown",
      "source": [
        "### Exploring the format of the MNIST digits data set"
      ]
    },
    {
      "metadata": {
        "id": "in1IwEVOtPHL",
        "colab_type": "code",
        "outputId": "cd101909-9551-4450-c832-f3375bc534d5",
        "colab": {
          "base_uri": "https://localhost:8080/",
          "height": 102
        }
      },
      "cell_type": "code",
      "source": [
        "print(\"train_images_original \",train_images_original.shape)\n",
        "print(\"len train_images_original\", len(train_images_original))\n",
        "print(train_images_original.ndim)\n",
        "print(\"train_labels_original \",train_labels_original)\n",
        "print(\"train_labels_original.shape \", train_labels_original.shape)"
      ],
      "execution_count": 0,
      "outputs": [
        {
          "output_type": "stream",
          "text": [
            "train_images_original  (60000, 28, 28)\n",
            "len train_images_original 60000\n",
            "3\n",
            "train_labels_original  [5 0 4 ... 5 6 8]\n",
            "train_labels_original.shape  (60000,)\n"
          ],
          "name": "stdout"
        }
      ]
    },
    {
      "metadata": {
        "id": "Y5V0sKsBt03k",
        "colab_type": "text"
      },
      "cell_type": "markdown",
      "source": [
        "### Displaying MNIST digits"
      ]
    },
    {
      "metadata": {
        "id": "MJdtlj7zt386",
        "colab_type": "code",
        "outputId": "3f7d45d0-17f5-438b-fa55-338e84ab95a2",
        "colab": {
          "base_uri": "https://localhost:8080/",
          "height": 105
        }
      },
      "cell_type": "code",
      "source": [
        "import matplotlib.pyplot as plt\n",
        "digit_0 = train_images_original[0]\n",
        "plt.figure(figsize=(1,1))\n",
        "plt.imshow(digit_0)\n",
        "plt.grid(None)\n",
        "plt.show()"
      ],
      "execution_count": 0,
      "outputs": [
        {
          "output_type": "display_data",
          "data": {
            "image/png": "[encoded data removed]",
            "text/plain": [
              "<Figure size 72x72 with 1 Axes>"
            ]
          },
          "metadata": {
            "tags": []
          }
        }
      ]
    },
    {
      "metadata": {
        "id": "f8MOCt_Xt-YW",
        "colab_type": "code",
        "outputId": "12adda92-f25d-424b-dfc5-bab06a2d81a2",
        "colab": {
          "base_uri": "https://localhost:8080/",
          "height": 51
        }
      },
      "cell_type": "code",
      "source": [
        "print(\"digit_0.shape \",digit_0.shape)\n",
        "print(\"label0 \",train_labels_original[0])"
      ],
      "execution_count": 0,
      "outputs": [
        {
          "output_type": "stream",
          "text": [
            "digit_0.shape  (28, 28)\n",
            "label0  5\n"
          ],
          "name": "stdout"
        }
      ]
    },
    {
      "metadata": {
        "id": "2YsHD6LWwXtp",
        "colab_type": "text"
      },
      "cell_type": "markdown",
      "source": [
        "### Preparing the image data"
      ]
    },
    {
      "metadata": {
        "id": "8DwRgkkuwgXq",
        "colab_type": "code",
        "outputId": "4ae38ef0-e4e4-4dc4-988c-e21ada24140a",
        "colab": {
          "base_uri": "https://localhost:8080/",
          "height": 52
        }
      },
      "cell_type": "code",
      "source": [
        "train_images = train_images_original.reshape((60000, 28 * 28))\n",
        "train_images = train_images.astype('float32') / 255\n",
        "\n",
        "test_images = test_images_original.reshape((10000, 28 * 28))\n",
        "test_images = test_images.astype('float32') / 255\n",
        "print(\"train_images.shape \", train_images.shape)\n",
        "print(\"train_images_original.shape \", train_images_original.shape)\n",
        "\n",
        "print(sigmoid(0))\n",
        "arr=np.zeros((3,1))\n",
        "print(sigmoid(arr))\n",
        "arr.shape\n",
        "train_images_b, train_labels_original, test_images_b, test_labels_original=load_data()"
      ],
      "execution_count": 4,
      "outputs": [
        {
          "output_type": "stream",
          "text": [
            "train_images.shape  (60000, 784)\n",
            "train_images_original.shape  (60000, 28, 28)\n"
          ],
          "name": "stdout"
        }
      ]
    },
    {
      "metadata": {
        "colab_type": "text",
        "id": "crpFzD680Nu0"
      },
      "cell_type": "markdown",
      "source": [
        "## Loading the MNIST digits data set, and implement functions for P1,P2,P3\n",
        "\n",
        "```\n",
        "# This is formatted as code\n",
        "```\n",
        "\n"
      ]
    },
    {
      "metadata": {
        "colab_type": "code",
        "outputId": "9c8a417e-febe-4bd5-fcf0-a45e627133e7",
        "id": "tbIhBhEj0Nu2",
        "colab": {
          "base_uri": "https://localhost:8080/",
          "height": 69
        }
      },
      "cell_type": "code",
      "source": [
        "# Load the training and test data using Keras, no validation set needed.\n",
        "from keras.datasets import mnist\n",
        "import numpy as np\n",
        "import matplotlib.pyplot as plt\n",
        "np.random.seed(42)\n",
        "(train_images_original, train_labels_original), (test_images_original, test_labels_original) = mnist.load_data()\n",
        "\n"
      ],
      "execution_count": 0,
      "outputs": [
        {
          "output_type": "stream",
          "text": [
            "Using TensorFlow backend.\n"
          ],
          "name": "stderr"
        },
        {
          "output_type": "stream",
          "text": [
            "Downloading data from https://s3.amazonaws.com/img-datasets/mnist.npz\n",
            "11493376/11490434 [==============================] - 2s 0us/step\n"
          ],
          "name": "stdout"
        }
      ]
    },
    {
      "metadata": {
        "colab_type": "code",
        "id": "x4VEGb6r0Nu7",
        "colab": {}
      },
      "cell_type": "code",
      "source": [
        "#functions\n",
        "\n",
        "def my_own_categoricalv1 (train_labels_original):\n",
        "  train_labels_i=np.zeros((train_labels_original.shape[0],10))\n",
        "  for i in range(0,9):\n",
        "\n",
        "    train_labels_i_temp=train_labels_original==i\n",
        "    train_labels_i_temp=train_labels_i_temp.astype('float32')\n",
        "    train_labels_i[:,i]=train_labels_i_temp\n",
        "  return train_labels_i\n",
        "\n",
        "def my_own_categorical (train_labels_original):\n",
        "  Y = np.zeros((train_labels_original.shape[0], 10))\n",
        "  Y[np.arange(train_labels_original.shape[0]),train_labels_original] = 1\n",
        "  return Y\n",
        "\n",
        "def sigmoid(z):\n",
        "  return 1/(1+np.exp(-z))\n",
        "\n",
        "def softmax_morestable(X):\n",
        "    exps = np.exp(X - np.max(X))\n",
        "    return exps / np.sum(exps)\n",
        "def softmax(z):\n",
        "  return np.exp(z)/np.sum(np.exp(z), axis = 1, keepdims= True)\n",
        "\n",
        "def sigmoid_grad (x):    \n",
        "  da = sigmoid(x)*(1-sigmoid(x))\n",
        "  return da\n",
        "\n",
        "def forward(X,W):\n",
        "  Z = np.dot(X, W)\n",
        "  return Z\n",
        "\n",
        "def forward_sigmoid(X,W):\n",
        "  Z = np.dot(X, W)\n",
        "  Y = sigmoid(Z)\n",
        "  return Y\n",
        "\n",
        "def forward_softmax(X,W):\n",
        "  Z = np.dot(X, W)\n",
        "  Y = softmax(Z)\n",
        "  return Y\n",
        "\n",
        "def sigmoid_predict(X,W):\n",
        "  Z=forward(X,W)\n",
        "  return 1/(1+np.exp(-Z))\n",
        "\n",
        "def softmax_output(Z):\n",
        "  return softmax(Z)\n",
        "\n",
        "def sigmoid_output(Z):\n",
        "  return sigmoid(Z)\n",
        "\n",
        "def ce_loss(Y,A):\n",
        "  loss = - np.sum(Y*np.log(A)+(1-Y)*np.log(1 - A))/Y.shape[0]\n",
        "  return loss\n",
        "\n",
        "def se_loss (Y,A):\n",
        "  loss = 1/2*np.sum((Y-A)*(Y-A))/Y.shape[0]\n",
        "  return loss\n",
        "\n",
        "def cc_loss (Y,A): \n",
        "  loss = - np.sum(Y*np.log(A))/Y.shape[0]\n",
        "  return loss\n",
        "\n",
        "def load_data():\n",
        "  (train_images_original, train_labels_original), (test_images_original, test_labels_original) = mnist.load_data()\n",
        "  train_images = train_images_original.reshape(train_images_original.shape[0], -1)/255\n",
        "  #train_images = train_images.astype('float32') / 255\n",
        "\n",
        "  test_images = test_images_original.reshape(test_images_original.shape[0], -1)/255\n",
        "  #test_images = test_images.astype('float32') / 255\n",
        "  \n",
        "  train_images_b =  np.c_[np.ones((train_images.shape[0], 1)), train_images]\n",
        "  test_images_b = np.c_[np.ones((test_images.shape[0], 1)), test_images]\n",
        "  \n",
        "  \n",
        "  \n",
        "  return train_images_b, train_labels_original, test_images_b, test_labels_original\n",
        "\n",
        "def train_model_se(train_images_b, Y_train,lr=0.001,batch_size=40,epochs=10):\n",
        "  print(\"train model se\")\n",
        "  lr=lr\n",
        "  batch_size=batch_size\n",
        "  epochs=epochs\n",
        "  W= np.zeros((train_images_b.shape[1], 1))\n",
        "  m = train_images_b.shape[0]\n",
        "  \n",
        "  for epoch in range (0,epochs): \n",
        "    shuffled_indices = np.random.permutation(m)\n",
        "    X_shuffled = train_images_b[shuffled_indices]\n",
        "    y_shuffled = Y_train[shuffled_indices]\n",
        "    \n",
        "    for i in range(0, m, batch_size):    \n",
        "      X = X_shuffled[i : i + batch_size]\n",
        "      Y = y_shuffled[i : i + batch_size]  \n",
        "\n",
        "      y_est = forward_sigmoid(X, W)   \n",
        "      \n",
        "      dZ = (1/batch_size)*y_est*(1-y_est)*(y_est - Y) \n",
        "      dW = np.dot(X.T, dZ)\n",
        "      W = W - lr*dW \n",
        "    \n",
        "    #y_est=forward_sigmoid(train_images_b, W) \n",
        "    #loss = se_loss(Y_train, y_est)\n",
        "    #print(\"Epoch \",epoch,\" Loss =\", loss)\n",
        "  y_est=forward_sigmoid(train_images_b, W) \n",
        "  loss = se_loss(Y_train, y_est)\n",
        "  print(\"Epoch \",epoch,\" Loss =\", loss)\n",
        "  return W\n",
        "\n",
        "def train_model_ce(train_images_b, Y_train,lr=0.001,batch_size=40,epochs=10):\n",
        "  print(\"train model ce\")\n",
        "  lr=lr\n",
        "  batch_size=batch_size\n",
        "  epochs=epochs\n",
        "  W= np.zeros((train_images_b.shape[1], 1))\n",
        "  m = train_images_b.shape[0]\n",
        "  \n",
        "  for epoch in range (0,epochs): \n",
        "    shuffled_indices = np.random.permutation(m)\n",
        "    X_shuffled = train_images_b[shuffled_indices]\n",
        "    y_shuffled = Y_train[shuffled_indices]\n",
        "    \n",
        "    for i in range(0, m, batch_size):    \n",
        "      X = X_shuffled[i : i + batch_size]\n",
        "      Y = y_shuffled[i : i + batch_size]  \n",
        "\n",
        "      y_est = forward_sigmoid(X, W)   \n",
        "      \n",
        "      dZ = (1/batch_size)*(y_est - Y) \n",
        "      dW = np.dot(X.T, dZ)  \n",
        "      W = W - lr*dW \n",
        "    \n",
        "    #y_est=forward_sigmoid(train_images_b, W) \n",
        "    #loss = ce_loss(Y_train, y_est)\n",
        "    #print(\"Epoch \",epoch,\" Loss =\", loss)\n",
        "  y_est=forward_sigmoid(train_images_b, W) \n",
        "  loss = ce_loss(Y_train, y_est)\n",
        "  print(\"Epoch \",epoch,\" Loss =\", loss)\n",
        "  return W\n",
        "\n",
        "def train_model_cc(train_images_b, Y_train,lr=0.001,batch_size=40,epochs=10):\n",
        "  print(\"train model cc\")\n",
        "  lr=lr\n",
        "  batch_size=batch_size\n",
        "  epochs=epochs\n",
        "  W= np.zeros((train_images_b.shape[1], 10))\n",
        "  m = train_images_b.shape[0]\n",
        "  \n",
        "  for epoch in range (0,epochs): \n",
        "    shuffled_indices = np.random.permutation(m)\n",
        "    X_shuffled = train_images_b[shuffled_indices]\n",
        "    y_shuffled = Y_train[shuffled_indices]\n",
        "    \n",
        "    for i in range(0, m, batch_size):    \n",
        "      X = X_shuffled[i : i + batch_size]\n",
        "      Y = y_shuffled[i : i + batch_size]  \n",
        "\n",
        "      y_est = forward_softmax(X, W)   \n",
        "      \n",
        "      dZ = (1/batch_size)*(y_est - Y) \n",
        "      dW = np.dot(X.T, dZ)   \n",
        "\n",
        "      W = W - lr*dW \n",
        "    \n",
        "    #y_est=forward_softmax(train_images_b, W) \n",
        "    #loss = ce_loss(Y_train, y_est)\n",
        "    #print(\"Epoch \",epoch,\" Loss =\", loss)\n",
        "  y_est=forward_softmax(train_images_b, W) \n",
        "  loss = cc_loss(Y_train, y_est)\n",
        "  print(\"Epoch \",epoch,\" Loss =\", loss)\n",
        "  return W"
      ],
      "execution_count": 0,
      "outputs": []
    },
    {
      "metadata": {
        "id": "vFNIccapq4wA",
        "colab_type": "text"
      },
      "cell_type": "markdown",
      "source": [
        "## Problem 1 Explore"
      ]
    },
    {
      "metadata": {
        "id": "ddXepMgiq6gY",
        "colab_type": "text"
      },
      "cell_type": "markdown",
      "source": [
        "Use logistic regression with mean squared error loss."
      ]
    },
    {
      "metadata": {
        "id": "juROLzMWBu7s",
        "colab_type": "code",
        "outputId": "1392d312-9cfa-41f5-829a-0460a9bdb3df",
        "colab": {
          "base_uri": "https://localhost:8080/",
          "height": 68
        }
      },
      "cell_type": "code",
      "source": [
        "# add bias to each instance\n",
        "m,n=train_images.shape\n",
        "train_images_b = np.c_[np.ones((m, 1)), train_images]\n",
        "\n",
        "print(\"train_images_b.shape \", train_images_b.shape)\n",
        "print(\"train_labels_original.shape \",train_labels_original.shape)\n",
        "\n",
        "# fix initial random weight for \n",
        "# - mini-batch gradient descent\n",
        "np.random.seed(42)\n",
        "initial_weight = np.random.randn(n+1, 1) \n",
        "print(\"initial_weight.shape \",initial_weight.shape)"
      ],
      "execution_count": 0,
      "outputs": [
        {
          "output_type": "stream",
          "text": [
            "train_images_b.shape  (60000, 785)\n",
            "train_labels_original.shape  (60000,)\n",
            "initial_weight.shape  (785, 1)\n"
          ],
          "name": "stdout"
        }
      ]
    },
    {
      "metadata": {
        "id": "uVo1xpf7n8eV",
        "colab_type": "text"
      },
      "cell_type": "markdown",
      "source": [
        "### 0 Classifier"
      ]
    },
    {
      "metadata": {
        "id": "F3FPJS6zOaY9",
        "colab_type": "code",
        "outputId": "bf625c7c-85f7-4b64-d4f3-5d3417c8e1a4",
        "colab": {
          "base_uri": "https://localhost:8080/",
          "height": 122
        }
      },
      "cell_type": "code",
      "source": [
        "train_labels_0=train_labels_original==0\n",
        "train_labels_0=train_labels_0.astype('int')\n",
        "print(\"train_labels_0.shape \",train_labels_0.shape)\n",
        "\n",
        "\n",
        "train_labels_0=train_labels_0.reshape(m,1)\n",
        "digit_0 = train_images_original[1]\n",
        "plt.figure(figsize=(1,1))\n",
        "plt.imshow(digit_0)\n",
        "plt.grid(None)\n",
        "plt.show()"
      ],
      "execution_count": 0,
      "outputs": [
        {
          "output_type": "stream",
          "text": [
            "train_labels_0.shape  (60000,)\n"
          ],
          "name": "stdout"
        },
        {
          "output_type": "display_data",
          "data": {
            "image/png": "[encoded data removed]",
            "text/plain": [
              "<Figure size 72x72 with 1 Axes>"
            ]
          },
          "metadata": {
            "tags": []
          }
        }
      ]
    },
    {
      "metadata": {
        "id": "w6aMKvgDKC9n",
        "colab_type": "code",
        "outputId": "ee6f9847-d816-4ec4-de13-844e7d67e7bd",
        "colab": {
          "base_uri": "https://localhost:8080/",
          "height": 34
        }
      },
      "cell_type": "code",
      "source": [
        "# number of epochs\n",
        "epochs = 20\n",
        "# learning rate\n",
        "lr = 0.001\n",
        "weight = initial_weight\n",
        "batch_size = 64\n",
        "\n",
        "for epoch in range(epochs):\n",
        "    shuffled_indices = np.random.permutation(m)\n",
        "    train_images_b_shuffled = train_images_b[shuffled_indices]\n",
        "    y_shuffled = train_labels_0[shuffled_indices]\n",
        "    for i in range(0, m, batch_size):\n",
        "        xi = train_images_b_shuffled[i:i+batch_size,:]\n",
        "        yi = y_shuffled[i:i+batch_size,:]\n",
        "        z=xi.dot(weight)\n",
        "        a=sigmoid(z)\n",
        "        da=(a -yi)\n",
        "        dz=da*a*(1-a)\n",
        "        gradient = 1/batch_size * xi.T.dot(dz)\n",
        "        weight = weight - lr * gradient\n",
        "\n",
        "\n",
        "y_predict = sigmoid(train_images_b[1].dot(weight))                  \n",
        "y_predict "
      ],
      "execution_count": 0,
      "outputs": [
        {
          "output_type": "execute_result",
          "data": {
            "text/plain": [
              "array([1.1111798e-12])"
            ]
          },
          "metadata": {
            "tags": []
          },
          "execution_count": 126
        }
      ]
    },
    {
      "metadata": {
        "id": "4VQejHbPsjqj",
        "colab_type": "text"
      },
      "cell_type": "markdown",
      "source": [
        "### Train 10 classifiers that perform binary classification¶"
      ]
    },
    {
      "metadata": {
        "id": "WQPQhnIhiGme",
        "colab_type": "code",
        "colab": {
          "base_uri": "https://localhost:8080/",
          "height": 52
        },
        "outputId": "25f5cefa-0229-487f-91f7-d165be9f9e97"
      },
      "cell_type": "code",
      "source": [
        "from keras.utils import to_categorical\n",
        "\n",
        "train_labels = to_categorical(train_labels_original)\n",
        "test_labels = to_categorical(test_labels_original)\n",
        "\n",
        "print(train_labels.shape)\n",
        "print(train_labels.dtype)"
      ],
      "execution_count": 39,
      "outputs": [
        {
          "output_type": "stream",
          "text": [
            "(60000, 10)\n",
            "float32\n"
          ],
          "name": "stdout"
        }
      ]
    },
    {
      "metadata": {
        "id": "7Od18Co1idH8",
        "colab_type": "code",
        "colab": {}
      },
      "cell_type": "code",
      "source": [
        "def my_own_categorical (train_labels_original):\n",
        "  train_labels_i=np.zeros((train_labels_original.shape[0],10))\n",
        "  for i in range(0,9):\n",
        "\n",
        "    train_labels_i_temp=train_labels_original==i\n",
        "    train_labels_i_temp=train_labels_i_temp.astype('float32')\n",
        "    train_labels_i[:,i]=train_labels_i_temp\n",
        "  return train_labels_i"
      ],
      "execution_count": 0,
      "outputs": []
    },
    {
      "metadata": {
        "id": "Z-61zJS3i2Kt",
        "colab_type": "code",
        "colab": {
          "base_uri": "https://localhost:8080/",
          "height": 139
        },
        "outputId": "7eba6cb2-4dfb-4f9c-aea9-d342ccd5e075"
      },
      "cell_type": "code",
      "source": [
        "train_labels_i=my_own_categorical(train_labels_original)\n",
        "#test\n",
        "train_labels==train_labels_i"
      ],
      "execution_count": 43,
      "outputs": [
        {
          "output_type": "execute_result",
          "data": {
            "text/plain": [
              "array([[ True,  True,  True, ...,  True,  True,  True],\n",
              "       [ True,  True,  True, ...,  True,  True,  True],\n",
              "       [ True,  True,  True, ...,  True,  True,  True],\n",
              "       ...,\n",
              "       [ True,  True,  True, ...,  True,  True,  True],\n",
              "       [ True,  True,  True, ...,  True,  True,  True],\n",
              "       [ True,  True,  True, ...,  True,  True,  True]])"
            ]
          },
          "metadata": {
            "tags": []
          },
          "execution_count": 43
        }
      ]
    },
    {
      "metadata": {
        "id": "A7Jrx2YIsitu",
        "colab_type": "code",
        "outputId": "005b0895-e075-48a1-8406-3b2cacad8e7a",
        "colab": {
          "base_uri": "https://localhost:8080/",
          "height": 68
        }
      },
      "cell_type": "code",
      "source": [
        "train_labels_i=np.zeros((m,10))\n",
        "for i in range(0,9):\n",
        "  \n",
        "  train_labels_i_temp=train_labels_original==i\n",
        "  train_labels_i_temp=train_labels_i_temp.astype('float32')\n",
        "  train_labels_i[:,i]=train_labels_i_temp\n",
        "\n",
        "print(\"train_labels_i.shape \",train_labels_i.shape)\n",
        "train_labels_i\n",
        "\n",
        "weight_i=np.zeros((features,10))\n",
        "print(\"weight_i.shape \",weight_i.shape)\n",
        "print(\"initial_weight.shape \",initial_weight.shape)"
      ],
      "execution_count": 0,
      "outputs": [
        {
          "output_type": "stream",
          "text": [
            "train_labels_i.shape  (60000, 10)\n",
            "weight_i.shape  (785, 10)\n",
            "initial_weight.shape  (785, 1)\n"
          ],
          "name": "stdout"
        }
      ]
    },
    {
      "metadata": {
        "id": "5tdsZG1ustii",
        "colab_type": "code",
        "colab": {}
      },
      "cell_type": "code",
      "source": [
        "lr=0.001\n",
        "features=initial_weight.shape[0]\n",
        "weight_i=np.zeros((features,10))\n",
        "\n",
        "for dig in range(0,10):\n",
        "  weight = initial_weight\n",
        "  for epoch in range(epochs):\n",
        "      shuffled_indices = np.random.permutation(m)\n",
        "      train_images_b_shuffled = train_images_b[shuffled_indices]\n",
        "      y_shuffled = train_labels_i[:,dig][shuffled_indices]\n",
        "      y_shuffled=y_shuffled.reshape(m,1)\n",
        "      for i in range(0, m, batch_size):\n",
        "          xi = train_images_b_shuffled[i:i+batch_size,:]\n",
        "          yi = y_shuffled[i:i+batch_size,:]\n",
        "          z=xi.dot(weight)\n",
        "          a=sigmoid(z)\n",
        "          da=(a-yi)\n",
        "          #dz=da*a*(1-a)\n",
        "          dz=da\n",
        "          gradient = 1/batch_size * xi.T.dot(dz)\n",
        "          weight = weight - lr * gradient\n",
        "  \n",
        "  weight_i[:,dig]=weight.reshape(features)"
      ],
      "execution_count": 0,
      "outputs": []
    },
    {
      "metadata": {
        "id": "P_KeqIo8xPA7",
        "colab_type": "code",
        "colab": {
          "base_uri": "https://localhost:8080/",
          "height": 35
        },
        "outputId": "f5548b7d-1450-42e2-800f-134d04dd4e44"
      },
      "cell_type": "code",
      "source": [
        "train_images_b, train_labels_original, test_images_b, test_labels_original=load_data()\n",
        "Y=my_own_categorical(train_labels_original)\n",
        "initial_weight = np.random.randn(train_images_b.shape[1], 1) \n",
        "\n",
        "#for i in range(10):\n",
        "  \n",
        "  \n",
        "initial_weight.shape\n",
        "W = mymodel_se(train_images_b, Y[:,0].reshape((train_labels_original.shape[0],1)),initial_weight,0.001,128,10)\n",
        "W.shape\n"
      ],
      "execution_count": 71,
      "outputs": [
        {
          "output_type": "execute_result",
          "data": {
            "text/plain": [
              "(785, 1)"
            ]
          },
          "metadata": {
            "tags": []
          },
          "execution_count": 71
        }
      ]
    },
    {
      "metadata": {
        "id": "bb5_zajntewU",
        "colab_type": "text"
      },
      "cell_type": "markdown",
      "source": [
        "###Evaluate predictions\n"
      ]
    },
    {
      "metadata": {
        "id": "7z279C1AthLj",
        "colab_type": "code",
        "outputId": "06782eb7-980f-423b-f14a-1683b15b6a21",
        "colab": {
          "base_uri": "https://localhost:8080/",
          "height": 121
        }
      },
      "cell_type": "code",
      "source": [
        "y_predict = sigmoid(train_images_b[1].dot(weight_i))                  \n",
        "print(y_predict)\n",
        "print(y_predict.shape)\n",
        "print(\"Prediction \", np.argmax(y_predict))\n",
        "print(\"Real \", train_labels_original[1])"
      ],
      "execution_count": 84,
      "outputs": [
        {
          "output_type": "stream",
          "text": [
            "[9.99999714e-01 2.09629540e-05 6.99820995e-04 1.06912247e-03\n",
            " 8.51978048e-06 8.73723948e-02 1.69796855e-03 9.31600557e-03\n",
            " 5.71442494e-04 3.56822107e-05]\n",
            "(10,)\n",
            "Prediction  0\n",
            "Real  0\n"
          ],
          "name": "stdout"
        }
      ]
    },
    {
      "metadata": {
        "id": "CZABis9ptkja",
        "colab_type": "code",
        "outputId": "eb7007cd-da6c-40a6-f671-2be8f2eb1a83",
        "colab": {
          "base_uri": "https://localhost:8080/",
          "height": 87
        }
      },
      "cell_type": "code",
      "source": [
        "# Train accuracy\n",
        "m=train_labels_original.shape[0]\n",
        "\n",
        "predicted_labels_raw=sigmoid(train_images_b.dot(weight_i))  \n",
        "print(predicted_labels_raw.shape)\n",
        "predicted_labels=np.argmax(predicted_labels_raw,axis=1)\n",
        "print(predicted_labels.shape)\n",
        "print(train_labels_original.shape)\n",
        "predicted_labels = predicted_labels.astype('uint8')\n",
        "train_labels_original=train_labels_original.astype('uint8')\n",
        "\n",
        "wrong_indices = [i for i in range(m) if predicted_labels[i] != train_labels_original[i]]\n",
        "# The quantity below is equal to the test accuracy reported by the network fit method.\n",
        "acc_train=1.0 - len(wrong_indices) / m\n",
        "print(\"Train acc= \", acc_train)"
      ],
      "execution_count": 85,
      "outputs": [
        {
          "output_type": "stream",
          "text": [
            "(60000, 10)\n",
            "(60000,)\n",
            "(60000,)\n",
            "Train acc=  0.7782833333333333\n"
          ],
          "name": "stdout"
        }
      ]
    },
    {
      "metadata": {
        "id": "h9psJFqAtn1G",
        "colab_type": "code",
        "outputId": "e0ab5981-40a9-40d2-a5eb-e0e1a37a80d6",
        "colab": {
          "base_uri": "https://localhost:8080/",
          "height": 87
        }
      },
      "cell_type": "code",
      "source": [
        "# Test accuracy\n",
        "mt=test_labels_original.shape[0]\n",
        "\n",
        "#m,n=test_images.shape\n",
        "\n",
        "test_images_b = np.c_[np.ones((mt, 1)), test_images]\n",
        "\n",
        "predicted_labels_test_raw=sigmoid(test_images_b.dot(weight_i))  \n",
        "print(predicted_labels_test_raw.shape)\n",
        "predicted_labels_test=np.argmax(predicted_labels_test_raw,axis=1)\n",
        "print(predicted_labels_test.shape)\n",
        "print(test_labels_original.shape)\n",
        "predicted_labels_test = predicted_labels_test.astype('uint8')\n",
        "test_labels_original=test_labels_original.astype('uint8')\n",
        "\n",
        "wrong_indices_test = [i for i in range(mt) if predicted_labels_test[i] != test_labels_original[i]]\n",
        "# The quantity below is equal to the test accuracy reported by the network fit method.\n",
        "acc_test=1.0 - len(wrong_indices_test) / mt\n",
        "print(\"Test acc= \",acc_test)"
      ],
      "execution_count": 76,
      "outputs": [
        {
          "output_type": "stream",
          "text": [
            "(10000, 10)\n",
            "(10000,)\n",
            "(10000,)\n",
            "Test acc=  0.4374\n"
          ],
          "name": "stdout"
        }
      ]
    },
    {
      "metadata": {
        "id": "q8IAOHr_rt_i",
        "colab_type": "text"
      },
      "cell_type": "markdown",
      "source": [
        "## Problem 1 Final solution --Use logistic regression with mean squared error loss."
      ]
    },
    {
      "metadata": {
        "id": "Wp89xwqkrzEb",
        "colab_type": "code",
        "colab": {
          "base_uri": "https://localhost:8080/",
          "height": 364
        },
        "outputId": "66398c4d-ef4c-4820-b4a8-53eff54e5237"
      },
      "cell_type": "code",
      "source": [
        "#Train\n",
        "train_images_b, train_labels_original, test_images_b, test_labels_original=load_data()\n",
        "Y=my_own_categorical(train_labels_original)\n",
        "Wi = {}\n",
        "for i in range(10):\n",
        "  print(\"Digit \", i)\n",
        "  Wi[i] = train_model_se(train_images_b, Y[:,i].reshape(-1,1), 0.001, 40, 20)\n"
      ],
      "execution_count": 90,
      "outputs": [
        {
          "output_type": "stream",
          "text": [
            "Digit  0\n",
            "Epoch  19  Loss = 0.012306518368847885\n",
            "Digit  1\n",
            "Epoch  19  Loss = 0.01147720710414339\n",
            "Digit  2\n",
            "Epoch  19  Loss = 0.0220126141355691\n",
            "Digit  3\n",
            "Epoch  19  Loss = 0.023370847166057595\n",
            "Digit  4\n",
            "Epoch  19  Loss = 0.02070210497284014\n",
            "Digit  5\n",
            "Epoch  19  Loss = 0.02910970829191425\n",
            "Digit  6\n",
            "Epoch  19  Loss = 0.015725505808572897\n",
            "Digit  7\n",
            "Epoch  19  Loss = 0.015702935915504982\n",
            "Digit  8\n",
            "Epoch  19  Loss = 0.037105040674642466\n",
            "Digit  9\n",
            "Epoch  19  Loss = 0.0005978010638481055\n"
          ],
          "name": "stdout"
        }
      ]
    },
    {
      "metadata": {
        "id": "Eo8kGObnr36v",
        "colab_type": "code",
        "colab": {
          "base_uri": "https://localhost:8080/",
          "height": 191
        },
        "outputId": "8fc2c6bc-620c-4948-959e-acb87bacabd9"
      },
      "cell_type": "code",
      "source": [
        "#Evaluation\n",
        "for i in range (10):\n",
        "  Y_estimated = (forward_sigmoid(test_images_b, Wi[i])>0.5)\n",
        "  accuracy = np.sum((Y_estimated == (test_labels_original == i).reshape(-1,1)))/test_labels_original.shape[0]\n",
        "  print (\"Digit \", i, \"Accuracy\", accuracy)"
      ],
      "execution_count": 93,
      "outputs": [
        {
          "output_type": "stream",
          "text": [
            "Digit  0 Accuracy 0.9793\n",
            "Digit  1 Accuracy 0.9842\n",
            "Digit  2 Accuracy 0.9525\n",
            "Digit  3 Accuracy 0.953\n",
            "Digit  4 Accuracy 0.9573\n",
            "Digit  5 Accuracy 0.9227\n",
            "Digit  6 Accuracy 0.9732\n",
            "Digit  7 Accuracy 0.9707\n",
            "Digit  8 Accuracy 0.9082\n",
            "Digit  9 Accuracy 0.8991\n"
          ],
          "name": "stdout"
        }
      ]
    },
    {
      "metadata": {
        "id": "lj9TJlLOq73O",
        "colab_type": "text"
      },
      "cell_type": "markdown",
      "source": [
        "## Problem 2 Explore"
      ]
    },
    {
      "metadata": {
        "id": "9-wzODv-q9cF",
        "colab_type": "text"
      },
      "cell_type": "markdown",
      "source": [
        "Use logistic regression with binary cross entropy loss."
      ]
    },
    {
      "metadata": {
        "id": "KqZpFimYVBYj",
        "colab_type": "code",
        "colab": {}
      },
      "cell_type": "code",
      "source": [
        "# add bias to each instance\n",
        "m,n=train_images.shape\n",
        "train_images_b = np.c_[np.ones((m, 1)), train_images]\n",
        "\n",
        "\n",
        "# fix initial random weight for \n",
        "# - mini-batch gradient descent\n",
        "np.random.seed(42)\n",
        "initial_weight = np.random.randn(n+1, 1) "
      ],
      "execution_count": 0,
      "outputs": []
    },
    {
      "metadata": {
        "id": "iUZoYYV5p9WL",
        "colab_type": "text"
      },
      "cell_type": "markdown",
      "source": [
        "### 0 Classifier"
      ]
    },
    {
      "metadata": {
        "id": "7LdoyAoGqA8c",
        "colab_type": "code",
        "outputId": "36e676d9-3919-4f14-eb6a-13cdb80ff30a",
        "colab": {
          "base_uri": "https://localhost:8080/",
          "height": 136
        }
      },
      "cell_type": "code",
      "source": [
        "train_labels_0=train_labels_original==0\n",
        "train_labels_0=train_labels_0.astype('int')\n",
        "train_labels_0=train_labels_0.reshape(m,1)\n",
        "train_labels_0"
      ],
      "execution_count": 0,
      "outputs": [
        {
          "output_type": "execute_result",
          "data": {
            "text/plain": [
              "array([[0],\n",
              "       [1],\n",
              "       [0],\n",
              "       ...,\n",
              "       [0],\n",
              "       [0],\n",
              "       [0]])"
            ]
          },
          "metadata": {
            "tags": []
          },
          "execution_count": 128
        }
      ]
    },
    {
      "metadata": {
        "id": "bqUBglVgVPc-",
        "colab_type": "code",
        "outputId": "35b953f9-7593-4129-afe5-a53fa1a8faa3",
        "colab": {
          "base_uri": "https://localhost:8080/",
          "height": 34
        }
      },
      "cell_type": "code",
      "source": [
        "# number of epochs\n",
        "epochs = 20\n",
        "# learning rate\n",
        "lr = 0.01\n",
        "weight = initial_weight\n",
        "batch_size = 64\n",
        "\n",
        "for epoch in range(epochs):\n",
        "    shuffled_indices = np.random.permutation(m)\n",
        "    train_images_b_shuffled = train_images_b[shuffled_indices]\n",
        "    y_shuffled = train_labels_0[shuffled_indices]\n",
        "    for i in range(0, m, batch_size):\n",
        "        xi = train_images_b_shuffled[i:i+batch_size,:]\n",
        "        yi = y_shuffled[i:i+batch_size,:]\n",
        "        z=xi.dot(weight)\n",
        "        a=sigmoid(z)\n",
        "        gradient = 1/batch_size * xi.T.dot(a -yi)\n",
        "        weight = weight - lr * gradient\n",
        "\n",
        "\n",
        "y_predict = sigmoid(train_images_b[1].dot(weight))                  \n",
        "y_predict "
      ],
      "execution_count": 0,
      "outputs": [
        {
          "output_type": "execute_result",
          "data": {
            "text/plain": [
              "array([0.99999102])"
            ]
          },
          "metadata": {
            "tags": []
          },
          "execution_count": 129
        }
      ]
    },
    {
      "metadata": {
        "id": "BID_N_Q2qNpd",
        "colab_type": "text"
      },
      "cell_type": "markdown",
      "source": [
        "### Train 10 classifiers that perform binary classification"
      ]
    },
    {
      "metadata": {
        "id": "Z_LGBCrbXXyC",
        "colab_type": "code",
        "outputId": "ada11db6-71a9-4375-9580-3756a8686a80",
        "colab": {
          "base_uri": "https://localhost:8080/",
          "height": 68
        }
      },
      "cell_type": "code",
      "source": [
        "train_labels_i=np.zeros((m,10))\n",
        "for i in range(0,9):\n",
        "  \n",
        "  train_labels_i_temp=train_labels_original==i\n",
        "  train_labels_i_temp=train_labels_i_temp.astype('int')\n",
        "  train_labels_i[:,i]=train_labels_i_temp\n",
        "\n",
        "print(\"train_labels_i.shape \",train_labels_i.shape)\n",
        "train_labels_i\n",
        "\n",
        "weight_i=np.zeros((features,10))\n",
        "print(\"weight_i.shape \",weight_i.shape)\n",
        "print(\"initial_weight.shape \",initial_weight.shape)"
      ],
      "execution_count": 0,
      "outputs": [
        {
          "output_type": "stream",
          "text": [
            "train_labels_i.shape  (60000, 10)\n",
            "weight_i.shape  (785, 10)\n",
            "initial_weight.shape  (785, 1)\n"
          ],
          "name": "stdout"
        }
      ]
    },
    {
      "metadata": {
        "id": "qjx1gSKzYiPp",
        "colab_type": "code",
        "colab": {}
      },
      "cell_type": "code",
      "source": [
        "features=initial_weight.shape[0]\n",
        "weight_i=np.zeros((features,10))\n",
        "\n",
        "for dig in range(0,10):\n",
        "  weight = initial_weight\n",
        "  for epoch in range(epochs):\n",
        "      shuffled_indices = np.random.permutation(m)\n",
        "      train_images_b_shuffled = train_images_b[shuffled_indices]\n",
        "      y_shuffled = train_labels_i[:,dig][shuffled_indices]\n",
        "      y_shuffled=y_shuffled.reshape(m,1)\n",
        "      for i in range(0, m, batch_size):\n",
        "          xi = train_images_b_shuffled[i:i+batch_size,:]\n",
        "          yi = y_shuffled[i:i+batch_size,:]\n",
        "          z=xi.dot(weight)\n",
        "          a=sigmoid(z)\n",
        "          gradient = 1/batch_size * xi.T.dot(a -yi)\n",
        "          weight = weight - lr * gradient\n",
        "  \n",
        "  weight_i[:,dig]=weight.reshape(features)\n",
        "  \n",
        "\n"
      ],
      "execution_count": 0,
      "outputs": []
    },
    {
      "metadata": {
        "id": "nvDtffpjq8vd",
        "colab_type": "text"
      },
      "cell_type": "markdown",
      "source": [
        "### Evaluate predictions"
      ]
    },
    {
      "metadata": {
        "id": "PNZpXczXegXy",
        "colab_type": "code",
        "outputId": "252cd202-efa0-4031-9d56-3874e6286bdd",
        "colab": {
          "base_uri": "https://localhost:8080/",
          "height": 119
        }
      },
      "cell_type": "code",
      "source": [
        "y_predict = sigmoid(train_images_b[1].dot(weight_i))                  \n",
        "print(y_predict)\n",
        "print(y_predict.shape)\n",
        "print(\"Prediction \", np.argmax(y_predict))\n",
        "print(\"Real \", train_labels_original[1])\n"
      ],
      "execution_count": 0,
      "outputs": [
        {
          "output_type": "stream",
          "text": [
            "[9.99989021e-01 8.99393648e-14 2.02758138e-05 6.63176426e-05\n",
            " 2.90132861e-11 3.80585527e-04 1.23040999e-06 5.84885858e-08\n",
            " 9.09319506e-05 1.28432025e-14]\n",
            "(10,)\n",
            "Prediction  0\n",
            "Real  0\n"
          ],
          "name": "stdout"
        }
      ]
    },
    {
      "metadata": {
        "id": "eoE15iPWfZtw",
        "colab_type": "code",
        "outputId": "2f2937ad-6e9a-4e41-e9f0-42dc0f88a6a5",
        "colab": {
          "base_uri": "https://localhost:8080/",
          "height": 85
        }
      },
      "cell_type": "code",
      "source": [
        "# Train accuracy\n",
        "m=train_labels_original.shape[0]\n",
        "\n",
        "predicted_labels_raw=sigmoid(train_images_b.dot(weight_i))  \n",
        "print(predicted_labels_raw.shape)\n",
        "predicted_labels=np.argmax(predicted_labels_raw,axis=1)\n",
        "print(predicted_labels.shape)\n",
        "print(train_labels_original.shape)\n",
        "predicted_labels = predicted_labels.astype('uint8')\n",
        "train_labels_original=train_labels_original.astype('uint8')\n",
        "\n",
        "wrong_indices = [i for i in range(m) if predicted_labels[i] != train_labels_original[i]]\n",
        "# The quantity below is equal to the test accuracy reported by the network fit method.\n",
        "acc_train=1.0 - len(wrong_indices) / m\n",
        "print(\"Train acc= \", acc_train)"
      ],
      "execution_count": 0,
      "outputs": [
        {
          "output_type": "stream",
          "text": [
            "(60000, 10)\n",
            "(60000,)\n",
            "(60000,)\n",
            "Train acc=  0.8255833333333333\n"
          ],
          "name": "stdout"
        }
      ]
    },
    {
      "metadata": {
        "id": "2yhEQ0aSgQL5",
        "colab_type": "code",
        "outputId": "4e51773a-c1b7-41ef-cf13-443b8b00ebb8",
        "colab": {
          "base_uri": "https://localhost:8080/",
          "height": 85
        }
      },
      "cell_type": "code",
      "source": [
        "# Test accuracy\n",
        "mt=test_labels_original.shape[0]\n",
        "\n",
        "#m,n=test_images.shape\n",
        "\n",
        "test_images_b = np.c_[np.ones((mt, 1)), test_images]\n",
        "\n",
        "predicted_labels_test_raw=sigmoid(test_images_b.dot(weight_i))  \n",
        "print(predicted_labels_test_raw.shape)\n",
        "predicted_labels_test=np.argmax(predicted_labels_test_raw,axis=1)\n",
        "print(predicted_labels_test.shape)\n",
        "print(test_labels_original.shape)\n",
        "predicted_labels_test = predicted_labels_test.astype('uint8')\n",
        "test_labels_original=test_labels_original.astype('uint8')\n",
        "\n",
        "wrong_indices_test = [i for i in range(mt) if predicted_labels_test[i] != test_labels_original[i]]\n",
        "# The quantity below is equal to the test accuracy reported by the network fit method.\n",
        "acc_test=1.0 - len(wrong_indices_test) / mt\n",
        "print(\"Test acc= \",acc_test)"
      ],
      "execution_count": 0,
      "outputs": [
        {
          "output_type": "stream",
          "text": [
            "(10000, 10)\n",
            "(10000,)\n",
            "(10000,)\n",
            "Test acc=  0.8296\n"
          ],
          "name": "stdout"
        }
      ]
    },
    {
      "metadata": {
        "id": "54YHgL75dksT",
        "colab_type": "code",
        "outputId": "f7e72432-ef6a-4dd8-ae5a-8c27141f9d82",
        "colab": {
          "base_uri": "https://localhost:8080/",
          "height": 381
        }
      },
      "cell_type": "code",
      "source": [
        "# This show the ith misclassified digit. \n",
        "i = 4\n",
        "wrong_index = wrong_indices[i]\n",
        "\n",
        "print(predicted_labels[wrong_index])\n",
        "print(train_labels_original[wrong_index])\n",
        "plt.imshow(train_images_original[wrong_index])\n",
        "plt.grid(None)\n",
        "plt.show()"
      ],
      "execution_count": 0,
      "outputs": [
        {
          "output_type": "stream",
          "text": [
            "7\n",
            "2\n"
          ],
          "name": "stdout"
        },
        {
          "output_type": "display_data",
          "data": {
            "image/png": "[encoded data removed]",
            "text/plain": [
              "<Figure size 576x396 with 1 Axes>"
            ]
          },
          "metadata": {
            "tags": []
          }
        }
      ]
    },
    {
      "metadata": {
        "id": "kEVeX4ohtQU9",
        "colab_type": "text"
      },
      "cell_type": "markdown",
      "source": [
        "## Problem 2  Final Solution  --Use logistic regression with binary cross entropy loss."
      ]
    },
    {
      "metadata": {
        "id": "d20-Aj4StcHm",
        "colab_type": "code",
        "colab": {
          "base_uri": "https://localhost:8080/",
          "height": 537
        },
        "outputId": "426ddf52-3dd6-471e-d8ee-f0f47a354cbe"
      },
      "cell_type": "code",
      "source": [
        "#Train\n",
        "train_images_b, train_labels_original, test_images_b, test_labels_original=load_data()\n",
        "Y=my_own_categorical(train_labels_original)\n",
        "Wi = {}\n",
        "for i in range(10):\n",
        "  print(\"Digit \", i)\n",
        "  Wi[i] = train_model_ce(train_images_b, Y[:,i].reshape(-1,1), 0.001, 40, 20)\n"
      ],
      "execution_count": 94,
      "outputs": [
        {
          "output_type": "stream",
          "text": [
            "Digit  0\n",
            "train model ce\n",
            "Epoch  19  Loss = 0.05695659164915532\n",
            "Digit  1\n",
            "train model ce\n",
            "Epoch  19  Loss = 0.051457558118640175\n",
            "Digit  2\n",
            "train model ce\n",
            "Epoch  19  Loss = 0.1052729133237544\n",
            "Digit  3\n",
            "train model ce\n",
            "Epoch  19  Loss = 0.11818704352153626\n",
            "Digit  4\n",
            "train model ce\n",
            "Epoch  19  Loss = 0.09125737494532642\n",
            "Digit  5\n",
            "train model ce\n",
            "Epoch  19  Loss = 0.1354736858770796\n",
            "Digit  6\n",
            "train model ce\n",
            "Epoch  19  Loss = 0.06917924117635929\n",
            "Digit  7\n",
            "train model ce\n",
            "Epoch  19  Loss = 0.07542340417183543\n",
            "Digit  8\n",
            "train model ce\n",
            "Epoch  19  Loss = 0.18038318244992244\n",
            "Digit  9\n",
            "train model ce\n",
            "Epoch  19  Loss = 0.002017806186604064\n"
          ],
          "name": "stdout"
        }
      ]
    },
    {
      "metadata": {
        "id": "vMp6bJ94tjnj",
        "colab_type": "code",
        "colab": {
          "base_uri": "https://localhost:8080/",
          "height": 191
        },
        "outputId": "b7e420b5-f57b-4a7e-9d25-b85b657930cc"
      },
      "cell_type": "code",
      "source": [
        "#Evaluation\n",
        "for i in range (10):\n",
        "  Y_estimated = (forward_sigmoid(test_images_b, Wi[i])>0.5)\n",
        "  accuracy = np.sum((Y_estimated == (test_labels_original == i).reshape(-1,1)))/test_labels_original.shape[0]\n",
        "  print (\"Digit \", i, \"Accuracy\", accuracy)"
      ],
      "execution_count": 95,
      "outputs": [
        {
          "output_type": "stream",
          "text": [
            "Digit  0 Accuracy 0.9884\n",
            "Digit  1 Accuracy 0.9887\n",
            "Digit  2 Accuracy 0.9696\n",
            "Digit  3 Accuracy 0.9668\n",
            "Digit  4 Accuracy 0.9724\n",
            "Digit  5 Accuracy 0.9568\n",
            "Digit  6 Accuracy 0.9795\n",
            "Digit  7 Accuracy 0.9789\n",
            "Digit  8 Accuracy 0.9406\n",
            "Digit  9 Accuracy 0.8991\n"
          ],
          "name": "stdout"
        }
      ]
    },
    {
      "metadata": {
        "id": "EgegsyYZq-1J",
        "colab_type": "text"
      },
      "cell_type": "markdown",
      "source": [
        "## Problem 3 Explore"
      ]
    },
    {
      "metadata": {
        "id": "_Q61Phk3rAPL",
        "colab_type": "text"
      },
      "cell_type": "markdown",
      "source": [
        "- Load the training and test data using Keras, no validation set needed.\n",
        "- Create network with an input layer consisting of 28 x 28 input neurons and an output layer consisting of 10 output neurons.\n",
        "- Use softmax and categorical cross entropy loss.\n",
        "- Implement mini-batch stochastic gradient descent using only numpy, that is, you are not allowed to use TensorFlow/Keras for SGD."
      ]
    },
    {
      "metadata": {
        "id": "Qp2tI94luFoB",
        "colab_type": "code",
        "colab": {
          "base_uri": "https://localhost:8080/",
          "height": 260
        },
        "outputId": "ccd1d3eb-f413-4e0d-fd9c-5a9a41f62fcb"
      },
      "cell_type": "code",
      "source": [
        "# add bias to each instance\n",
        "m,n=train_images.shape\n",
        "train_images_b = np.c_[np.ones((m, 1)), train_images]\n",
        "\n",
        "\n",
        "train_labels_i=np.zeros((m,10))\n",
        "for i in range(0,9):\n",
        "  \n",
        "  train_labels_i_temp=train_labels_original==i\n",
        "  train_labels_i_temp=train_labels_i_temp.astype('int')\n",
        "  train_labels_i[:,i]=train_labels_i_temp\n",
        "  \n",
        "\n",
        "np.random.seed(42)\n",
        "initial_weight = np.random.randn(n+1,10) \n",
        "print(\"initial_weight.shape \",initial_weight.shape)\n",
        "print(initial_weight)"
      ],
      "execution_count": 5,
      "outputs": [
        {
          "output_type": "stream",
          "text": [
            "initial_weight.shape  (785, 10)\n",
            "[[ 0.49671415 -0.1382643   0.64768854 ...  0.76743473 -0.46947439\n",
            "   0.54256004]\n",
            " [-0.46341769 -0.46572975  0.24196227 ...  0.31424733 -0.90802408\n",
            "  -1.4123037 ]\n",
            " [ 1.46564877 -0.2257763   0.0675282  ...  0.37569802 -0.60063869\n",
            "  -0.29169375]\n",
            " ...\n",
            " [ 0.59899634  0.85334898 -0.49419002 ... -0.22093172  0.19112423\n",
            "  -1.14970747]\n",
            " [-0.19360951  0.7445864   0.64194713 ... -0.07782144 -0.27595145\n",
            "  -0.36172384]\n",
            " [-0.06289387 -0.44787764  0.65814304 ...  0.06970427 -0.65065662\n",
            "  -0.32664756]]\n"
          ],
          "name": "stdout"
        }
      ]
    },
    {
      "metadata": {
        "id": "K5whn05F_5NX",
        "colab_type": "code",
        "colab": {}
      },
      "cell_type": "code",
      "source": [
        "def softmax(z):\n",
        "  z_exp=np.exp(z-np.max(z))\n",
        "  #rint(z_exp.shape)\n",
        "  #rint(z_exp)\n",
        "  total=np.sum(z_exp,axis=1)\n",
        "  #rint(total.shape)\n",
        "  #rint(total)\n",
        "  return z_exp/total.reshape(z_exp.shape[0],1)"
      ],
      "execution_count": 0,
      "outputs": []
    },
    {
      "metadata": {
        "id": "TnpzegIRURLQ",
        "colab_type": "code",
        "colab": {}
      },
      "cell_type": "code",
      "source": [
        "def softmax2(z):\n",
        "  z_exp=np.exp(z-np.max(z))\n",
        "  #rint(z_exp.shape)\n",
        "  #rint(z_exp)\n",
        "  total=np.sum(z_exp)\n",
        "  #rint(total.shape)\n",
        "  #rint(total)\n",
        "  return z_exp/total"
      ],
      "execution_count": 0,
      "outputs": []
    },
    {
      "metadata": {
        "id": "nRHEmf7cBuSH",
        "colab_type": "code",
        "colab": {}
      },
      "cell_type": "code",
      "source": [
        "test=np.random.randn(12,4) \n",
        "test.dtype\n",
        "a=softmax(test)\n",
        "#print(a)\n",
        "#print(np.sum(a,axis=1))"
      ],
      "execution_count": 0,
      "outputs": []
    },
    {
      "metadata": {
        "id": "d-10ODYjMyx9",
        "colab_type": "code",
        "colab": {}
      },
      "cell_type": "code",
      "source": [
        "o=np.ones((3,3))-np.arange(3)\n",
        "#print(o)\n",
        "ii=np.eye(3)\n",
        "#print(ii)"
      ],
      "execution_count": 0,
      "outputs": []
    },
    {
      "metadata": {
        "id": "475ob8Mt9LYH",
        "colab_type": "code",
        "colab": {}
      },
      "cell_type": "code",
      "source": [
        "\n",
        "# number of epochs\n",
        "epochs = 20\n",
        "# learning rate\n",
        "lr = 0.001\n",
        "weight = initial_weight\n",
        "batch_size = 40\n",
        "\n",
        "dz=np.zeros((batch_size,10))\n",
        "for epoch in range(epochs):\n",
        "    shuffled_indices = np.random.permutation(m)\n",
        "    train_images_b_shuffled = train_images_b[shuffled_indices]\n",
        "    y_shuffled = train_labels_i[shuffled_indices]\n",
        "   \n",
        "    for i in range(0, m, batch_size):\n",
        "        xi = train_images_b_shuffled[i:i+batch_size,:]\n",
        "        yi = y_shuffled[i:i+batch_size,:]\n",
        "        z=xi.dot(weight)\n",
        "        a=softmax(z)\n",
        "        #for j in range(0,batch_size):\n",
        "          #ytemp=y_shuffled[j,:]\n",
        "          #print(ytemp.shape)\n",
        "          #difftemp=(a[j,:].reshape(1,10)-np.eye(10))\n",
        "          #print(difftemp.shape)\n",
        "          \n",
        "          #dz[j,:]=ytemp.reshape(1,10).dot(difftemp)\n",
        "        dz= (a - yi) \n",
        "        gradient = 1/batch_size * xi.T.dot(dz)\n",
        "        weight = weight - lr * gradient\n",
        "\n",
        " "
      ],
      "execution_count": 0,
      "outputs": []
    },
    {
      "metadata": {
        "id": "N_7nC0MJTjDN",
        "colab_type": "code",
        "colab": {
          "base_uri": "https://localhost:8080/",
          "height": 69
        },
        "outputId": "a9697bdd-b14d-4fd5-9cbf-a1b7b71ca11f"
      },
      "cell_type": "code",
      "source": [
        "y_predict = softmax2(train_images_b[1].dot(weight))                  \n",
        "y_predict"
      ],
      "execution_count": 80,
      "outputs": [
        {
          "output_type": "execute_result",
          "data": {
            "text/plain": [
              "array([9.89108169e-01, 2.52230288e-05, 4.32013323e-04, 1.06590485e-03,\n",
              "       1.44552103e-05, 7.85054960e-03, 5.68801216e-04, 2.87807920e-04,\n",
              "       5.24612445e-04, 1.22463385e-04])"
            ]
          },
          "metadata": {
            "tags": []
          },
          "execution_count": 80
        }
      ]
    },
    {
      "metadata": {
        "id": "oA2lJ_u68KRF",
        "colab_type": "code",
        "colab": {
          "base_uri": "https://localhost:8080/",
          "height": 87
        },
        "outputId": "33be5c4c-3b90-45fd-edb6-8103b172dc7b"
      },
      "cell_type": "code",
      "source": [
        "\n",
        "\n",
        "# Test accuracy\n",
        "mt=test_labels_original.shape[0]\n",
        "\n",
        "#m,n=test_images.shape\n",
        "\n",
        "test_images_b = np.c_[np.ones((mt, 1)), test_images]\n",
        "\n",
        "predicted_labels_test_raw=softmax2(test_images_b.dot(weight))  \n",
        "print(predicted_labels_test_raw.shape)\n",
        "predicted_labels_test=np.argmax(predicted_labels_test_raw,axis=1)\n",
        "print(predicted_labels_test.shape)\n",
        "print(test_labels_original.shape)\n",
        "predicted_labels_test = predicted_labels_test.astype('uint8')\n",
        "test_labels_original=test_labels_original.astype('uint8')\n",
        "\n",
        "wrong_indices_test = [i for i in range(mt) if predicted_labels_test[i] != test_labels_original[i]]\n",
        "# The quantity below is equal to the test accuracy reported by the network fit method.\n",
        "acc_test=1.0 - len(wrong_indices_test) / mt\n",
        "print(\"Test acc= \",acc_test)\n",
        "             "
      ],
      "execution_count": 82,
      "outputs": [
        {
          "output_type": "stream",
          "text": [
            "(10000, 10)\n",
            "(10000,)\n",
            "(10000,)\n",
            "Test acc=  0.8113\n"
          ],
          "name": "stdout"
        }
      ]
    },
    {
      "metadata": {
        "id": "HuFfxil3uLjQ",
        "colab_type": "text"
      },
      "cell_type": "markdown",
      "source": [
        "## Problem 3 Final Solution --Use softmax and categorical cross entropy loss."
      ]
    },
    {
      "metadata": {
        "id": "WQZ5PrrcuOtC",
        "colab_type": "code",
        "colab": {
          "base_uri": "https://localhost:8080/",
          "height": 52
        },
        "outputId": "c8bc4230-2b4b-4fb0-ea52-473e06e6eb9f"
      },
      "cell_type": "code",
      "source": [
        "#Train\n",
        "train_images_b, train_labels_original, test_images_b, test_labels_original=load_data()\n",
        "Y=my_own_categorical(train_labels_original)\n",
        "\n",
        "\n",
        "W= train_model_cc(train_images_b, Y, 0.001, 40, 20)"
      ],
      "execution_count": 110,
      "outputs": [
        {
          "output_type": "stream",
          "text": [
            "train model cc\n",
            "Epoch  19  Loss = 0.4406921995019692\n"
          ],
          "name": "stdout"
        }
      ]
    },
    {
      "metadata": {
        "id": "o9rWBrHnvPsc",
        "colab_type": "code",
        "colab": {
          "base_uri": "https://localhost:8080/",
          "height": 35
        },
        "outputId": "a0f0b436-b3e8-4ce3-ae0c-382c26ee8662"
      },
      "cell_type": "code",
      "source": [
        "#Evaluation\n",
        "y_est = forward_softmax(test_images_b, W)\n",
        "Y_est = np.argmax(y_est, axis = 1)\n",
        "accuracy = np.sum(Y_est == test_labels_original)/test_labels_original.shape[0]\n",
        "\n",
        "print (\"Accuracy \",accuracy)\n",
        "\n"
      ],
      "execution_count": 112,
      "outputs": [
        {
          "output_type": "stream",
          "text": [
            "Accuracy  0.893\n"
          ],
          "name": "stdout"
        }
      ]
    },
    {
      "metadata": {
        "id": "T7qUFZYd0wOH",
        "colab_type": "text"
      },
      "cell_type": "markdown",
      "source": [
        "##Loading the MNIST digits data set, and implement functions for P4,P5"
      ]
    },
    {
      "metadata": {
        "id": "7fToY8WB053r",
        "colab_type": "code",
        "colab": {}
      },
      "cell_type": "code",
      "source": [
        "from keras.utils import to_categorical\n",
        "from keras import models\n",
        "from keras import layers\n",
        "\n",
        "import numpy as np"
      ],
      "execution_count": 0,
      "outputs": []
    },
    {
      "metadata": {
        "id": "ewdmy7mK07HQ",
        "colab_type": "code",
        "colab": {}
      },
      "cell_type": "code",
      "source": [
        "def load_data_no_b():\n",
        "  (train_images_original, train_labels_original), (test_images_original, test_labels_original) = mnist.load_data()\n",
        "  train_images = train_images_original.reshape(train_images_original.shape[0], -1)/255\n",
        "  #train_images = train_images.astype('float32') / 255\n",
        "\n",
        "  test_images = test_images_original.reshape(test_images_original.shape[0], -1)/255\n",
        "  #test_images = test_images.astype('float32') / 255\n",
        "  \n",
        "  \n",
        "  return train_images, train_labels_original, test_images, test_labels_original\n",
        "\n",
        "def Safe(r,c, i, j, visited,im): \n",
        "  return (i >= 0 and i < r and \n",
        "            j >= 0 and j < c and \n",
        "            not visited[i][j] and im[i][j]) \n",
        "def DFS(r,c,i, j, visited,im): \n",
        "    rowNbr = [-1, -1, -1,  0, 0,  1, 1, 1]; \n",
        "    colNbr = [-1,  0,  1, -1, 1, -1, 0, 1]; \n",
        "\n",
        "    visited[i][j] = True\n",
        "    for k in range(8): \n",
        "        if Safe(r,c,i + rowNbr[k], j + colNbr[k], visited,im): \n",
        "            DFS(r,c,i + rowNbr[k], j + colNbr[k], visited,im) \n",
        "\n",
        "def countCC(r,c,im): \n",
        "\n",
        "    visited = [[False for j in range(c)]for i in range(r)] \n",
        "    count = 0\n",
        "    for i in range(r): \n",
        "        for j in range(c): \n",
        "            if visited[i][j] == False and im[i][j] ==1: \n",
        "                DFS(r,c,i, j, visited,im) \n",
        "                count += 1\n",
        "\n",
        "    return count "
      ],
      "execution_count": 0,
      "outputs": []
    },
    {
      "metadata": {
        "id": "OkRdYiAYrCOk",
        "colab_type": "text"
      },
      "cell_type": "markdown",
      "source": [
        "## Problem 4 Explore"
      ]
    },
    {
      "metadata": {
        "id": "SGl9vN-prDrl",
        "colab_type": "text"
      },
      "cell_type": "markdown",
      "source": [
        "Reimplement the network from Problem 3 entirely in Keras.\n",
        "\n",
        "\n",
        "\n",
        "\n"
      ]
    },
    {
      "metadata": {
        "id": "Qeinh8WnwqpB",
        "colab_type": "text"
      },
      "cell_type": "markdown",
      "source": [
        "### Preparing the labels"
      ]
    },
    {
      "metadata": {
        "id": "dbexMEv3wvHt",
        "colab_type": "code",
        "colab": {}
      },
      "cell_type": "code",
      "source": [
        "\n",
        "train_labels = to_categorical(train_labels_original)\n",
        "test_labels = to_categorical(test_labels_original)"
      ],
      "execution_count": 0,
      "outputs": []
    },
    {
      "metadata": {
        "id": "-HNCFav2v77P",
        "colab_type": "code",
        "outputId": "372cabfa-635e-4e19-e3be-889e4815bcb4",
        "colab": {
          "base_uri": "https://localhost:8080/",
          "height": 34
        }
      },
      "cell_type": "code",
      "source": [
        "train_labels.shape"
      ],
      "execution_count": 0,
      "outputs": [
        {
          "output_type": "execute_result",
          "data": {
            "text/plain": [
              "(60000, 10)"
            ]
          },
          "metadata": {
            "tags": []
          },
          "execution_count": 25
        }
      ]
    },
    {
      "metadata": {
        "id": "NX5IdrQ9xGb0",
        "colab_type": "code",
        "outputId": "f18f4a13-8b69-40e3-dc50-f18e2d60e8b5",
        "colab": {
          "base_uri": "https://localhost:8080/",
          "height": 34
        }
      },
      "cell_type": "code",
      "source": [
        "train_labels_original.shape"
      ],
      "execution_count": 0,
      "outputs": [
        {
          "output_type": "execute_result",
          "data": {
            "text/plain": [
              "(60000,)"
            ]
          },
          "metadata": {
            "tags": []
          },
          "execution_count": 26
        }
      ]
    },
    {
      "metadata": {
        "id": "bWB0peaOxMOZ",
        "colab_type": "code",
        "outputId": "6f371ee7-054b-4416-91fd-f435cd94b262",
        "colab": {
          "base_uri": "https://localhost:8080/",
          "height": 34
        }
      },
      "cell_type": "code",
      "source": [
        "np.argmax(train_labels[0])"
      ],
      "execution_count": 0,
      "outputs": [
        {
          "output_type": "execute_result",
          "data": {
            "text/plain": [
              "5"
            ]
          },
          "metadata": {
            "tags": []
          },
          "execution_count": 27
        }
      ]
    },
    {
      "metadata": {
        "id": "nKZtzr8vxNna",
        "colab_type": "code",
        "outputId": "7da9ac23-c780-4788-fc24-d8544e9ded84",
        "colab": {
          "base_uri": "https://localhost:8080/",
          "height": 34
        }
      },
      "cell_type": "code",
      "source": [
        "train_labels_original[0]"
      ],
      "execution_count": 0,
      "outputs": [
        {
          "output_type": "execute_result",
          "data": {
            "text/plain": [
              "5"
            ]
          },
          "metadata": {
            "tags": []
          },
          "execution_count": 28
        }
      ]
    },
    {
      "metadata": {
        "id": "VQznbkqWxfYr",
        "colab_type": "text"
      },
      "cell_type": "markdown",
      "source": [
        "### The network architecture"
      ]
    },
    {
      "metadata": {
        "id": "G3Qw-zXgxh0v",
        "colab_type": "code",
        "outputId": "b7c2892d-817d-4351-817d-0c037eb65bd5",
        "colab": {
          "base_uri": "https://localhost:8080/",
          "height": 275
        }
      },
      "cell_type": "code",
      "source": [
        "network = models.Sequential()\n",
        "network.add(layers.Dense(512, activation='relu', input_shape=(28 * 28,)))\n",
        "network.add(layers.Dense(10, activation='softmax'))\n",
        "network.summary()"
      ],
      "execution_count": 0,
      "outputs": [
        {
          "output_type": "stream",
          "text": [
            "WARNING:tensorflow:From /usr/local/lib/python3.6/dist-packages/tensorflow/python/framework/op_def_library.py:263: colocate_with (from tensorflow.python.framework.ops) is deprecated and will be removed in a future version.\n",
            "Instructions for updating:\n",
            "Colocations handled automatically by placer.\n",
            "_________________________________________________________________\n",
            "Layer (type)                 Output Shape              Param #   \n",
            "=================================================================\n",
            "dense_1 (Dense)              (None, 512)               401920    \n",
            "_________________________________________________________________\n",
            "dense_2 (Dense)              (None, 10)                5130      \n",
            "=================================================================\n",
            "Total params: 407,050\n",
            "Trainable params: 407,050\n",
            "Non-trainable params: 0\n",
            "_________________________________________________________________\n"
          ],
          "name": "stdout"
        }
      ]
    },
    {
      "metadata": {
        "id": "Ao_vyUBkxp-9",
        "colab_type": "text"
      },
      "cell_type": "markdown",
      "source": [
        "### The compilation step"
      ]
    },
    {
      "metadata": {
        "id": "PctuyouVxtGF",
        "colab_type": "code",
        "colab": {}
      },
      "cell_type": "code",
      "source": [
        "network.compile(optimizer='rmsprop',\n",
        "                loss='categorical_crossentropy',\n",
        "                metrics=['accuracy'])"
      ],
      "execution_count": 0,
      "outputs": []
    },
    {
      "metadata": {
        "id": "VmA2OacpxwoL",
        "colab_type": "text"
      },
      "cell_type": "markdown",
      "source": [
        "### The training step"
      ]
    },
    {
      "metadata": {
        "id": "YnKio_vQxw9G",
        "colab_type": "code",
        "outputId": "4dcb179a-030d-4122-d624-20e1d6b70dfa",
        "colab": {
          "base_uri": "https://localhost:8080/",
          "height": 445
        }
      },
      "cell_type": "code",
      "source": [
        "epochs = 10\n",
        "history = network.fit(train_images, \n",
        "                      train_labels, \n",
        "                      epochs=epochs, \n",
        "                      batch_size=128, \n",
        "                      validation_data=(test_images, test_labels))"
      ],
      "execution_count": 0,
      "outputs": [
        {
          "output_type": "stream",
          "text": [
            "WARNING:tensorflow:From /usr/local/lib/python3.6/dist-packages/tensorflow/python/ops/math_ops.py:3066: to_int32 (from tensorflow.python.ops.math_ops) is deprecated and will be removed in a future version.\n",
            "Instructions for updating:\n",
            "Use tf.cast instead.\n",
            "Train on 60000 samples, validate on 10000 samples\n",
            "Epoch 1/10\n",
            "60000/60000 [==============================] - 3s 46us/step - loss: 0.2580 - acc: 0.9245 - val_loss: 0.1218 - val_acc: 0.9635\n",
            "Epoch 2/10\n",
            "60000/60000 [==============================] - 2s 34us/step - loss: 0.1056 - acc: 0.9684 - val_loss: 0.0910 - val_acc: 0.9722\n",
            "Epoch 3/10\n",
            "60000/60000 [==============================] - 2s 35us/step - loss: 0.0698 - acc: 0.9794 - val_loss: 0.0758 - val_acc: 0.9766\n",
            "Epoch 4/10\n",
            "60000/60000 [==============================] - 2s 35us/step - loss: 0.0502 - acc: 0.9844 - val_loss: 0.0720 - val_acc: 0.9785\n",
            "Epoch 5/10\n",
            "60000/60000 [==============================] - 2s 35us/step - loss: 0.0382 - acc: 0.9888 - val_loss: 0.0762 - val_acc: 0.9775\n",
            "Epoch 6/10\n",
            "60000/60000 [==============================] - 2s 34us/step - loss: 0.0288 - acc: 0.9914 - val_loss: 0.0727 - val_acc: 0.9803\n",
            "Epoch 7/10\n",
            "60000/60000 [==============================] - 2s 35us/step - loss: 0.0221 - acc: 0.9935 - val_loss: 0.0742 - val_acc: 0.9787\n",
            "Epoch 8/10\n",
            "60000/60000 [==============================] - 2s 35us/step - loss: 0.0176 - acc: 0.9949 - val_loss: 0.0624 - val_acc: 0.9824\n",
            "Epoch 9/10\n",
            "60000/60000 [==============================] - 2s 35us/step - loss: 0.0133 - acc: 0.9961 - val_loss: 0.0733 - val_acc: 0.9817\n",
            "Epoch 10/10\n",
            "60000/60000 [==============================] - 2s 35us/step - loss: 0.0104 - acc: 0.9970 - val_loss: 0.0686 - val_acc: 0.9828\n"
          ],
          "name": "stdout"
        }
      ]
    },
    {
      "metadata": {
        "id": "S6s1tNdwxxuI",
        "colab_type": "text"
      },
      "cell_type": "markdown",
      "source": [
        "### Display the training/test loss/accuracy"
      ]
    },
    {
      "metadata": {
        "id": "dYeQuqVdxyDw",
        "colab_type": "code",
        "outputId": "93965c57-51aa-418d-cf7e-d4b185ec775f",
        "colab": {
          "base_uri": "https://localhost:8080/",
          "height": 376
        }
      },
      "cell_type": "code",
      "source": [
        "history_dict = history.history\n",
        "loss_values = history_dict['loss']\n",
        "test_loss_values = history_dict['val_loss']\n",
        "epochs_range = range(1, epochs + 1)\n",
        "plt.plot(epochs_range, loss_values, 'bo', label='Training loss')\n",
        "plt.plot(epochs_range, test_loss_values, 'ro', label='Test loss')\n",
        "plt.title('Training and test loss')\n",
        "plt.xlabel('Epochs')\n",
        "plt.ylabel('Loss')\n",
        "plt.legend()\n",
        "plt.show()"
      ],
      "execution_count": 0,
      "outputs": [
        {
          "output_type": "display_data",
          "data": {
            "image/png": "[encoded data removed]",
            "text/plain": [
              "<Figure size 576x396 with 1 Axes>"
            ]
          },
          "metadata": {
            "tags": []
          }
        }
      ]
    },
    {
      "metadata": {
        "id": "HeFiu62sx_NX",
        "colab_type": "code",
        "colab": {}
      },
      "cell_type": "code",
      "source": [
        "acc_values = history_dict['acc']\n",
        "test_acc_values = history_dict['val_acc']"
      ],
      "execution_count": 0,
      "outputs": []
    },
    {
      "metadata": {
        "id": "CD-1lE83yA9G",
        "colab_type": "code",
        "outputId": "6dc9ecb0-a856-4a53-83de-5e4d74720159",
        "colab": {
          "base_uri": "https://localhost:8080/",
          "height": 376
        }
      },
      "cell_type": "code",
      "source": [
        "plt.plot(epochs_range, acc_values, 'bo', label='Training accuracy')\n",
        "plt.plot(epochs_range, test_acc_values, 'ro', label='Test accuracy')\n",
        "plt.title('Training and test accuracy')\n",
        "plt.xlabel('Epochs')\n",
        "plt.ylabel('Accuracy')\n",
        "plt.legend()\n",
        "plt.show()"
      ],
      "execution_count": 0,
      "outputs": [
        {
          "output_type": "display_data",
          "data": {
            "image/png": "[encoded data removed]",
            "text/plain": [
              "<Figure size 576x396 with 1 Axes>"
            ]
          },
          "metadata": {
            "tags": []
          }
        }
      ]
    },
    {
      "metadata": {
        "id": "scL94Os91sB2",
        "colab_type": "text"
      },
      "cell_type": "markdown",
      "source": [
        "## Problem 4 Final Solution --Reimplement the network from Problem 3 entirely in Keras."
      ]
    },
    {
      "metadata": {
        "id": "g0y6bFtL1wD0",
        "colab_type": "code",
        "colab": {
          "base_uri": "https://localhost:8080/",
          "height": 572
        },
        "outputId": "3d7b40d9-b162-4165-8be5-233f8878984c"
      },
      "cell_type": "code",
      "source": [
        "#Train\n",
        "train_images, train_labels_original, test_images, test_labels_original=load_data_no_b()\n",
        "\n",
        "train_labels = to_categorical(train_labels_original)\n",
        "test_labels = to_categorical(test_labels_original)\n",
        "\n",
        "network = models.Sequential()\n",
        "network.add(layers.Dense(512, activation='relu', input_shape=(28 * 28,)))\n",
        "network.add(layers.Dense(10, activation='softmax'))\n",
        "network.summary()\n",
        "\n",
        "network.compile(optimizer='rmsprop',\n",
        "                loss='categorical_crossentropy',\n",
        "                metrics=['accuracy'])\n",
        "\n",
        "epochs = 10\n",
        "history = network.fit(train_images, \n",
        "                      train_labels, \n",
        "                      epochs=epochs, \n",
        "                      batch_size=128, \n",
        "                      validation_data=(test_images, test_labels))\n",
        "\n"
      ],
      "execution_count": 120,
      "outputs": [
        {
          "output_type": "stream",
          "text": [
            "_________________________________________________________________\n",
            "Layer (type)                 Output Shape              Param #   \n",
            "=================================================================\n",
            "dense_17 (Dense)             (None, 512)               401920    \n",
            "_________________________________________________________________\n",
            "dense_18 (Dense)             (None, 10)                5130      \n",
            "=================================================================\n",
            "Total params: 407,050\n",
            "Trainable params: 407,050\n",
            "Non-trainable params: 0\n",
            "_________________________________________________________________\n",
            "Train on 60000 samples, validate on 10000 samples\n",
            "Epoch 1/10\n",
            "60000/60000 [==============================] - 3s 42us/step - loss: 0.2575 - acc: 0.9245 - val_loss: 0.1501 - val_acc: 0.9551\n",
            "Epoch 2/10\n",
            "60000/60000 [==============================] - 2s 37us/step - loss: 0.1047 - acc: 0.9691 - val_loss: 0.0966 - val_acc: 0.9703\n",
            "Epoch 3/10\n",
            "60000/60000 [==============================] - 2s 38us/step - loss: 0.0693 - acc: 0.9791 - val_loss: 0.0754 - val_acc: 0.9767\n",
            "Epoch 4/10\n",
            "60000/60000 [==============================] - 2s 37us/step - loss: 0.0501 - acc: 0.9850 - val_loss: 0.0663 - val_acc: 0.9805\n",
            "Epoch 5/10\n",
            "60000/60000 [==============================] - 2s 37us/step - loss: 0.0375 - acc: 0.9888 - val_loss: 0.0872 - val_acc: 0.9746\n",
            "Epoch 6/10\n",
            "60000/60000 [==============================] - 2s 37us/step - loss: 0.0290 - acc: 0.9915 - val_loss: 0.0659 - val_acc: 0.9803\n",
            "Epoch 7/10\n",
            "60000/60000 [==============================] - 2s 37us/step - loss: 0.0226 - acc: 0.9929 - val_loss: 0.0650 - val_acc: 0.9811\n",
            "Epoch 8/10\n",
            "60000/60000 [==============================] - 2s 37us/step - loss: 0.0171 - acc: 0.9949 - val_loss: 0.0658 - val_acc: 0.9821\n",
            "Epoch 9/10\n",
            "60000/60000 [==============================] - 2s 37us/step - loss: 0.0136 - acc: 0.9960 - val_loss: 0.0661 - val_acc: 0.9824\n",
            "Epoch 10/10\n",
            "60000/60000 [==============================] - 2s 37us/step - loss: 0.0097 - acc: 0.9972 - val_loss: 0.0742 - val_acc: 0.9799\n"
          ],
          "name": "stdout"
        }
      ]
    },
    {
      "metadata": {
        "id": "qZ4-DEpC104P",
        "colab_type": "code",
        "colab": {
          "base_uri": "https://localhost:8080/",
          "height": 72
        },
        "outputId": "af00f1b6-7462-4e1f-8e3c-fe08df5cf35c"
      },
      "cell_type": "code",
      "source": [
        "#Eval\n",
        "history_dict = history.history\n",
        "print(history_dict['acc'])\n",
        "print(history_dict['val_acc'])\n"
      ],
      "execution_count": 121,
      "outputs": [
        {
          "output_type": "stream",
          "text": [
            "[0.9245333333333333, 0.9691333333015442, 0.9790833333651224, 0.985, 0.9888, 0.9914833333333334, 0.9928999999682109, 0.9949333333333333, 0.99595, 0.9971833333651224]\n",
            "[0.9551, 0.9703, 0.9767, 0.9805, 0.9746, 0.9803, 0.9811, 0.9821, 0.9824, 0.9799]\n"
          ],
          "name": "stdout"
        }
      ]
    },
    {
      "metadata": {
        "id": "H0Pxsd4zrFrY",
        "colab_type": "text"
      },
      "cell_type": "markdown",
      "source": [
        "## Problem 5"
      ]
    },
    {
      "metadata": {
        "id": "AjOrlv9zrG-F",
        "colab_type": "text"
      },
      "cell_type": "markdown",
      "source": [
        "Extend the network from Problem 4 by adding new features.\n",
        "- Round the grey values of the images to 1 and 0 so you obtain black and white images. Add as an additional feature the number of white regions. For instance, a typical 0 has 2 white regions and 8 has 3. Use the following neighborhoods for pixels:\n",
        "\n",
        "```\n",
        "pixel x,y (indicated by .) is connected to its neighbors (indicated by o):\n",
        "\n",
        " o\n",
        "o.o  \n",
        " o\n",
        " \n",
        "ooo\n",
        "o.o\n",
        "ooo\n",
        "```\n",
        "- Consider the width.\n",
        "- Consider the height.\n",
        "- Come up with other features.\n",
        "\n",
        "You should normalize your new features so that they are at the same scale as the pixel values (between 0 and 1)."
      ]
    },
    {
      "metadata": {
        "id": "eRbjZwOQrJP9",
        "colab_type": "code",
        "colab": {}
      },
      "cell_type": "code",
      "source": [
        "(train_images_original, train_labels_original), (test_images_original, test_labels_original) = mnist.load_data()\n",
        "train_images = train_images_original.reshape((60000, 28 * 28))\n",
        "train_images_b = (train_images.astype('float32') / 255 > 0.5)*1\n",
        "\n",
        "test_images = test_images_original.reshape((10000, 28 * 28))\n",
        "test_images_b = (test_images.astype('float32') / 255 > 0.5)*1\n",
        "  \n",
        "\n",
        "  \n",
        "train_labels = to_categorical(train_labels_original)\n",
        "test_labels = to_categorical(test_labels_original)\n",
        "\n",
        "\n",
        "\n",
        "\n"
      ],
      "execution_count": 0,
      "outputs": []
    },
    {
      "metadata": {
        "id": "gwg1m6goCwfY",
        "colab_type": "code",
        "colab": {
          "base_uri": "https://localhost:8080/",
          "height": 1025
        },
        "outputId": "fed821cf-7e46-4633-855b-4eb8e82ab18f"
      },
      "cell_type": "code",
      "source": [
        "#im = filters.threshold_otsu(train_images[0])\n",
        "#print(train_images[0])\n",
        "plt.imshow(train_images_b[1].reshape(( 28 ,28)))\n",
        "plt.grid(None)\n",
        "plt.show()\n",
        "plt.imshow(train_images_b[30198].reshape(( 28 ,28)))\n",
        "plt.grid(None)\n",
        "plt.show()\n",
        "\n",
        "plt.imshow(train_images[30198].reshape(( 28 ,28)))\n",
        "plt.grid(None)\n",
        "plt.show()\n",
        "train_images[0].shape"
      ],
      "execution_count": 39,
      "outputs": [
        {
          "output_type": "display_data",
          "data": {
            "image/png": "[encoded data removed]",
            "text/plain": [
              "<Figure size 576x396 with 1 Axes>"
            ]
          },
          "metadata": {
            "tags": []
          }
        },
        {
          "output_type": "display_data",
          "data": {
            "image/png": "[encoded data removed]",
            "text/plain": [
              "<Figure size 576x396 with 1 Axes>"
            ]
          },
          "metadata": {
            "tags": []
          }
        },
        {
          "output_type": "display_data",
          "data": {
            "image/png": "[encoded data removed]",
            "text/plain": [
              "<Figure size 576x396 with 1 Axes>"
            ]
          },
          "metadata": {
            "tags": []
          }
        },
        {
          "output_type": "execute_result",
          "data": {
            "text/plain": [
              "(784,)"
            ]
          },
          "metadata": {
            "tags": []
          },
          "execution_count": 39
        }
      ]
    },
    {
      "metadata": {
        "id": "405x9SxHFNAu",
        "colab_type": "code",
        "colab": {
          "base_uri": "https://localhost:8080/",
          "height": 35
        },
        "outputId": "613ed1b1-bb58-45ed-9d67-00685ec2c490"
      },
      "cell_type": "code",
      "source": [
        " \n",
        "def Safe(r,c, i, j, visited,im): \n",
        "  return (i >= 0 and i < r and \n",
        "            j >= 0 and j < c and \n",
        "            not visited[i][j] and im[i][j]) \n",
        "def DFS(r,c,i, j, visited,im): \n",
        "    rowNbr = [-1, -1, -1,  0, 0,  1, 1, 1]; \n",
        "    colNbr = [-1,  0,  1, -1, 1, -1, 0, 1]; \n",
        "\n",
        "    visited[i][j] = True\n",
        "    for k in range(8): \n",
        "        if Safe(r,c,i + rowNbr[k], j + colNbr[k], visited,im): \n",
        "            DFS(r,c,i + rowNbr[k], j + colNbr[k], visited,im) \n",
        "\n",
        "def countCC(r,c,im): \n",
        "\n",
        "    visited = [[False for j in range(c)]for i in range(r)] \n",
        "    count = 0\n",
        "    for i in range(r): \n",
        "        for j in range(c): \n",
        "            if visited[i][j] == False and im[i][j] ==1: \n",
        "                DFS(r,c,i, j, visited,im) \n",
        "                count += 1\n",
        "\n",
        "    return count \n",
        "im=1-train_images[1].reshape(( 28 ,28))\n",
        "row = len(im) \n",
        "col = len(im[0]) \n",
        "  \n",
        "\n",
        "countCC(row,col,1-train_images_b[1].reshape(( 28 ,28))) \n"
      ],
      "execution_count": 40,
      "outputs": [
        {
          "output_type": "execute_result",
          "data": {
            "text/plain": [
              "2"
            ]
          },
          "metadata": {
            "tags": []
          },
          "execution_count": 40
        }
      ]
    },
    {
      "metadata": {
        "id": "693WGupSP_is",
        "colab_type": "code",
        "colab": {}
      },
      "cell_type": "code",
      "source": [
        "m,n=train_images_b.shape\n",
        "new_feature_w_region=np.zeros((m,1))\n",
        "for i in range(0,m):\n",
        "  new_feature_w_region[i,0]=countCC(row,col,1-train_images_b[i].reshape(( 28 ,28))) "
      ],
      "execution_count": 0,
      "outputs": []
    },
    {
      "metadata": {
        "id": "-vrVO0X-HaXE",
        "colab_type": "code",
        "colab": {
          "base_uri": "https://localhost:8080/",
          "height": 989
        },
        "outputId": "86f4cb9a-7ac3-4ea2-be95-0cefa99ce81c"
      },
      "cell_type": "code",
      "source": [
        "new_feature_w_region.shape\n",
        "print(new_feature_w_region)\n",
        "print(new_feature_w_region.shape)\n",
        "print(max(new_feature_w_region))\n",
        "new_feature_w_region_n=new_feature_w_region/max(new_feature_w_region)\n",
        "print(new_feature_w_region_n)\n",
        "ind=np.argmax(new_feature_w_region)\n",
        "print(ind)\n",
        "plt.imshow(train_images_b[ind].reshape(( 28 ,28)))\n",
        "plt.grid(None)\n",
        "plt.show()\n",
        "\n",
        "eight=train_labels_original==8\n",
        "ind_8=np.argmax(eight)\n",
        "plt.imshow(train_images_b[ind_8].reshape(( 28 ,28)))\n",
        "plt.grid(None)\n",
        "plt.show()\n",
        "cc_8=countCC(row,col,1-train_images_b[ind_8].reshape(( 28 ,28))) \n",
        "print(cc_8)"
      ],
      "execution_count": 43,
      "outputs": [
        {
          "output_type": "stream",
          "text": [
            "[[1.]\n",
            " [2.]\n",
            " [1.]\n",
            " ...\n",
            " [1.]\n",
            " [1.]\n",
            " [3.]]\n",
            "(60000, 1)\n",
            "[5.]\n",
            "[[0.2]\n",
            " [0.4]\n",
            " [0.2]\n",
            " ...\n",
            " [0.2]\n",
            " [0.2]\n",
            " [0.6]]\n",
            "7290\n"
          ],
          "name": "stdout"
        },
        {
          "output_type": "display_data",
          "data": {
            "image/png": "[encoded data removed]",
            "text/plain": [
              "<Figure size 576x396 with 1 Axes>"
            ]
          },
          "metadata": {
            "tags": []
          }
        },
        {
          "output_type": "display_data",
          "data": {
            "image/png": "[encoded data removed]",
            "text/plain": [
              "<Figure size 576x396 with 1 Axes>"
            ]
          },
          "metadata": {
            "tags": []
          }
        },
        {
          "output_type": "stream",
          "text": [
            "3\n"
          ],
          "name": "stdout"
        }
      ]
    },
    {
      "metadata": {
        "id": "IIJuAdHBHdXP",
        "colab_type": "code",
        "colab": {}
      },
      "cell_type": "code",
      "source": [
        "#train_images_ext=np.c_[new_feature_w_region_n,train_images_b]\n",
        "#train_images_ext.shape\n",
        "\n",
        "m,n=test_images_b.shape\n",
        "new_feature_w_region_test=np.zeros((m,1))\n",
        "for i in range(0,m):\n",
        "  new_feature_w_region_test[i,0]=countCC(row,col,test_images_b[i].reshape(( 28 ,28))) \n",
        "  \n",
        "new_feature_w_region_n_test=new_feature_w_region_test/max(new_feature_w_region_test)\n",
        "#test_images_ext=np.c_[new_feature_w_region_n_test,test_images_b]"
      ],
      "execution_count": 0,
      "outputs": []
    },
    {
      "metadata": {
        "id": "BoEICJZbSHOY",
        "colab_type": "code",
        "colab": {
          "base_uri": "https://localhost:8080/",
          "height": 104
        },
        "outputId": "9f73f2e5-0beb-4ba6-b1cc-254fb8d8578e"
      },
      "cell_type": "code",
      "source": [
        "b_area=np.sum(train_images_b,axis=1)\n",
        "b_area.shape\n",
        "print(b_area)\n",
        "b_area_n=(b_area/max(b_area)).reshape((b_area.shape[0],1))\n",
        "w_area=28*28-b_area\n",
        "w_area_n=(w_area/max(w_area)).reshape((w_area.shape[0],1))\n",
        "print(w_area.shape)\n",
        "print(b_area.shape)\n",
        "print(w_area)\n",
        "\n",
        "train_images_ext=np.c_[b_area_n,w_area_n,new_feature_w_region_n,train_images_b]\n",
        "train_images_ext.shape"
      ],
      "execution_count": 53,
      "outputs": [
        {
          "output_type": "stream",
          "text": [
            "[111 125  81 ...  86  85  82]\n",
            "(60000,)\n",
            "(60000,)\n",
            "[673 659 703 ... 698 699 702]\n"
          ],
          "name": "stdout"
        },
        {
          "output_type": "execute_result",
          "data": {
            "text/plain": [
              "(60000, 787)"
            ]
          },
          "metadata": {
            "tags": []
          },
          "execution_count": 53
        }
      ]
    },
    {
      "metadata": {
        "id": "Tg-btKULUQ0e",
        "colab_type": "code",
        "colab": {
          "base_uri": "https://localhost:8080/",
          "height": 35
        },
        "outputId": "7543250a-a3dc-4921-de8f-52dc7749494f"
      },
      "cell_type": "code",
      "source": [
        "b_area_test=np.sum(test_images_b,axis=1)\n",
        "b_area_test_n=(b_area_test/max(b_area_test)).reshape((b_area_test.shape[0],1))\n",
        "w_area_test=28*28-b_area_test_n\n",
        "w_area_test_n=(w_area_test/max(w_area_test)).reshape((w_area_test.shape[0],1))\n",
        "\n",
        "test_images_ext=np.c_[b_area_test_n,w_area_test_n,new_feature_w_region_n_test,test_images_b]\n",
        "test_images_ext.shape"
      ],
      "execution_count": 54,
      "outputs": [
        {
          "output_type": "execute_result",
          "data": {
            "text/plain": [
              "(10000, 787)"
            ]
          },
          "metadata": {
            "tags": []
          },
          "execution_count": 54
        }
      ]
    },
    {
      "metadata": {
        "id": "UVdKQxo6CxQX",
        "colab_type": "code",
        "colab": {
          "base_uri": "https://localhost:8080/",
          "height": 745
        },
        "outputId": "09152f72-87b6-4504-c416-b3fcfd99607b"
      },
      "cell_type": "code",
      "source": [
        "num_features=3\n",
        "network = models.Sequential()\n",
        "network.add(layers.Dense(512, activation='relu', input_shape=(28 * 28 +num_features,)))\n",
        "network.add(layers.Dense(10, activation='softmax'))\n",
        "network.summary()\n",
        "network.compile(optimizer='rmsprop',\n",
        "                loss='categorical_crossentropy',\n",
        "                metrics=['accuracy'])\n",
        "\n",
        "epochs = 15\n",
        "history = network.fit(train_images_ext, \n",
        "                      train_labels, \n",
        "                      epochs=epochs, \n",
        "                      batch_size=128, \n",
        "                      validation_data=(test_images_ext, test_labels))\n"
      ],
      "execution_count": 57,
      "outputs": [
        {
          "output_type": "stream",
          "text": [
            "_________________________________________________________________\n",
            "Layer (type)                 Output Shape              Param #   \n",
            "=================================================================\n",
            "dense_11 (Dense)             (None, 512)               403456    \n",
            "_________________________________________________________________\n",
            "dense_12 (Dense)             (None, 10)                5130      \n",
            "=================================================================\n",
            "Total params: 408,586\n",
            "Trainable params: 408,586\n",
            "Non-trainable params: 0\n",
            "_________________________________________________________________\n",
            "Train on 60000 samples, validate on 10000 samples\n",
            "Epoch 1/15\n",
            "60000/60000 [==============================] - 2s 42us/step - loss: 0.2722 - acc: 0.9204 - val_loss: 0.1403 - val_acc: 0.9593\n",
            "Epoch 2/15\n",
            "60000/60000 [==============================] - 2s 38us/step - loss: 0.1050 - acc: 0.9687 - val_loss: 0.1039 - val_acc: 0.9688\n",
            "Epoch 3/15\n",
            "60000/60000 [==============================] - 2s 37us/step - loss: 0.0651 - acc: 0.9801 - val_loss: 0.0866 - val_acc: 0.9734\n",
            "Epoch 4/15\n",
            "60000/60000 [==============================] - 2s 37us/step - loss: 0.0436 - acc: 0.9872 - val_loss: 0.0879 - val_acc: 0.9735\n",
            "Epoch 5/15\n",
            "60000/60000 [==============================] - 2s 38us/step - loss: 0.0294 - acc: 0.9914 - val_loss: 0.1045 - val_acc: 0.9687\n",
            "Epoch 6/15\n",
            "60000/60000 [==============================] - 2s 37us/step - loss: 0.0202 - acc: 0.9942 - val_loss: 0.0861 - val_acc: 0.9754\n",
            "Epoch 7/15\n",
            "60000/60000 [==============================] - 2s 38us/step - loss: 0.0141 - acc: 0.9963 - val_loss: 0.0948 - val_acc: 0.9745\n",
            "Epoch 8/15\n",
            "60000/60000 [==============================] - 2s 37us/step - loss: 0.0093 - acc: 0.9978 - val_loss: 0.1029 - val_acc: 0.9741\n",
            "Epoch 9/15\n",
            "60000/60000 [==============================] - 2s 37us/step - loss: 0.0062 - acc: 0.9984 - val_loss: 0.1035 - val_acc: 0.9755\n",
            "Epoch 10/15\n",
            "60000/60000 [==============================] - 2s 37us/step - loss: 0.0045 - acc: 0.9990 - val_loss: 0.2386 - val_acc: 0.9477\n",
            "Epoch 11/15\n",
            "60000/60000 [==============================] - 2s 37us/step - loss: 0.0031 - acc: 0.9992 - val_loss: 0.1117 - val_acc: 0.9769\n",
            "Epoch 12/15\n",
            "60000/60000 [==============================] - 2s 37us/step - loss: 0.0021 - acc: 0.9996 - val_loss: 0.1203 - val_acc: 0.9760\n",
            "Epoch 13/15\n",
            "60000/60000 [==============================] - 2s 38us/step - loss: 0.0016 - acc: 0.9996 - val_loss: 0.1310 - val_acc: 0.9750\n",
            "Epoch 14/15\n",
            "60000/60000 [==============================] - 2s 37us/step - loss: 0.0011 - acc: 0.9998 - val_loss: 0.1206 - val_acc: 0.9776\n",
            "Epoch 15/15\n",
            "60000/60000 [==============================] - 2s 38us/step - loss: 0.0011 - acc: 0.9998 - val_loss: 0.1170 - val_acc: 0.9781\n"
          ],
          "name": "stdout"
        }
      ]
    },
    {
      "metadata": {
        "id": "cGf0ZMqq35xT",
        "colab_type": "text"
      },
      "cell_type": "markdown",
      "source": [
        "## Problem5 Final"
      ]
    },
    {
      "metadata": {
        "id": "VhiCGJC339SQ",
        "colab_type": "code",
        "colab": {}
      },
      "cell_type": "code",
      "source": [
        "#Train\n",
        "train_images, train_labels_original, test_images, test_labels_original=load_data_no_b()\n",
        "\n",
        "train_labels = to_categorical(train_labels_original)\n",
        "test_labels = to_categorical(test_labels_original)\n",
        "\n",
        "network = models.Sequential()\n",
        "network.add(layers.Dense(512, activation='relu', input_shape=(28 * 28,)))\n",
        "network.add(layers.Dense(10, activation='softmax'))\n",
        "network.summary()\n",
        "\n",
        "network.compile(optimizer='rmsprop',\n",
        "                loss='categorical_crossentropy',\n",
        "                metrics=['accuracy'])\n",
        "\n",
        "epochs = 10\n",
        "history = network.fit(train_images, \n",
        "                      train_labels, \n",
        "                      epochs=epochs, \n",
        "                      batch_size=128, \n",
        "                      validation_data=(test_images, test_labels))\n"
      ],
      "execution_count": 0,
      "outputs": []
    },
    {
      "metadata": {
        "id": "oI4SCD-0JFwq",
        "colab_type": "code",
        "colab": {}
      },
      "cell_type": "code",
      "source": [
        ""
      ],
      "execution_count": 0,
      "outputs": []
    }
  ]
}