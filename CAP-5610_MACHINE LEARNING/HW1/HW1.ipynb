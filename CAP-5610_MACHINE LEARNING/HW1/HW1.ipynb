{
  "nbformat": 4,
  "nbformat_minor": 0,
  "metadata": {
    "colab": {
      "name": "HW1.ipynb",
      "version": "0.3.2",
      "provenance": []
    },
    "kernelspec": {
      "name": "python3",
      "display_name": "Python 3"
    },
    "accelerator": "GPU"
  },
  "cells": [
    {
      "metadata": {
        "id": "Dc1slCEXrTyP",
        "colab_type": "text"
      },
      "cell_type": "markdown",
      "source": [
        "***RODOLFO VALIENTE ROMERO***"
      ]
    },
    {
      "metadata": {
        "id": "-fZ2xwR6qi5I",
        "colab_type": "text"
      },
      "cell_type": "markdown",
      "source": [
        "#**HW 1**"
      ]
    },
    {
      "metadata": {
        "id": "zZO8-UwXrdaf",
        "colab_type": "text"
      },
      "cell_type": "markdown",
      "source": [
        "** *Code is based on course notes and was used code from the Colab examples**"
      ]
    },
    {
      "metadata": {
        "id": "-jRmAiXrqut3",
        "colab_type": "text"
      },
      "cell_type": "markdown",
      "source": [
        "This homework will get you up to speed with Python programming, numpy, matplotlib, Keras, gradients, partial derivatives, git, GitHub, Google's colaboratory etc. Have fun!\n",
        "\n",
        "For this homework, you will create neural networks with an input layer and an output layer without any hidden layers. The connections are dense: each input neuron is connected to each output neuron.\n",
        "\n",
        "Instructions for problems 1 and 2:\n",
        "- Load the training and test data using Keras, no validation set needed.\n",
        "- Train 10 classifiers that perform binary classification: *Is the input image the digit i or is it a digit different from i?* Each of the ten classifiers has an input layer consisting of 28 x 28 input neurons and an output layer consisting of a single output neuron.\n",
        "- Implement mini-batch stochastic gradient descent using only numpy, that is, you are not allowed to use TensorFlow/Keras for SGD.\n",
        "- Use ```argmax``` to determine the classifier with the strongest output and declare the corresponding digit as output."
      ]
    },
    {
      "metadata": {
        "id": "3BKvrQyOtd7W",
        "colab_type": "text"
      },
      "cell_type": "markdown",
      "source": [
        "## Load and Explore data"
      ]
    },
    {
      "metadata": {
        "id": "CHXR_j9gszFr",
        "colab_type": "text"
      },
      "cell_type": "markdown",
      "source": [
        "### Loading the MNIST digits data set"
      ]
    },
    {
      "metadata": {
        "id": "pIHG5pl8sXyS",
        "colab_type": "code",
        "colab": {}
      },
      "cell_type": "code",
      "source": [
        "from keras.datasets import mnist\n",
        "\n",
        "(train_images_original, train_labels_original), (test_images_original, test_labels_original) = mnist.load_data()"
      ],
      "execution_count": 0,
      "outputs": []
    },
    {
      "metadata": {
        "id": "uT1ugdRys_5O",
        "colab_type": "text"
      },
      "cell_type": "markdown",
      "source": [
        "### Exploring the format of the MNIST digits data set"
      ]
    },
    {
      "metadata": {
        "id": "in1IwEVOtPHL",
        "colab_type": "code",
        "colab": {
          "base_uri": "https://localhost:8080/",
          "height": 34
        },
        "outputId": "3e78feeb-85e5-41c2-8d59-a2d94e361dc0"
      },
      "cell_type": "code",
      "source": [
        "train_images_original.shape"
      ],
      "execution_count": 9,
      "outputs": [
        {
          "output_type": "execute_result",
          "data": {
            "text/plain": [
              "(60000, 28, 28)"
            ]
          },
          "metadata": {
            "tags": []
          },
          "execution_count": 9
        }
      ]
    },
    {
      "metadata": {
        "id": "xKrlDhuVtRJ-",
        "colab_type": "code",
        "colab": {
          "base_uri": "https://localhost:8080/",
          "height": 34
        },
        "outputId": "08819ab9-cfb9-4652-c8e8-1cd3782d20d8"
      },
      "cell_type": "code",
      "source": [
        "len(train_images_original)"
      ],
      "execution_count": 10,
      "outputs": [
        {
          "output_type": "execute_result",
          "data": {
            "text/plain": [
              "60000"
            ]
          },
          "metadata": {
            "tags": []
          },
          "execution_count": 10
        }
      ]
    },
    {
      "metadata": {
        "id": "gPaXGHaDtSys",
        "colab_type": "code",
        "colab": {
          "base_uri": "https://localhost:8080/",
          "height": 34
        },
        "outputId": "99eee90c-b60c-46c5-9696-f60f76a7d098"
      },
      "cell_type": "code",
      "source": [
        "train_images_original.ndim"
      ],
      "execution_count": 11,
      "outputs": [
        {
          "output_type": "execute_result",
          "data": {
            "text/plain": [
              "3"
            ]
          },
          "metadata": {
            "tags": []
          },
          "execution_count": 11
        }
      ]
    },
    {
      "metadata": {
        "id": "Revbsu2NtvLj",
        "colab_type": "code",
        "colab": {
          "base_uri": "https://localhost:8080/",
          "height": 34
        },
        "outputId": "f80dfec7-6a38-41fc-88b6-f9bdf789cabf"
      },
      "cell_type": "code",
      "source": [
        "train_labels_original"
      ],
      "execution_count": 12,
      "outputs": [
        {
          "output_type": "execute_result",
          "data": {
            "text/plain": [
              "array([5, 0, 4, ..., 5, 6, 8], dtype=uint8)"
            ]
          },
          "metadata": {
            "tags": []
          },
          "execution_count": 12
        }
      ]
    },
    {
      "metadata": {
        "id": "TMUUPQPvtxkY",
        "colab_type": "code",
        "colab": {
          "base_uri": "https://localhost:8080/",
          "height": 34
        },
        "outputId": "40a5b376-119e-420f-decc-3e1b3e662f2a"
      },
      "cell_type": "code",
      "source": [
        "train_labels_original.shape"
      ],
      "execution_count": 13,
      "outputs": [
        {
          "output_type": "execute_result",
          "data": {
            "text/plain": [
              "(60000,)"
            ]
          },
          "metadata": {
            "tags": []
          },
          "execution_count": 13
        }
      ]
    },
    {
      "metadata": {
        "id": "Y5V0sKsBt03k",
        "colab_type": "text"
      },
      "cell_type": "markdown",
      "source": [
        "### Displaying MNIST digits"
      ]
    },
    {
      "metadata": {
        "id": "MJdtlj7zt386",
        "colab_type": "code",
        "colab": {
          "base_uri": "https://localhost:8080/",
          "height": 105
        },
        "outputId": "ec2a1c27-74dd-4592-8c07-5c0c606db736"
      },
      "cell_type": "code",
      "source": [
        "import matplotlib.pyplot as plt\n",
        "digit_0 = train_images_original[0]\n",
        "plt.figure(figsize=(1,1))\n",
        "plt.imshow(digit_0)\n",
        "plt.grid(None)\n",
        "plt.show()"
      ],
      "execution_count": 14,
      "outputs": [
        {
          "output_type": "display_data",
          "data": {
            "image/png": "[encoded data removed]",
            "text/plain": [
              "<Figure size 72x72 with 1 Axes>"
            ]
          },
          "metadata": {
            "tags": []
          }
        }
      ]
    },
    {
      "metadata": {
        "id": "f8MOCt_Xt-YW",
        "colab_type": "code",
        "colab": {
          "base_uri": "https://localhost:8080/",
          "height": 34
        },
        "outputId": "be7f6f6a-7c30-4aee-b630-4951b9195bb6"
      },
      "cell_type": "code",
      "source": [
        "digit_0.shape"
      ],
      "execution_count": 15,
      "outputs": [
        {
          "output_type": "execute_result",
          "data": {
            "text/plain": [
              "(28, 28)"
            ]
          },
          "metadata": {
            "tags": []
          },
          "execution_count": 15
        }
      ]
    },
    {
      "metadata": {
        "id": "y2L9xUGUt_q9",
        "colab_type": "code",
        "colab": {
          "base_uri": "https://localhost:8080/",
          "height": 34
        },
        "outputId": "a0e1a18a-530b-428a-fc6e-fa4ab4cb8d0b"
      },
      "cell_type": "code",
      "source": [
        "label_0 = train_labels_original[0]\n",
        "label_0"
      ],
      "execution_count": 16,
      "outputs": [
        {
          "output_type": "execute_result",
          "data": {
            "text/plain": [
              "5"
            ]
          },
          "metadata": {
            "tags": []
          },
          "execution_count": 16
        }
      ]
    },
    {
      "metadata": {
        "id": "2YsHD6LWwXtp",
        "colab_type": "text"
      },
      "cell_type": "markdown",
      "source": [
        "### Preparing the image data"
      ]
    },
    {
      "metadata": {
        "id": "8DwRgkkuwgXq",
        "colab_type": "code",
        "colab": {}
      },
      "cell_type": "code",
      "source": [
        "train_images = train_images_original.reshape((60000, 28 * 28))\n",
        "train_images = train_images.astype('float32') / 255\n",
        "\n",
        "test_images = test_images_original.reshape((10000, 28 * 28))\n",
        "test_images = test_images.astype('float32') / 255"
      ],
      "execution_count": 0,
      "outputs": []
    },
    {
      "metadata": {
        "id": "n5SweAnKw2sR",
        "colab_type": "code",
        "colab": {}
      },
      "cell_type": "code",
      "source": [
        "train_images.shape"
      ],
      "execution_count": 0,
      "outputs": []
    },
    {
      "metadata": {
        "id": "KOCul63Aw4PX",
        "colab_type": "code",
        "colab": {}
      },
      "cell_type": "code",
      "source": [
        "train_images_original.shape"
      ],
      "execution_count": 0,
      "outputs": []
    },
    {
      "metadata": {
        "id": "vFNIccapq4wA",
        "colab_type": "text"
      },
      "cell_type": "markdown",
      "source": [
        "## Problem 1"
      ]
    },
    {
      "metadata": {
        "id": "ddXepMgiq6gY",
        "colab_type": "text"
      },
      "cell_type": "markdown",
      "source": [
        "Use logistic regression with mean squared error loss."
      ]
    },
    {
      "metadata": {
        "id": "lj9TJlLOq73O",
        "colab_type": "text"
      },
      "cell_type": "markdown",
      "source": [
        "## Problem 2"
      ]
    },
    {
      "metadata": {
        "id": "9-wzODv-q9cF",
        "colab_type": "text"
      },
      "cell_type": "markdown",
      "source": [
        "Use logistic regression with binary cross entropy loss."
      ]
    },
    {
      "metadata": {
        "id": "EgegsyYZq-1J",
        "colab_type": "text"
      },
      "cell_type": "markdown",
      "source": [
        "## Problem 3"
      ]
    },
    {
      "metadata": {
        "id": "_Q61Phk3rAPL",
        "colab_type": "text"
      },
      "cell_type": "markdown",
      "source": [
        "- Load the training and test data using Keras, no validation set needed.\n",
        "- Create network with an input layer consisting of 28 x 28 input neurons and an output layer consisting of 10 output neurons.\n",
        "- Use softmax and categorical cross entropy loss.\n",
        "- Implement mini-batch stochastic gradient descent using only numpy, that is, you are not allowed to use TensorFlow/Keras for SGD."
      ]
    },
    {
      "metadata": {
        "id": "OkRdYiAYrCOk",
        "colab_type": "text"
      },
      "cell_type": "markdown",
      "source": [
        "## Problem 4"
      ]
    },
    {
      "metadata": {
        "id": "SGl9vN-prDrl",
        "colab_type": "text"
      },
      "cell_type": "markdown",
      "source": [
        "Reimplement the network from Problem 3 entirely in Keras."
      ]
    },
    {
      "metadata": {
        "id": "Fb54JclVxY78",
        "colab_type": "code",
        "colab": {}
      },
      "cell_type": "code",
      "source": [
        "from keras.utils import to_categorical\n",
        "from keras import models\n",
        "from keras import layers\n",
        "\n",
        "import numpy as np"
      ],
      "execution_count": 0,
      "outputs": []
    },
    {
      "metadata": {
        "id": "Qeinh8WnwqpB",
        "colab_type": "text"
      },
      "cell_type": "markdown",
      "source": [
        "### Preparing the labels"
      ]
    },
    {
      "metadata": {
        "id": "dbexMEv3wvHt",
        "colab_type": "code",
        "colab": {}
      },
      "cell_type": "code",
      "source": [
        "\n",
        "train_labels = to_categorical(train_labels_original)\n",
        "test_labels = to_categorical(test_labels_original)"
      ],
      "execution_count": 0,
      "outputs": []
    },
    {
      "metadata": {
        "id": "-HNCFav2v77P",
        "colab_type": "code",
        "colab": {
          "base_uri": "https://localhost:8080/",
          "height": 34
        },
        "outputId": "372cabfa-635e-4e19-e3be-889e4815bcb4"
      },
      "cell_type": "code",
      "source": [
        "train_labels.shape"
      ],
      "execution_count": 25,
      "outputs": [
        {
          "output_type": "execute_result",
          "data": {
            "text/plain": [
              "(60000, 10)"
            ]
          },
          "metadata": {
            "tags": []
          },
          "execution_count": 25
        }
      ]
    },
    {
      "metadata": {
        "id": "NX5IdrQ9xGb0",
        "colab_type": "code",
        "colab": {
          "base_uri": "https://localhost:8080/",
          "height": 34
        },
        "outputId": "f18f4a13-8b69-40e3-dc50-f18e2d60e8b5"
      },
      "cell_type": "code",
      "source": [
        "train_labels_original.shape"
      ],
      "execution_count": 26,
      "outputs": [
        {
          "output_type": "execute_result",
          "data": {
            "text/plain": [
              "(60000,)"
            ]
          },
          "metadata": {
            "tags": []
          },
          "execution_count": 26
        }
      ]
    },
    {
      "metadata": {
        "id": "bWB0peaOxMOZ",
        "colab_type": "code",
        "colab": {
          "base_uri": "https://localhost:8080/",
          "height": 34
        },
        "outputId": "6f371ee7-054b-4416-91fd-f435cd94b262"
      },
      "cell_type": "code",
      "source": [
        "np.argmax(train_labels[0])"
      ],
      "execution_count": 27,
      "outputs": [
        {
          "output_type": "execute_result",
          "data": {
            "text/plain": [
              "5"
            ]
          },
          "metadata": {
            "tags": []
          },
          "execution_count": 27
        }
      ]
    },
    {
      "metadata": {
        "id": "nKZtzr8vxNna",
        "colab_type": "code",
        "colab": {
          "base_uri": "https://localhost:8080/",
          "height": 34
        },
        "outputId": "7da9ac23-c780-4788-fc24-d8544e9ded84"
      },
      "cell_type": "code",
      "source": [
        "train_labels_original[0]"
      ],
      "execution_count": 28,
      "outputs": [
        {
          "output_type": "execute_result",
          "data": {
            "text/plain": [
              "5"
            ]
          },
          "metadata": {
            "tags": []
          },
          "execution_count": 28
        }
      ]
    },
    {
      "metadata": {
        "id": "VQznbkqWxfYr",
        "colab_type": "text"
      },
      "cell_type": "markdown",
      "source": [
        "### The network architecture"
      ]
    },
    {
      "metadata": {
        "id": "G3Qw-zXgxh0v",
        "colab_type": "code",
        "colab": {
          "base_uri": "https://localhost:8080/",
          "height": 275
        },
        "outputId": "b7c2892d-817d-4351-817d-0c037eb65bd5"
      },
      "cell_type": "code",
      "source": [
        "network = models.Sequential()\n",
        "network.add(layers.Dense(512, activation='relu', input_shape=(28 * 28,)))\n",
        "network.add(layers.Dense(10, activation='softmax'))\n",
        "network.summary()"
      ],
      "execution_count": 30,
      "outputs": [
        {
          "output_type": "stream",
          "text": [
            "WARNING:tensorflow:From /usr/local/lib/python3.6/dist-packages/tensorflow/python/framework/op_def_library.py:263: colocate_with (from tensorflow.python.framework.ops) is deprecated and will be removed in a future version.\n",
            "Instructions for updating:\n",
            "Colocations handled automatically by placer.\n",
            "_________________________________________________________________\n",
            "Layer (type)                 Output Shape              Param #   \n",
            "=================================================================\n",
            "dense_1 (Dense)              (None, 512)               401920    \n",
            "_________________________________________________________________\n",
            "dense_2 (Dense)              (None, 10)                5130      \n",
            "=================================================================\n",
            "Total params: 407,050\n",
            "Trainable params: 407,050\n",
            "Non-trainable params: 0\n",
            "_________________________________________________________________\n"
          ],
          "name": "stdout"
        }
      ]
    },
    {
      "metadata": {
        "id": "Ao_vyUBkxp-9",
        "colab_type": "text"
      },
      "cell_type": "markdown",
      "source": [
        "### The compilation step"
      ]
    },
    {
      "metadata": {
        "id": "PctuyouVxtGF",
        "colab_type": "code",
        "colab": {}
      },
      "cell_type": "code",
      "source": [
        "network.compile(optimizer='rmsprop',\n",
        "                loss='categorical_crossentropy',\n",
        "                metrics=['accuracy'])"
      ],
      "execution_count": 0,
      "outputs": []
    },
    {
      "metadata": {
        "id": "VmA2OacpxwoL",
        "colab_type": "text"
      },
      "cell_type": "markdown",
      "source": [
        "### The training step"
      ]
    },
    {
      "metadata": {
        "id": "YnKio_vQxw9G",
        "colab_type": "code",
        "colab": {
          "base_uri": "https://localhost:8080/",
          "height": 445
        },
        "outputId": "4dcb179a-030d-4122-d624-20e1d6b70dfa"
      },
      "cell_type": "code",
      "source": [
        "epochs = 10\n",
        "history = network.fit(train_images, \n",
        "                      train_labels, \n",
        "                      epochs=epochs, \n",
        "                      batch_size=128, \n",
        "                      validation_data=(test_images, test_labels))"
      ],
      "execution_count": 32,
      "outputs": [
        {
          "output_type": "stream",
          "text": [
            "WARNING:tensorflow:From /usr/local/lib/python3.6/dist-packages/tensorflow/python/ops/math_ops.py:3066: to_int32 (from tensorflow.python.ops.math_ops) is deprecated and will be removed in a future version.\n",
            "Instructions for updating:\n",
            "Use tf.cast instead.\n",
            "Train on 60000 samples, validate on 10000 samples\n",
            "Epoch 1/10\n",
            "60000/60000 [==============================] - 3s 46us/step - loss: 0.2580 - acc: 0.9245 - val_loss: 0.1218 - val_acc: 0.9635\n",
            "Epoch 2/10\n",
            "60000/60000 [==============================] - 2s 34us/step - loss: 0.1056 - acc: 0.9684 - val_loss: 0.0910 - val_acc: 0.9722\n",
            "Epoch 3/10\n",
            "60000/60000 [==============================] - 2s 35us/step - loss: 0.0698 - acc: 0.9794 - val_loss: 0.0758 - val_acc: 0.9766\n",
            "Epoch 4/10\n",
            "60000/60000 [==============================] - 2s 35us/step - loss: 0.0502 - acc: 0.9844 - val_loss: 0.0720 - val_acc: 0.9785\n",
            "Epoch 5/10\n",
            "60000/60000 [==============================] - 2s 35us/step - loss: 0.0382 - acc: 0.9888 - val_loss: 0.0762 - val_acc: 0.9775\n",
            "Epoch 6/10\n",
            "60000/60000 [==============================] - 2s 34us/step - loss: 0.0288 - acc: 0.9914 - val_loss: 0.0727 - val_acc: 0.9803\n",
            "Epoch 7/10\n",
            "60000/60000 [==============================] - 2s 35us/step - loss: 0.0221 - acc: 0.9935 - val_loss: 0.0742 - val_acc: 0.9787\n",
            "Epoch 8/10\n",
            "60000/60000 [==============================] - 2s 35us/step - loss: 0.0176 - acc: 0.9949 - val_loss: 0.0624 - val_acc: 0.9824\n",
            "Epoch 9/10\n",
            "60000/60000 [==============================] - 2s 35us/step - loss: 0.0133 - acc: 0.9961 - val_loss: 0.0733 - val_acc: 0.9817\n",
            "Epoch 10/10\n",
            "60000/60000 [==============================] - 2s 35us/step - loss: 0.0104 - acc: 0.9970 - val_loss: 0.0686 - val_acc: 0.9828\n"
          ],
          "name": "stdout"
        }
      ]
    },
    {
      "metadata": {
        "id": "S6s1tNdwxxuI",
        "colab_type": "text"
      },
      "cell_type": "markdown",
      "source": [
        "### Display the training/test loss/accuracy"
      ]
    },
    {
      "metadata": {
        "id": "dYeQuqVdxyDw",
        "colab_type": "code",
        "colab": {
          "base_uri": "https://localhost:8080/",
          "height": 376
        },
        "outputId": "93965c57-51aa-418d-cf7e-d4b185ec775f"
      },
      "cell_type": "code",
      "source": [
        "history_dict = history.history\n",
        "loss_values = history_dict['loss']\n",
        "test_loss_values = history_dict['val_loss']\n",
        "epochs_range = range(1, epochs + 1)\n",
        "plt.plot(epochs_range, loss_values, 'bo', label='Training loss')\n",
        "plt.plot(epochs_range, test_loss_values, 'ro', label='Test loss')\n",
        "plt.title('Training and test loss')\n",
        "plt.xlabel('Epochs')\n",
        "plt.ylabel('Loss')\n",
        "plt.legend()\n",
        "plt.show()"
      ],
      "execution_count": 33,
      "outputs": [
        {
          "output_type": "display_data",
          "data": {
            "image/png": "[encoded data removed]",
            "text/plain": [
              "<Figure size 576x396 with 1 Axes>"
            ]
          },
          "metadata": {
            "tags": []
          }
        }
      ]
    },
    {
      "metadata": {
        "id": "HeFiu62sx_NX",
        "colab_type": "code",
        "colab": {}
      },
      "cell_type": "code",
      "source": [
        "acc_values = history_dict['acc']\n",
        "test_acc_values = history_dict['val_acc']"
      ],
      "execution_count": 0,
      "outputs": []
    },
    {
      "metadata": {
        "id": "CD-1lE83yA9G",
        "colab_type": "code",
        "colab": {
          "base_uri": "https://localhost:8080/",
          "height": 376
        },
        "outputId": "6dc9ecb0-a856-4a53-83de-5e4d74720159"
      },
      "cell_type": "code",
      "source": [
        "plt.plot(epochs_range, acc_values, 'bo', label='Training accuracy')\n",
        "plt.plot(epochs_range, test_acc_values, 'ro', label='Test accuracy')\n",
        "plt.title('Training and test accuracy')\n",
        "plt.xlabel('Epochs')\n",
        "plt.ylabel('Accuracy')\n",
        "plt.legend()\n",
        "plt.show()"
      ],
      "execution_count": 35,
      "outputs": [
        {
          "output_type": "display_data",
          "data": {
            "image/png": "[encoded data removed]",
            "text/plain": [
              "<Figure size 576x396 with 1 Axes>"
            ]
          },
          "metadata": {
            "tags": []
          }
        }
      ]
    },
    {
      "metadata": {
        "id": "H0Pxsd4zrFrY",
        "colab_type": "text"
      },
      "cell_type": "markdown",
      "source": [
        "## Problem 5"
      ]
    },
    {
      "metadata": {
        "id": "AjOrlv9zrG-F",
        "colab_type": "text"
      },
      "cell_type": "markdown",
      "source": [
        "Extend the network from Problem 4 by adding new features.\n",
        "- Round the grey values of the images to 1 and 0 so you obtain black and white images. Add as an additional feature the number of white regions. For instance, a typical 0 has 2 white regions and 8 has 3. Use the following neighborhoods for pixels:\n",
        "\n",
        "```\n",
        "pixel x,y (indicated by .) is connected to its neighbors (indicated by o):\n",
        "\n",
        " o\n",
        "o.o  \n",
        " o\n",
        " \n",
        "ooo\n",
        "o.o\n",
        "ooo\n",
        "```\n",
        "- Consider the width.\n",
        "- Consider the height.\n",
        "- Come up with other features.\n",
        "\n",
        "You should normalize your new features so that they are at the same scale as the pixel values (between 0 and 1)."
      ]
    },
    {
      "metadata": {
        "id": "eRbjZwOQrJP9",
        "colab_type": "code",
        "colab": {}
      },
      "cell_type": "code",
      "source": [
        ""
      ],
      "execution_count": 0,
      "outputs": []
    }
  ]
}