{
  "nbformat": 4,
  "nbformat_minor": 0,
  "metadata": {
    "colab": {
      "name": "HW1.ipynb",
      "version": "0.3.2",
      "provenance": []
    },
    "kernelspec": {
      "name": "python3",
      "display_name": "Python 3"
    },
    "accelerator": "GPU"
  },
  "cells": [
    {
      "metadata": {
        "id": "Dc1slCEXrTyP",
        "colab_type": "text"
      },
      "cell_type": "markdown",
      "source": [
        "***RODOLFO VALIENTE ROMERO***"
      ]
    },
    {
      "metadata": {
        "id": "-fZ2xwR6qi5I",
        "colab_type": "text"
      },
      "cell_type": "markdown",
      "source": [
        "#**HW 1**"
      ]
    },
    {
      "metadata": {
        "id": "zZO8-UwXrdaf",
        "colab_type": "text"
      },
      "cell_type": "markdown",
      "source": [
        "** *Code is based on course notes and was used code from the Colab examples**"
      ]
    },
    {
      "metadata": {
        "id": "-jRmAiXrqut3",
        "colab_type": "text"
      },
      "cell_type": "markdown",
      "source": [
        "This homework will get you up to speed with Python programming, numpy, matplotlib, Keras, gradients, partial derivatives, git, GitHub, Google's colaboratory etc. Have fun!\n",
        "\n",
        "For this homework, you will create neural networks with an input layer and an output layer without any hidden layers. The connections are dense: each input neuron is connected to each output neuron.\n",
        "\n",
        "Instructions for problems 1 and 2:\n",
        "- Load the training and test data using Keras, no validation set needed.\n",
        "- Train 10 classifiers that perform binary classification: *Is the input image the digit i or is it a digit different from i?* Each of the ten classifiers has an input layer consisting of 28 x 28 input neurons and an output layer consisting of a single output neuron.\n",
        "- Implement mini-batch stochastic gradient descent using only numpy, that is, you are not allowed to use TensorFlow/Keras for SGD.\n",
        "- Use ```argmax``` to determine the classifier with the strongest output and declare the corresponding digit as output."
      ]
    },
    {
      "metadata": {
        "id": "3BKvrQyOtd7W",
        "colab_type": "text"
      },
      "cell_type": "markdown",
      "source": [
        "## Load and Explore data"
      ]
    },
    {
      "metadata": {
        "id": "CHXR_j9gszFr",
        "colab_type": "text"
      },
      "cell_type": "markdown",
      "source": [
        "### Loading the MNIST digits data set"
      ]
    },
    {
      "metadata": {
        "id": "pIHG5pl8sXyS",
        "colab_type": "code",
        "colab": {
          "base_uri": "https://localhost:8080/",
          "height": 34
        },
        "outputId": "6c1dee17-b72e-45a4-ea67-dd48e1450848"
      },
      "cell_type": "code",
      "source": [
        "from keras.datasets import mnist\n",
        "\n",
        "(train_images, train_labels), (test_images, test_labels) = mnist.load_data()"
      ],
      "execution_count": 2,
      "outputs": [
        {
          "output_type": "stream",
          "text": [
            "Using TensorFlow backend.\n"
          ],
          "name": "stderr"
        }
      ]
    },
    {
      "metadata": {
        "id": "uT1ugdRys_5O",
        "colab_type": "text"
      },
      "cell_type": "markdown",
      "source": [
        "### Exploring the format of the MNIST digits data set"
      ]
    },
    {
      "metadata": {
        "id": "in1IwEVOtPHL",
        "colab_type": "code",
        "colab": {
          "base_uri": "https://localhost:8080/",
          "height": 34
        },
        "outputId": "286abbdb-97b5-4f89-e3fd-6fbece1a0f09"
      },
      "cell_type": "code",
      "source": [
        "train_images.shape"
      ],
      "execution_count": 3,
      "outputs": [
        {
          "output_type": "execute_result",
          "data": {
            "text/plain": [
              "(60000, 28, 28)"
            ]
          },
          "metadata": {
            "tags": []
          },
          "execution_count": 3
        }
      ]
    },
    {
      "metadata": {
        "id": "xKrlDhuVtRJ-",
        "colab_type": "code",
        "colab": {
          "base_uri": "https://localhost:8080/",
          "height": 34
        },
        "outputId": "caef93f5-33db-4a6a-99e5-16fa4234bd90"
      },
      "cell_type": "code",
      "source": [
        "len(train_images)"
      ],
      "execution_count": 4,
      "outputs": [
        {
          "output_type": "execute_result",
          "data": {
            "text/plain": [
              "60000"
            ]
          },
          "metadata": {
            "tags": []
          },
          "execution_count": 4
        }
      ]
    },
    {
      "metadata": {
        "id": "gPaXGHaDtSys",
        "colab_type": "code",
        "colab": {
          "base_uri": "https://localhost:8080/",
          "height": 34
        },
        "outputId": "3a7ef105-2c12-4908-d5a7-0d3b8a03d24c"
      },
      "cell_type": "code",
      "source": [
        "train_images.ndim"
      ],
      "execution_count": 5,
      "outputs": [
        {
          "output_type": "execute_result",
          "data": {
            "text/plain": [
              "3"
            ]
          },
          "metadata": {
            "tags": []
          },
          "execution_count": 5
        }
      ]
    },
    {
      "metadata": {
        "id": "Revbsu2NtvLj",
        "colab_type": "code",
        "colab": {}
      },
      "cell_type": "code",
      "source": [
        "train_labels"
      ],
      "execution_count": 0,
      "outputs": []
    },
    {
      "metadata": {
        "id": "TMUUPQPvtxkY",
        "colab_type": "code",
        "colab": {
          "base_uri": "https://localhost:8080/",
          "height": 34
        },
        "outputId": "26fbb38a-f001-4398-ed4d-fd43b20d02ab"
      },
      "cell_type": "code",
      "source": [
        "train_labels.shape"
      ],
      "execution_count": 6,
      "outputs": [
        {
          "output_type": "execute_result",
          "data": {
            "text/plain": [
              "(60000,)"
            ]
          },
          "metadata": {
            "tags": []
          },
          "execution_count": 6
        }
      ]
    },
    {
      "metadata": {
        "id": "Y5V0sKsBt03k",
        "colab_type": "text"
      },
      "cell_type": "markdown",
      "source": [
        "### Displaying MNIST digits"
      ]
    },
    {
      "metadata": {
        "id": "MJdtlj7zt386",
        "colab_type": "code",
        "colab": {
          "base_uri": "https://localhost:8080/",
          "height": 105
        },
        "outputId": "091466a1-12ba-4c1e-e78e-233ab7e7ed8d"
      },
      "cell_type": "code",
      "source": [
        "import matplotlib.pyplot as plt\n",
        "digit_0 = train_images[0]\n",
        "plt.figure(figsize=(1,1))\n",
        "plt.imshow(digit_0)\n",
        "plt.grid(None)\n",
        "plt.show()"
      ],
      "execution_count": 7,
      "outputs": [
        {
          "output_type": "display_data",
          "data": {
            "image/png": "[encoded data removed]",
            "text/plain": [
              "<Figure size 72x72 with 1 Axes>"
            ]
          },
          "metadata": {
            "tags": []
          }
        }
      ]
    },
    {
      "metadata": {
        "id": "f8MOCt_Xt-YW",
        "colab_type": "code",
        "colab": {}
      },
      "cell_type": "code",
      "source": [
        "digit_0.shape"
      ],
      "execution_count": 0,
      "outputs": []
    },
    {
      "metadata": {
        "id": "y2L9xUGUt_q9",
        "colab_type": "code",
        "colab": {}
      },
      "cell_type": "code",
      "source": [
        "label_0 = train_labels[0]\n",
        "label_0"
      ],
      "execution_count": 0,
      "outputs": []
    },
    {
      "metadata": {
        "id": "vFNIccapq4wA",
        "colab_type": "text"
      },
      "cell_type": "markdown",
      "source": [
        "## Problem 1"
      ]
    },
    {
      "metadata": {
        "id": "ddXepMgiq6gY",
        "colab_type": "text"
      },
      "cell_type": "markdown",
      "source": [
        "Use logistic regression with mean squared error loss."
      ]
    },
    {
      "metadata": {
        "id": "lj9TJlLOq73O",
        "colab_type": "text"
      },
      "cell_type": "markdown",
      "source": [
        "## Problem 2"
      ]
    },
    {
      "metadata": {
        "id": "9-wzODv-q9cF",
        "colab_type": "text"
      },
      "cell_type": "markdown",
      "source": [
        "Use logistic regression with binary cross entropy loss."
      ]
    },
    {
      "metadata": {
        "id": "EgegsyYZq-1J",
        "colab_type": "text"
      },
      "cell_type": "markdown",
      "source": [
        "## Problem 3"
      ]
    },
    {
      "metadata": {
        "id": "_Q61Phk3rAPL",
        "colab_type": "text"
      },
      "cell_type": "markdown",
      "source": [
        "- Load the training and test data using Keras, no validation set needed.\n",
        "- Create network with an input layer consisting of 28 x 28 input neurons and an output layer consisting of 10 output neurons.\n",
        "- Use softmax and categorical cross entropy loss.\n",
        "- Implement mini-batch stochastic gradient descent using only numpy, that is, you are not allowed to use TensorFlow/Keras for SGD."
      ]
    },
    {
      "metadata": {
        "id": "OkRdYiAYrCOk",
        "colab_type": "text"
      },
      "cell_type": "markdown",
      "source": [
        "## Problem 4"
      ]
    },
    {
      "metadata": {
        "id": "SGl9vN-prDrl",
        "colab_type": "text"
      },
      "cell_type": "markdown",
      "source": [
        "Reimplement the network from Problem 3 entirely in Keras."
      ]
    },
    {
      "metadata": {
        "id": "H0Pxsd4zrFrY",
        "colab_type": "text"
      },
      "cell_type": "markdown",
      "source": [
        "## Problem 5"
      ]
    },
    {
      "metadata": {
        "id": "AjOrlv9zrG-F",
        "colab_type": "text"
      },
      "cell_type": "markdown",
      "source": [
        "Extend the network from Problem 4 by adding new features.\n",
        "- Round the grey values of the images to 1 and 0 so you obtain black and white images. Add as an additional feature the number of white regions. For instance, a typical 0 has 2 white regions and 8 has 3. Use the following neighborhoods for pixels:\n",
        "\n",
        "```\n",
        "pixel x,y (indicated by .) is connected to its neighbors (indicated by o):\n",
        "\n",
        " o\n",
        "o.o  \n",
        " o\n",
        " \n",
        "ooo\n",
        "o.o\n",
        "ooo\n",
        "```\n",
        "- Consider the width.\n",
        "- Consider the height.\n",
        "- Come up with other features.\n",
        "\n",
        "You should normalize your new features so that they are at the same scale as the pixel values (between 0 and 1)."
      ]
    },
    {
      "metadata": {
        "id": "eRbjZwOQrJP9",
        "colab_type": "code",
        "colab": {}
      },
      "cell_type": "code",
      "source": [
        ""
      ],
      "execution_count": 0,
      "outputs": []
    }
  ]
}