{
  "nbformat": 4,
  "nbformat_minor": 0,
  "metadata": {
    "colab": {
      "name": "HW1.ipynb",
      "version": "0.3.2",
      "provenance": [],
      "include_colab_link": true
    },
    "kernelspec": {
      "name": "python3",
      "display_name": "Python 3"
    },
    "accelerator": "TPU"
  },
  "cells": [
    {
      "cell_type": "markdown",
      "metadata": {
        "id": "view-in-github",
        "colab_type": "text"
      },
      "source": [
        "<a href=\"https://colab.research.google.com/github/rvalienter90/UCF/blob/master/CAP-5610_MACHINE%20LEARNING/HW1/HW1.ipynb\" target=\"_parent\"><img src=\"https://colab.research.google.com/assets/colab-badge.svg\" alt=\"Open In Colab\"/></a>"
      ]
    },
    {
      "metadata": {
        "id": "Dc1slCEXrTyP",
        "colab_type": "text"
      },
      "cell_type": "markdown",
      "source": [
        "***RODOLFO VALIENTE ROMERO***"
      ]
    },
    {
      "metadata": {
        "id": "-fZ2xwR6qi5I",
        "colab_type": "text"
      },
      "cell_type": "markdown",
      "source": [
        "#**HW 1**"
      ]
    },
    {
      "metadata": {
        "id": "zZO8-UwXrdaf",
        "colab_type": "text"
      },
      "cell_type": "markdown",
      "source": [
        "** *Code is based on course notes and was used code from the Colab examples**"
      ]
    },
    {
      "metadata": {
        "id": "-jRmAiXrqut3",
        "colab_type": "text"
      },
      "cell_type": "markdown",
      "source": [
        "This homework will get you up to speed with Python programming, numpy, matplotlib, Keras, gradients, partial derivatives, git, GitHub, Google's colaboratory etc. Have fun!\n",
        "\n",
        "For this homework, you will create neural networks with an input layer and an output layer without any hidden layers. The connections are dense: each input neuron is connected to each output neuron.\n",
        "\n",
        "Instructions for problems 1 and 2:\n",
        "- Load the training and test data using Keras, no validation set needed.\n",
        "- Train 10 classifiers that perform binary classification: *Is the input image the digit i or is it a digit different from i?* Each of the ten classifiers has an input layer consisting of 28 x 28 input neurons and an output layer consisting of a single output neuron.\n",
        "- Implement mini-batch stochastic gradient descent using only numpy, that is, you are not allowed to use TensorFlow/Keras for SGD.\n",
        "- Use ```argmax``` to determine the classifier with the strongest output and declare the corresponding digit as output."
      ]
    },
    {
      "metadata": {
        "id": "jEAAGdyKgvJZ",
        "colab_type": "text"
      },
      "cell_type": "markdown",
      "source": [
        "\n",
        "** Problem 1,2 and 3**\n",
        "\n",
        "1.   Run the section Loading the MNIST digits data set, and implement functions for P1,P2,P3\n",
        "2.   Run the Ploblemx Final Solution \n",
        "\n",
        "\n",
        "** Problem 4 and 5**\n",
        "\n",
        "1.   Run the section Loading the MNIST digits data set, and implement functions for P4,P5\n",
        "2.   Run the Ploblemx Final Solution\n",
        "\n",
        "Extra exploration is done in the other sections"
      ]
    },
    {
      "metadata": {
        "colab_type": "text",
        "id": "crpFzD680Nu0"
      },
      "cell_type": "markdown",
      "source": [
        "## Loading the MNIST digits data set, and implement functions for P1,P2,P3\n",
        "\n",
        "\n"
      ]
    },
    {
      "metadata": {
        "colab_type": "code",
        "id": "tbIhBhEj0Nu2",
        "colab": {}
      },
      "cell_type": "code",
      "source": [
        "# Load the training and test data using Keras, no validation set needed.\n",
        "from keras.datasets import mnist\n",
        "import numpy as np\n",
        "import matplotlib.pyplot as plt\n",
        "np.random.seed(42)\n",
        "(train_images_original, train_labels_original), (test_images_original, test_labels_original) = mnist.load_data()\n",
        "\n"
      ],
      "execution_count": 0,
      "outputs": []
    },
    {
      "metadata": {
        "colab_type": "code",
        "id": "x4VEGb6r0Nu7",
        "colab": {}
      },
      "cell_type": "code",
      "source": [
        "#functions\n",
        "# ome hot encode\n",
        "def my_own_categorical (train_labels_original):\n",
        "  Y = np.zeros((train_labels_original.shape[0], 10))\n",
        "  Y[np.arange(train_labels_original.shape[0]),train_labels_original] = 1\n",
        "  return Y\n",
        "\n",
        "#sigmoid\n",
        "def sigmoid(z):\n",
        "  return 1/(1+np.exp(-z))\n",
        "\n",
        "#softmax in a numerically-safe way.  https://www.deeplearningbook.org/contents/numerical.html\n",
        "def softmax_safe(X):\n",
        "    exps = np.exp(X - np.max(X,axis=1, keepdims= True))\n",
        "    total= np.sum(exps, axis = 1, keepdims= True)\n",
        "    return exps / total\n",
        "\n",
        "#basic softmax\n",
        "def softmax(z):\n",
        "  return np.exp(z)/np.sum(np.exp(z), axis = 1, keepdims= True)\n",
        "\n",
        "#gradient\n",
        "def sigmoid_grad (x):    \n",
        "  da = sigmoid(x)*(1-sigmoid(x))\n",
        "  return da\n",
        "\n",
        "#forward propagation\n",
        "def forward(X,W):\n",
        "  Z = np.dot(X, W)\n",
        "  return Z\n",
        "def forward_sigmoid(X,W):\n",
        "  Z = np.dot(X, W)\n",
        "  Y = sigmoid(Z)\n",
        "  return Y\n",
        "def forward_softmax(X,W):\n",
        "  Z = np.dot(X, W)\n",
        "  Y = softmax_safe(Z)\n",
        "  return Y\n",
        "\n",
        "def sigmoid_predict(X,W):\n",
        "  Z=forward(X,W)\n",
        "  return 1/(1+np.exp(-Z))\n",
        "def softmax_output(Z):\n",
        "  return softmax_safe(Z)\n",
        "def sigmoid_output(Z):\n",
        "  return sigmoid(Z)\n",
        "\n",
        "#Loss binary cross entropy\n",
        "def ce_loss(Y,A):\n",
        "  loss = - np.sum(Y*np.log(A)+(1-Y)*np.log(1 - A))/Y.shape[0]\n",
        "  return loss\n",
        "#Loss square error\n",
        "def se_loss (Y,A):\n",
        "  loss = 1/2*np.sum((Y-A)*(Y-A))/Y.shape[0]\n",
        "  return loss\n",
        "#Loss categorical cross entropy\n",
        "def cc_loss (Y,A): \n",
        "  loss = - np.sum(Y*np.log(A))/Y.shape[0]\n",
        "  return loss\n",
        "\n",
        "#Load the data, pre-process and add bias\n",
        "def load_data():\n",
        "  (train_images_original, train_labels_original), (test_images_original, test_labels_original) = mnist.load_data()\n",
        "  train_images = train_images_original.reshape(train_images_original.shape[0], -1)/255\n",
        "  #train_images = train_images.astype('float32') / 255\n",
        "\n",
        "  test_images = test_images_original.reshape(test_images_original.shape[0], -1)/255\n",
        "  #test_images = test_images.astype('float32') / 255\n",
        "  \n",
        "  train_images_b =  np.c_[np.ones((train_images.shape[0], 1)), train_images]\n",
        "  test_images_b = np.c_[np.ones((test_images.shape[0], 1)), test_images]\n",
        "  \n",
        "  \n",
        "  \n",
        "  return train_images_b, train_labels_original, test_images_b, test_labels_original\n",
        "\n",
        "#train square error \n",
        "def train_model_se(train_images_b, Y_train,lr,batch_size,epochs):\n",
        "  print(\"train model se\")\n",
        "  lr=lr\n",
        "  batch_size=batch_size\n",
        "  epochs=epochs\n",
        "  W= np.zeros((train_images_b.shape[1], 1))\n",
        "  m = train_images_b.shape[0]\n",
        "  \n",
        "  for epoch in range (0,epochs): \n",
        "    shuffled_indices = np.random.permutation(m)\n",
        "    X_shuffled = train_images_b[shuffled_indices]\n",
        "    y_shuffled = Y_train[shuffled_indices]\n",
        "    \n",
        "    for i in range(0, m, batch_size):    \n",
        "      X = X_shuffled[i : i + batch_size]\n",
        "      Y = y_shuffled[i : i + batch_size]  \n",
        "\n",
        "      y_pred = forward_sigmoid(X, W)   \n",
        "      \n",
        "      dZ = (1/batch_size)*y_pred*(1-y_pred)*(y_pred - Y) \n",
        "      dW = X.T.dot(dZ)\n",
        "      W = W - lr*dW \n",
        "    \n",
        "    #y_pred=forward_sigmoid(train_images_b, W) \n",
        "    #loss = se_loss(Y_train, y_pred)\n",
        "    #print(\"Epoch \",epoch,\" Loss =\", loss)\n",
        "  y_pred=forward_sigmoid(train_images_b, W) \n",
        "  loss = se_loss(Y_train, y_pred)\n",
        "  print(\"Epoch \",epoch,\" Loss =\", loss)\n",
        "  return W\n",
        "\n",
        "#train binary cross entropy \n",
        "def train_model_ce(train_images_b, Y_train,lr,batch_size,epochs):\n",
        "  print(\"train model ce\")\n",
        "  lr=lr\n",
        "  batch_size=batch_size\n",
        "  epochs=epochs\n",
        "  W= np.zeros((train_images_b.shape[1], 1))\n",
        "  m = train_images_b.shape[0]\n",
        "  \n",
        "  for epoch in range (0,epochs): \n",
        "    shuffled_indices = np.random.permutation(m)\n",
        "    X_shuffled = train_images_b[shuffled_indices]\n",
        "    y_shuffled = Y_train[shuffled_indices]\n",
        "    \n",
        "    for i in range(0, m, batch_size):    \n",
        "      X = X_shuffled[i : i + batch_size]\n",
        "      Y = y_shuffled[i : i + batch_size]  \n",
        "\n",
        "      y_pred = forward_sigmoid(X, W)   \n",
        "      \n",
        "      dZ = (1/batch_size)*(y_pred - Y) \n",
        "      dW = X.T.dot(dZ) \n",
        "      W = W - lr*dW \n",
        "    \n",
        "    #y_pred=forward_sigmoid(train_images_b, W) \n",
        "    #loss = ce_loss(Y_train, y_pred)\n",
        "    #print(\"Epoch \",epoch,\" Loss =\", loss)\n",
        "  y_pred=forward_sigmoid(train_images_b, W) \n",
        "  loss = ce_loss(Y_train, y_pred)\n",
        "  print(\"Epoch \",epoch,\" Loss =\", loss)\n",
        "  return W\n",
        "\n",
        "#train categorical cross entropy\n",
        "def train_model_cc(train_images_b, Y_train,lr,batch_size,epochs):\n",
        "  print(\"train model cc\")\n",
        "  lr=lr\n",
        "  batch_size=batch_size\n",
        "  epochs=epochs\n",
        "  W= np.zeros((train_images_b.shape[1], 10))\n",
        "  m = train_images_b.shape[0]\n",
        "  \n",
        "  for epoch in range (0,epochs): \n",
        "    shuffled_indices = np.random.permutation(m)\n",
        "    X_shuffled = train_images_b[shuffled_indices]\n",
        "    y_shuffled = Y_train[shuffled_indices]\n",
        "    \n",
        "    for i in range(0, m, batch_size):    \n",
        "      X = X_shuffled[i : i + batch_size]\n",
        "      Y = y_shuffled[i : i + batch_size]  \n",
        "\n",
        "      y_pred = forward_softmax(X, W)   \n",
        "      \n",
        "      dZ = (1/batch_size)*(y_pred - Y) \n",
        "      dW = X.T.dot(dZ) \n",
        "\n",
        "      W = W - lr*dW \n",
        "    \n",
        "    y_pred=forward_softmax(train_images_b, W) \n",
        "    loss = cc_loss(Y_train, y_pred)\n",
        "    print(\"Epoch \",epoch,\" Loss =\", loss)\n",
        "  y_pred=forward_softmax(train_images_b, W) \n",
        "  loss = cc_loss(Y_train, y_pred)\n",
        "  print(\"Epoch \",epoch,\" Final Loss =\", loss)\n",
        "  return W"
      ],
      "execution_count": 0,
      "outputs": []
    },
    {
      "metadata": {
        "colab_type": "text",
        "id": "Rb55uPoqfbub"
      },
      "cell_type": "markdown",
      "source": [
        "## Load and Explore data"
      ]
    },
    {
      "metadata": {
        "colab_type": "text",
        "id": "rNUKocuqfbug"
      },
      "cell_type": "markdown",
      "source": [
        "### Exploring the format of the MNIST digits data set"
      ]
    },
    {
      "metadata": {
        "colab_type": "code",
        "outputId": "55d0d6a3-d1a9-43b7-b2a1-d2d85f65e75b",
        "id": "n-ZpuWOpfbul",
        "colab": {
          "base_uri": "https://localhost:8080/",
          "height": 85
        }
      },
      "cell_type": "code",
      "source": [
        "\n",
        "from keras.datasets import mnist\n",
        "import numpy as np\n",
        "import matplotlib.pyplot as plt\n",
        "np.random.seed(42)\n",
        "(train_images_original, train_labels_original), (test_images_original, test_labels_original) = mnist.load_data()\n",
        "\n",
        "print(\"train_images_original \",train_images_original.shape)\n",
        "print(\"len train_images_original\", len(train_images_original))\n",
        "#print(train_images_original.ndim)\n",
        "print(\"train_labels_original \",train_labels_original)\n",
        "print(\"train_labels_original.shape \", train_labels_original.shape)"
      ],
      "execution_count": 10,
      "outputs": [
        {
          "output_type": "stream",
          "text": [
            "train_images_original  (60000, 28, 28)\n",
            "len train_images_original 60000\n",
            "train_labels_original  [5 0 4 ... 5 6 8]\n",
            "train_labels_original.shape  (60000,)\n"
          ],
          "name": "stdout"
        }
      ]
    },
    {
      "metadata": {
        "colab_type": "text",
        "id": "2Gjuk1v1fbux"
      },
      "cell_type": "markdown",
      "source": [
        "### Displaying MNIST digits"
      ]
    },
    {
      "metadata": {
        "colab_type": "code",
        "outputId": "0738891a-c69c-4a97-cc1c-6da2c2524074",
        "id": "7FtUX_sNfbuz",
        "colab": {
          "base_uri": "https://localhost:8080/",
          "height": 105
        }
      },
      "cell_type": "code",
      "source": [
        "import matplotlib.pyplot as plt\n",
        "digit_0 = train_images_original[0]\n",
        "plt.figure(figsize=(1,1))\n",
        "plt.imshow(digit_0)\n",
        "plt.grid(None)\n",
        "plt.show()"
      ],
      "execution_count": 11,
      "outputs": [
        {
          "output_type": "display_data",
          "data": {
            "image/png": "[encoded data removed]",
            "text/plain": [
              "<Figure size 72x72 with 1 Axes>"
            ]
          },
          "metadata": {
            "tags": []
          }
        }
      ]
    },
    {
      "metadata": {
        "colab_type": "code",
        "outputId": "e922ad6a-1ed3-42b8-ba26-ba46048855b5",
        "id": "5_ZRZ2m7fbu-",
        "colab": {
          "base_uri": "https://localhost:8080/",
          "height": 51
        }
      },
      "cell_type": "code",
      "source": [
        "print(\"digit_0.shape \",digit_0.shape)\n",
        "print(\"label0 \",train_labels_original[0])"
      ],
      "execution_count": 12,
      "outputs": [
        {
          "output_type": "stream",
          "text": [
            "digit_0.shape  (28, 28)\n",
            "label0  5\n"
          ],
          "name": "stdout"
        }
      ]
    },
    {
      "metadata": {
        "colab_type": "text",
        "id": "QhcR68kqfbvG"
      },
      "cell_type": "markdown",
      "source": [
        "### Preparing the image data"
      ]
    },
    {
      "metadata": {
        "colab_type": "code",
        "outputId": "1b42ea2b-ae6f-48ae-a833-cac90407e1eb",
        "id": "J__TZvqpfbvH",
        "colab": {
          "base_uri": "https://localhost:8080/",
          "height": 51
        }
      },
      "cell_type": "code",
      "source": [
        "train_images = train_images_original.reshape((60000, 28 * 28))\n",
        "train_images = train_images.astype('float32') / 255\n",
        "\n",
        "test_images = test_images_original.reshape((10000, 28 * 28))\n",
        "test_images = test_images.astype('float32') / 255\n",
        "print(\"train_images.shape \", train_images.shape)\n",
        "print(\"train_images_original.shape \", train_images_original.shape)\n",
        "\n"
      ],
      "execution_count": 13,
      "outputs": [
        {
          "output_type": "stream",
          "text": [
            "train_images.shape  (60000, 784)\n",
            "train_images_original.shape  (60000, 28, 28)\n"
          ],
          "name": "stdout"
        }
      ]
    },
    {
      "metadata": {
        "id": "vFNIccapq4wA",
        "colab_type": "text"
      },
      "cell_type": "markdown",
      "source": [
        "## Problem 1 Explore"
      ]
    },
    {
      "metadata": {
        "id": "ddXepMgiq6gY",
        "colab_type": "text"
      },
      "cell_type": "markdown",
      "source": [
        "Use logistic regression with mean squared error loss."
      ]
    },
    {
      "metadata": {
        "id": "juROLzMWBu7s",
        "colab_type": "code",
        "outputId": "fa4dfa74-178e-4a88-eac3-34701a311937",
        "colab": {
          "base_uri": "https://localhost:8080/",
          "height": 68
        }
      },
      "cell_type": "code",
      "source": [
        "# add bias to each instance\n",
        "m,n=train_images.shape\n",
        "train_images_b = np.c_[np.ones((m, 1)), train_images]\n",
        "\n",
        "print(\"train_images_b.shape \", train_images_b.shape)\n",
        "print(\"train_labels_original.shape \",train_labels_original.shape)\n",
        "\n",
        "# fix initial random weight for \n",
        "# - mini-batch gradient descent\n",
        "np.random.seed(42)\n",
        "initial_weight = np.random.randn(n+1, 1) \n",
        "print(\"initial_weight.shape \",initial_weight.shape)"
      ],
      "execution_count": 14,
      "outputs": [
        {
          "output_type": "stream",
          "text": [
            "train_images_b.shape  (60000, 785)\n",
            "train_labels_original.shape  (60000,)\n",
            "initial_weight.shape  (785, 1)\n"
          ],
          "name": "stdout"
        }
      ]
    },
    {
      "metadata": {
        "id": "uVo1xpf7n8eV",
        "colab_type": "text"
      },
      "cell_type": "markdown",
      "source": [
        "### 0 Classifier create a 0 classifier first"
      ]
    },
    {
      "metadata": {
        "id": "F3FPJS6zOaY9",
        "colab_type": "code",
        "outputId": "c03d3b55-ecff-4dc8-e74b-dec79cbb5632",
        "colab": {
          "base_uri": "https://localhost:8080/",
          "height": 122
        }
      },
      "cell_type": "code",
      "source": [
        "train_labels_0=(train_labels_original==0)\n",
        "train_labels_0=train_labels_0.astype('int')\n",
        "print(\"train_labels_0.shape \",train_labels_0.shape)\n",
        "\n",
        "initial_weight=np.zeros((n+1, 1))\n",
        "train_labels_0=train_labels_0.reshape(m,1)\n",
        "digit_0 = train_images_original[1]\n",
        "plt.figure(figsize=(1,1))\n",
        "plt.imshow(digit_0)\n",
        "plt.grid(None)\n",
        "plt.show()"
      ],
      "execution_count": 15,
      "outputs": [
        {
          "output_type": "stream",
          "text": [
            "train_labels_0.shape  (60000,)\n"
          ],
          "name": "stdout"
        },
        {
          "output_type": "display_data",
          "data": {
            "image/png": "[encoded data removed]",
            "text/plain": [
              "<Figure size 72x72 with 1 Axes>"
            ]
          },
          "metadata": {
            "tags": []
          }
        }
      ]
    },
    {
      "metadata": {
        "id": "w6aMKvgDKC9n",
        "colab_type": "code",
        "outputId": "ff944c8f-dfba-4dbf-d0ae-214bac9782ec",
        "colab": {
          "base_uri": "https://localhost:8080/",
          "height": 51
        }
      },
      "cell_type": "code",
      "source": [
        "# number of epochs\n",
        "epochs = 20\n",
        "# learning rate\n",
        "lr = 0.001\n",
        "weight = initial_weight\n",
        "batch_size = 64\n",
        "\n",
        "for epoch in range(epochs):\n",
        "    shuffled_indices = np.random.permutation(m)\n",
        "    train_images_b_shuffled = train_images_b[shuffled_indices]\n",
        "    y_shuffled = train_labels_0[shuffled_indices]\n",
        "    for i in range(0, m, batch_size):\n",
        "        xi = train_images_b_shuffled[i:i+batch_size,:]\n",
        "        yi = y_shuffled[i:i+batch_size,:]\n",
        "        z=xi.dot(weight)\n",
        "        a=sigmoid(z)\n",
        "        da=(a -yi)\n",
        "        dz=da*a*(1-a)\n",
        "        gradient = 1/batch_size * xi.T.dot(dz)\n",
        "        weight = weight - lr * gradient\n",
        "\n",
        "\n",
        "y_predict = sigmoid(train_images_b[1].dot(weight))                  \n",
        "print(\"score for a 0 example \", y_predict)\n",
        "print(\"Is 0?\", y_predict>0.6)"
      ],
      "execution_count": 17,
      "outputs": [
        {
          "output_type": "stream",
          "text": [
            "score for a 0 example  [0.84862049]\n",
            "Is 0? [ True]\n"
          ],
          "name": "stdout"
        }
      ]
    },
    {
      "metadata": {
        "id": "4VQejHbPsjqj",
        "colab_type": "text"
      },
      "cell_type": "markdown",
      "source": [
        "### Train 10 classifiers that perform binary classification¶"
      ]
    },
    {
      "metadata": {
        "id": "WQPQhnIhiGme",
        "colab_type": "code",
        "outputId": "99b3ee95-f362-4031-cda8-a13835f6b841",
        "colab": {
          "base_uri": "https://localhost:8080/",
          "height": 51
        }
      },
      "cell_type": "code",
      "source": [
        "from keras.utils import to_categorical\n",
        "\n",
        "train_labels = to_categorical(train_labels_original)\n",
        "test_labels = to_categorical(test_labels_original)\n",
        "\n",
        "print(train_labels.shape)\n",
        "print(train_labels.dtype)"
      ],
      "execution_count": 18,
      "outputs": [
        {
          "output_type": "stream",
          "text": [
            "(60000, 10)\n",
            "float32\n"
          ],
          "name": "stdout"
        }
      ]
    },
    {
      "metadata": {
        "id": "7Od18Co1idH8",
        "colab_type": "code",
        "colab": {}
      },
      "cell_type": "code",
      "source": [
        "def my_own_categoricalv3 (train_labels_original):\n",
        "  train_labels_i=np.zeros((train_labels_original.shape[0],10))\n",
        "  for i in range(0,9):\n",
        "\n",
        "    train_labels_i_temp=train_labels_original==i\n",
        "    train_labels_i_temp=train_labels_i_temp.astype('float32')\n",
        "    train_labels_i[:,i]=train_labels_i_temp\n",
        "  return train_labels_i"
      ],
      "execution_count": 0,
      "outputs": []
    },
    {
      "metadata": {
        "id": "Z-61zJS3i2Kt",
        "colab_type": "code",
        "outputId": "200f3fd8-e627-4553-8324-86dd26ab8692",
        "colab": {
          "base_uri": "https://localhost:8080/",
          "height": 51
        }
      },
      "cell_type": "code",
      "source": [
        "train_labels_i=my_own_categorical(train_labels_original)\n",
        "#test\n",
        "train_labels==train_labels_i\n",
        "weight_i=np.zeros((train_images_b.shape[1],10))\n",
        "print(\"weight_i.shape \",weight_i.shape)\n",
        "print(\"initial_weight.shape \",initial_weight.shape)"
      ],
      "execution_count": 20,
      "outputs": [
        {
          "output_type": "stream",
          "text": [
            "weight_i.shape  (785, 10)\n",
            "initial_weight.shape  (785, 1)\n"
          ],
          "name": "stdout"
        }
      ]
    },
    {
      "metadata": {
        "id": "5tdsZG1ustii",
        "colab_type": "code",
        "colab": {}
      },
      "cell_type": "code",
      "source": [
        "lr=0.001\n",
        "features=initial_weight.shape[0]\n",
        "weight_i=np.zeros((features,10))\n",
        "\n",
        "for dig in range(0,10):\n",
        "  weight = initial_weight\n",
        "  for epoch in range(epochs):\n",
        "      shuffled_indices = np.random.permutation(m)\n",
        "      train_images_b_shuffled = train_images_b[shuffled_indices]\n",
        "      y_shuffled = train_labels_i[:,dig][shuffled_indices]\n",
        "      y_shuffled=y_shuffled.reshape(m,1)\n",
        "      for i in range(0, m, batch_size):\n",
        "          xi = train_images_b_shuffled[i:i+batch_size,:]\n",
        "          yi = y_shuffled[i:i+batch_size,:]\n",
        "          z=xi.dot(weight)\n",
        "          a=sigmoid(z)\n",
        "          da=(a-yi)\n",
        "          dz=da*a*(1-a)\n",
        "          \n",
        "          gradient = 1/batch_size * xi.T.dot(dz)\n",
        "          weight = weight - lr * gradient\n",
        "  \n",
        "  weight_i[:,dig]=weight.reshape(features)"
      ],
      "execution_count": 0,
      "outputs": []
    },
    {
      "metadata": {
        "id": "bb5_zajntewU",
        "colab_type": "text"
      },
      "cell_type": "markdown",
      "source": [
        "###Evaluate predictions\n"
      ]
    },
    {
      "metadata": {
        "id": "7z279C1AthLj",
        "colab_type": "code",
        "outputId": "5c15384d-77f2-46d9-e613-19ddcae5abf9",
        "colab": {
          "base_uri": "https://localhost:8080/",
          "height": 432
        }
      },
      "cell_type": "code",
      "source": [
        "y_predict = sigmoid(train_images_b[1].dot(weight_i))                  \n",
        "print(y_predict)\n",
        "print(y_predict.shape)\n",
        "print(\"Predicted value \", np.argmax(y_predict))\n",
        "print(\"Real value\", train_labels_original[1])\n",
        "digit_0 = train_images_original[1]\n",
        "plt.imshow(digit_0)\n",
        "plt.grid(None)\n",
        "plt.show()"
      ],
      "execution_count": 23,
      "outputs": [
        {
          "output_type": "stream",
          "text": [
            "[0.84852268 0.02423489 0.06379173 0.08225334 0.03186063 0.17802399\n",
            " 0.09224523 0.06611184 0.07608448 0.05540466]\n",
            "(10,)\n",
            "Predicted value  0\n",
            "Real value 0\n"
          ],
          "name": "stdout"
        },
        {
          "output_type": "display_data",
          "data": {
            "image/png": "[encoded data removed]",
            "text/plain": [
              "<Figure size 576x396 with 1 Axes>"
            ]
          },
          "metadata": {
            "tags": []
          }
        }
      ]
    },
    {
      "metadata": {
        "id": "CZABis9ptkja",
        "colab_type": "code",
        "outputId": "3234d27b-3360-4fce-e6ac-202c396acbbf",
        "colab": {
          "base_uri": "https://localhost:8080/",
          "height": 85
        }
      },
      "cell_type": "code",
      "source": [
        "# Train accuracy\n",
        "m=train_labels_original.shape[0]\n",
        "\n",
        "predicted_labels_raw=sigmoid(train_images_b.dot(weight_i))  \n",
        "print(predicted_labels_raw.shape)\n",
        "predicted_labels=np.argmax(predicted_labels_raw,axis=1)\n",
        "print(predicted_labels.shape)\n",
        "print(train_labels_original.shape)\n",
        "predicted_labels = predicted_labels.astype('uint8')\n",
        "train_labels_original=train_labels_original.astype('uint8')\n",
        "\n",
        "wrong_indices = [i for i in range(m) if predicted_labels[i] != train_labels_original[i]]\n",
        "# The quantity below is equal to the test accuracy reported by the network fit method.\n",
        "acc_train=1.0 - len(wrong_indices) / m\n",
        "print(\"Train accuracy= \", acc_train)"
      ],
      "execution_count": 24,
      "outputs": [
        {
          "output_type": "stream",
          "text": [
            "(60000, 10)\n",
            "(60000,)\n",
            "(60000,)\n",
            "Train accuracy=  0.7928\n"
          ],
          "name": "stdout"
        }
      ]
    },
    {
      "metadata": {
        "id": "h9psJFqAtn1G",
        "colab_type": "code",
        "outputId": "0d80c349-39a6-4ba3-a7d5-51bfc4f5ba3c",
        "colab": {
          "base_uri": "https://localhost:8080/",
          "height": 85
        }
      },
      "cell_type": "code",
      "source": [
        "# Test accuracy\n",
        "mt=test_labels_original.shape[0]\n",
        "\n",
        "#m,n=test_images.shape\n",
        "\n",
        "test_images_b = np.c_[np.ones((mt, 1)), test_images]\n",
        "\n",
        "predicted_labels_test_raw=sigmoid(test_images_b.dot(weight_i))  \n",
        "print(predicted_labels_test_raw.shape)\n",
        "predicted_labels_test=np.argmax(predicted_labels_test_raw,axis=1)\n",
        "print(predicted_labels_test.shape)\n",
        "print(test_labels_original.shape)\n",
        "predicted_labels_test = predicted_labels_test.astype('uint8')\n",
        "test_labels_original=test_labels_original.astype('uint8')\n",
        "\n",
        "wrong_indices_test = [i for i in range(mt) if predicted_labels_test[i] != test_labels_original[i]]\n",
        "# The quantity below is equal to the test accuracy reported by the network fit method.\n",
        "acc_test=1.0 - len(wrong_indices_test) / mt\n",
        "print(\"Test accuracy= \",acc_test)"
      ],
      "execution_count": 26,
      "outputs": [
        {
          "output_type": "stream",
          "text": [
            "(10000, 10)\n",
            "(10000,)\n",
            "(10000,)\n",
            "Test accuracy=  0.8038\n"
          ],
          "name": "stdout"
        }
      ]
    },
    {
      "metadata": {
        "id": "q8IAOHr_rt_i",
        "colab_type": "text"
      },
      "cell_type": "markdown",
      "source": [
        "## Problem 1 Final solution --Use logistic regression with mean squared error loss."
      ]
    },
    {
      "metadata": {
        "id": "Wp89xwqkrzEb",
        "colab_type": "code",
        "outputId": "880333f2-3d99-480c-bdb5-ae38b4826bfd",
        "colab": {
          "base_uri": "https://localhost:8080/",
          "height": 527
        }
      },
      "cell_type": "code",
      "source": [
        "#Train\n",
        "# load the data , adding bias\n",
        "train_images_b, train_labels_original, test_images_b, test_labels_original=load_data()\n",
        "#Use one hot encode\n",
        "Y=my_own_categorical(train_labels_original)\n",
        "# create a weight matrix, to save each of the 10 classifiers all in one matrix\n",
        "Wi = np.zeros((train_images_b.shape[1],10))\n",
        "\n",
        "#Train the 10 digit classifiers\n",
        "for dig in range(10):\n",
        "  print(\"Digit \", dig)\n",
        "  Wi[:,dig] = train_model_se(train_images_b, Y[:,dig].reshape(-1,1), 0.01, 64, 10).reshape(train_images_b.shape[1],)\n"
      ],
      "execution_count": 45,
      "outputs": [
        {
          "output_type": "stream",
          "text": [
            "Digit  0\n",
            "train model se\n",
            "Epoch  9  Loss = 0.008188595697889657\n",
            "Digit  1\n",
            "train model se\n",
            "Epoch  9  Loss = 0.007572666606173217\n",
            "Digit  2\n",
            "train model se\n",
            "Epoch  9  Loss = 0.015286626168339972\n",
            "Digit  3\n",
            "train model se\n",
            "Epoch  9  Loss = 0.017118282804188017\n",
            "Digit  4\n",
            "train model se\n",
            "Epoch  9  Loss = 0.014018825865402953\n",
            "Digit  5\n",
            "train model se\n",
            "Epoch  9  Loss = 0.020700299471257854\n",
            "Digit  6\n",
            "train model se\n",
            "Epoch  9  Loss = 0.01018965232029039\n",
            "Digit  7\n",
            "train model se\n",
            "Epoch  9  Loss = 0.011021169284100732\n",
            "Digit  8\n",
            "train model se\n",
            "Epoch  9  Loss = 0.027291575411390344\n",
            "Digit  9\n",
            "train model se\n",
            "Epoch  9  Loss = 0.02325782300814567\n"
          ],
          "name": "stdout"
        }
      ]
    },
    {
      "metadata": {
        "id": "Eo8kGObnr36v",
        "colab_type": "code",
        "outputId": "8cbe4fe7-9994-48b2-b2e9-c619634a3eb4",
        "colab": {
          "base_uri": "https://localhost:8080/",
          "height": 204
        }
      },
      "cell_type": "code",
      "source": [
        "#Evaluation independent, for each digit using th =0.6\n",
        "for i in range (10):\n",
        "  Y_predicted = (forward_sigmoid(test_images_b, Wi[:,i].reshape(test_images_b.shape[1],-1))>0.6)\n",
        "  accuracy = np.sum((Y_predicted == (test_labels_original == i).reshape(-1,1)))/test_labels_original.shape[0]\n",
        "  print (\"Digit \", i, \"Accuracy\", accuracy)\n",
        "\n",
        "\n",
        "# Evaluation total\n",
        "predicted_labels_testw=np.argmax(forward_sigmoid(test_images_b,Wi),axis=1).astype('uint8')\n",
        "acc_test=sum(predicted_labels_testw==test_labels_original)/test_labels_original.shape[0]\n",
        "print(\"Total Test accuracy= \",acc_test)\n",
        "\n",
        "# or\n",
        "#wrong_indices_test = [i for i in range(test_images_b.shape[0]) if predicted_labels_test[i] != test_labels_original[i]]\n",
        "#acc_test=1.0 - len(wrong_indices_test) / test_images_b.shape[0]\n"
      ],
      "execution_count": 46,
      "outputs": [
        {
          "output_type": "stream",
          "text": [
            "Digit  0 Accuracy 0.9845\n",
            "Digit  1 Accuracy 0.9861\n",
            "Digit  2 Accuracy 0.9607\n",
            "Digit  3 Accuracy 0.9598\n",
            "Digit  4 Accuracy 0.963\n",
            "Digit  5 Accuracy 0.9459\n",
            "Digit  6 Accuracy 0.9757\n",
            "Digit  7 Accuracy 0.9729\n",
            "Digit  8 Accuracy 0.9289\n",
            "Digit  9 Accuracy 0.9407\n",
            "Total Test accuracy=  0.8738\n"
          ],
          "name": "stdout"
        }
      ]
    },
    {
      "metadata": {
        "id": "lj9TJlLOq73O",
        "colab_type": "text"
      },
      "cell_type": "markdown",
      "source": [
        "## Problem 2 Explore"
      ]
    },
    {
      "metadata": {
        "id": "9-wzODv-q9cF",
        "colab_type": "text"
      },
      "cell_type": "markdown",
      "source": [
        "Use logistic regression with binary cross entropy loss.\n",
        "\n",
        "\n"
      ]
    },
    {
      "metadata": {
        "id": "KqZpFimYVBYj",
        "colab_type": "code",
        "colab": {}
      },
      "cell_type": "code",
      "source": [
        "# add bias to each instance\n",
        "m,n=train_images.shape\n",
        "train_images_b = np.c_[np.ones((m, 1)), train_images]\n",
        "\n",
        "\n",
        "# fix initial random weight for \n",
        "# - mini-batch gradient descent\n",
        "np.random.seed(42)\n",
        "initial_weight = np.random.randn(n+1, 1) "
      ],
      "execution_count": 0,
      "outputs": []
    },
    {
      "metadata": {
        "id": "iUZoYYV5p9WL",
        "colab_type": "text"
      },
      "cell_type": "markdown",
      "source": [
        "### 0 Classifier  create a 0 classifier first"
      ]
    },
    {
      "metadata": {
        "id": "7LdoyAoGqA8c",
        "colab_type": "code",
        "outputId": "f2273792-6355-478d-aee2-192f880291a5",
        "colab": {
          "base_uri": "https://localhost:8080/",
          "height": 136
        }
      },
      "cell_type": "code",
      "source": [
        "train_labels_0=train_labels_original==0\n",
        "train_labels_0=train_labels_0.astype('int')\n",
        "train_labels_0=train_labels_0.reshape(m,1)\n",
        "train_labels_0"
      ],
      "execution_count": 49,
      "outputs": [
        {
          "output_type": "execute_result",
          "data": {
            "text/plain": [
              "array([[0],\n",
              "       [1],\n",
              "       [0],\n",
              "       ...,\n",
              "       [0],\n",
              "       [0],\n",
              "       [0]])"
            ]
          },
          "metadata": {
            "tags": []
          },
          "execution_count": 49
        }
      ]
    },
    {
      "metadata": {
        "id": "bqUBglVgVPc-",
        "colab_type": "code",
        "outputId": "35b953f9-7593-4129-afe5-a53fa1a8faa3",
        "colab": {
          "base_uri": "https://localhost:8080/",
          "height": 34
        }
      },
      "cell_type": "code",
      "source": [
        "# number of epochs\n",
        "epochs = 20\n",
        "# learning rate\n",
        "lr = 0.01\n",
        "weight = initial_weight\n",
        "batch_size = 64\n",
        "\n",
        "for epoch in range(epochs):\n",
        "    shuffled_indices = np.random.permutation(m)\n",
        "    train_images_b_shuffled = train_images_b[shuffled_indices]\n",
        "    y_shuffled = train_labels_0[shuffled_indices]\n",
        "    for i in range(0, m, batch_size):\n",
        "        xi = train_images_b_shuffled[i:i+batch_size,:]\n",
        "        yi = y_shuffled[i:i+batch_size,:]\n",
        "        z=xi.dot(weight)\n",
        "        a=sigmoid(z)\n",
        "        gradient = 1/batch_size * xi.T.dot(a -yi)\n",
        "        weight = weight - lr * gradient\n",
        "\n",
        "\n",
        "y_predict = sigmoid(train_images_b[1].dot(weight))                  \n",
        "y_predict "
      ],
      "execution_count": 0,
      "outputs": [
        {
          "output_type": "execute_result",
          "data": {
            "text/plain": [
              "array([0.99999102])"
            ]
          },
          "metadata": {
            "tags": []
          },
          "execution_count": 129
        }
      ]
    },
    {
      "metadata": {
        "id": "BID_N_Q2qNpd",
        "colab_type": "text"
      },
      "cell_type": "markdown",
      "source": [
        "### Train 10 classifiers that perform binary classification"
      ]
    },
    {
      "metadata": {
        "id": "Z_LGBCrbXXyC",
        "colab_type": "code",
        "outputId": "ada11db6-71a9-4375-9580-3756a8686a80",
        "colab": {
          "base_uri": "https://localhost:8080/",
          "height": 68
        }
      },
      "cell_type": "code",
      "source": [
        "train_labels_i=np.zeros((m,10))\n",
        "for i in range(0,9):\n",
        "  \n",
        "  train_labels_i_temp=train_labels_original==i\n",
        "  train_labels_i_temp=train_labels_i_temp.astype('int')\n",
        "  train_labels_i[:,i]=train_labels_i_temp\n",
        "\n",
        "print(\"train_labels_i.shape \",train_labels_i.shape)\n",
        "train_labels_i\n",
        "\n",
        "weight_i=np.zeros((features,10))\n",
        "print(\"weight_i.shape \",weight_i.shape)\n",
        "print(\"initial_weight.shape \",initial_weight.shape)"
      ],
      "execution_count": 0,
      "outputs": [
        {
          "output_type": "stream",
          "text": [
            "train_labels_i.shape  (60000, 10)\n",
            "weight_i.shape  (785, 10)\n",
            "initial_weight.shape  (785, 1)\n"
          ],
          "name": "stdout"
        }
      ]
    },
    {
      "metadata": {
        "id": "qjx1gSKzYiPp",
        "colab_type": "code",
        "colab": {}
      },
      "cell_type": "code",
      "source": [
        "features=initial_weight.shape[0]\n",
        "weight_i=np.zeros((features,10))\n",
        "\n",
        "for dig in range(0,10):\n",
        "  weight = initial_weight\n",
        "  for epoch in range(epochs):\n",
        "      shuffled_indices = np.random.permutation(m)\n",
        "      train_images_b_shuffled = train_images_b[shuffled_indices]\n",
        "      y_shuffled = train_labels_i[:,dig][shuffled_indices]\n",
        "      y_shuffled=y_shuffled.reshape(m,1)\n",
        "      for i in range(0, m, batch_size):\n",
        "          xi = train_images_b_shuffled[i:i+batch_size,:]\n",
        "          yi = y_shuffled[i:i+batch_size,:]\n",
        "          z=xi.dot(weight)\n",
        "          a=sigmoid(z)\n",
        "          gradient = 1/batch_size * xi.T.dot(a -yi)\n",
        "          weight = weight - lr * gradient\n",
        "  \n",
        "  weight_i[:,dig]=weight.reshape(features)\n",
        "  \n",
        "\n"
      ],
      "execution_count": 0,
      "outputs": []
    },
    {
      "metadata": {
        "id": "nvDtffpjq8vd",
        "colab_type": "text"
      },
      "cell_type": "markdown",
      "source": [
        "### Evaluate predictions"
      ]
    },
    {
      "metadata": {
        "id": "PNZpXczXegXy",
        "colab_type": "code",
        "outputId": "252cd202-efa0-4031-9d56-3874e6286bdd",
        "colab": {
          "base_uri": "https://localhost:8080/",
          "height": 119
        }
      },
      "cell_type": "code",
      "source": [
        "y_predict = sigmoid(train_images_b[1].dot(weight_i))                  \n",
        "print(y_predict)\n",
        "print(y_predict.shape)\n",
        "print(\"Prediction \", np.argmax(y_predict))\n",
        "print(\"Real \", train_labels_original[1])\n"
      ],
      "execution_count": 0,
      "outputs": [
        {
          "output_type": "stream",
          "text": [
            "[9.99989021e-01 8.99393648e-14 2.02758138e-05 6.63176426e-05\n",
            " 2.90132861e-11 3.80585527e-04 1.23040999e-06 5.84885858e-08\n",
            " 9.09319506e-05 1.28432025e-14]\n",
            "(10,)\n",
            "Prediction  0\n",
            "Real  0\n"
          ],
          "name": "stdout"
        }
      ]
    },
    {
      "metadata": {
        "id": "eoE15iPWfZtw",
        "colab_type": "code",
        "outputId": "2f2937ad-6e9a-4e41-e9f0-42dc0f88a6a5",
        "colab": {
          "base_uri": "https://localhost:8080/",
          "height": 85
        }
      },
      "cell_type": "code",
      "source": [
        "# Train accuracy\n",
        "m=train_labels_original.shape[0]\n",
        "\n",
        "predicted_labels_raw=sigmoid(train_images_b.dot(weight_i))  \n",
        "print(predicted_labels_raw.shape)\n",
        "predicted_labels=np.argmax(predicted_labels_raw,axis=1)\n",
        "print(predicted_labels.shape)\n",
        "print(train_labels_original.shape)\n",
        "predicted_labels = predicted_labels.astype('uint8')\n",
        "train_labels_original=train_labels_original.astype('uint8')\n",
        "\n",
        "wrong_indices = [i for i in range(m) if predicted_labels[i] != train_labels_original[i]]\n",
        "# The quantity below is equal to the test accuracy reported by the network fit method.\n",
        "acc_train=1.0 - len(wrong_indices) / m\n",
        "print(\"Train acc= \", acc_train)"
      ],
      "execution_count": 0,
      "outputs": [
        {
          "output_type": "stream",
          "text": [
            "(60000, 10)\n",
            "(60000,)\n",
            "(60000,)\n",
            "Train acc=  0.8255833333333333\n"
          ],
          "name": "stdout"
        }
      ]
    },
    {
      "metadata": {
        "id": "2yhEQ0aSgQL5",
        "colab_type": "code",
        "outputId": "4e51773a-c1b7-41ef-cf13-443b8b00ebb8",
        "colab": {
          "base_uri": "https://localhost:8080/",
          "height": 85
        }
      },
      "cell_type": "code",
      "source": [
        "# Test accuracy\n",
        "mt=test_labels_original.shape[0]\n",
        "\n",
        "#m,n=test_images.shape\n",
        "\n",
        "test_images_b = np.c_[np.ones((mt, 1)), test_images]\n",
        "\n",
        "predicted_labels_test_raw=sigmoid(test_images_b.dot(weight_i))  \n",
        "print(predicted_labels_test_raw.shape)\n",
        "predicted_labels_test=np.argmax(predicted_labels_test_raw,axis=1)\n",
        "print(predicted_labels_test.shape)\n",
        "print(test_labels_original.shape)\n",
        "predicted_labels_test = predicted_labels_test.astype('uint8')\n",
        "test_labels_original=test_labels_original.astype('uint8')\n",
        "\n",
        "wrong_indices_test = [i for i in range(mt) if predicted_labels_test[i] != test_labels_original[i]]\n",
        "# The quantity below is equal to the test accuracy reported by the network fit method.\n",
        "acc_test=1.0 - len(wrong_indices_test) / mt\n",
        "print(\"Test acc= \",acc_test)"
      ],
      "execution_count": 0,
      "outputs": [
        {
          "output_type": "stream",
          "text": [
            "(10000, 10)\n",
            "(10000,)\n",
            "(10000,)\n",
            "Test acc=  0.8296\n"
          ],
          "name": "stdout"
        }
      ]
    },
    {
      "metadata": {
        "id": "54YHgL75dksT",
        "colab_type": "code",
        "outputId": "f7e72432-ef6a-4dd8-ae5a-8c27141f9d82",
        "colab": {
          "base_uri": "https://localhost:8080/",
          "height": 381
        }
      },
      "cell_type": "code",
      "source": [
        "# This show the ith misclassified digit. \n",
        "i = 4\n",
        "wrong_index = wrong_indices[i]\n",
        "\n",
        "print(predicted_labels[wrong_index])\n",
        "print(train_labels_original[wrong_index])\n",
        "plt.imshow(train_images_original[wrong_index])\n",
        "plt.grid(None)\n",
        "plt.show()"
      ],
      "execution_count": 0,
      "outputs": [
        {
          "output_type": "stream",
          "text": [
            "7\n",
            "2\n"
          ],
          "name": "stdout"
        },
        {
          "output_type": "display_data",
          "data": {
            "image/png": "[encoded data removed]",
            "text/plain": [
              "<Figure size 576x396 with 1 Axes>"
            ]
          },
          "metadata": {
            "tags": []
          }
        }
      ]
    },
    {
      "metadata": {
        "id": "kEVeX4ohtQU9",
        "colab_type": "text"
      },
      "cell_type": "markdown",
      "source": [
        "## Problem 2  Final Solution  --Use logistic regression with binary cross entropy loss."
      ]
    },
    {
      "metadata": {
        "id": "d20-Aj4StcHm",
        "colab_type": "code",
        "outputId": "cb031deb-da4b-44d4-84d8-8ee8f6838e7f",
        "colab": {
          "base_uri": "https://localhost:8080/",
          "height": 527
        }
      },
      "cell_type": "code",
      "source": [
        "#Train\n",
        "# load the data , adding bias\n",
        "train_images_b, train_labels_original, test_images_b, test_labels_original=load_data()\n",
        "#Use one hot encode\n",
        "Y=my_own_categorical(train_labels_original)\n",
        "# create a weight matrix, to save each of the 10 classifiers all in one matrix\n",
        "Wi = np.zeros((train_images_b.shape[1],10))\n",
        "#Train the 10 digit classifiers\n",
        "for i in range(10):\n",
        "  print(\"Digit \", i)\n",
        "  Wi[:,i] = train_model_ce(train_images_b, Y[:,i].reshape(-1,1), 0.01, 64, 10).reshape(train_images_b.shape[1],)\n",
        "  \n"
      ],
      "execution_count": 50,
      "outputs": [
        {
          "output_type": "stream",
          "text": [
            "Digit  0\n",
            "train model ce\n",
            "Epoch  9  Loss = 0.04195797193696019\n",
            "Digit  1\n",
            "train model ce\n",
            "Epoch  9  Loss = 0.040182475161397196\n",
            "Digit  2\n",
            "train model ce\n",
            "Epoch  9  Loss = 0.08653124898938439\n",
            "Digit  3\n",
            "train model ce\n",
            "Epoch  9  Loss = 0.10055632266295503\n",
            "Digit  4\n",
            "train model ce\n",
            "Epoch  9  Loss = 0.07101065385409575\n",
            "Digit  5\n",
            "train model ce\n",
            "Epoch  9  Loss = 0.11289626254502055\n",
            "Digit  6\n",
            "train model ce\n",
            "Epoch  9  Loss = 0.05371325877894649\n",
            "Digit  7\n",
            "train model ce\n",
            "Epoch  9  Loss = 0.06136564965533448\n",
            "Digit  8\n",
            "train model ce\n",
            "Epoch  9  Loss = 0.15139304294179257\n",
            "Digit  9\n",
            "train model ce\n",
            "Epoch  9  Loss = 0.12337392607122807\n"
          ],
          "name": "stdout"
        }
      ]
    },
    {
      "metadata": {
        "id": "vMp6bJ94tjnj",
        "colab_type": "code",
        "outputId": "1bbdac5a-21f2-4632-97d8-18a37d73805b",
        "colab": {
          "base_uri": "https://localhost:8080/",
          "height": 204
        }
      },
      "cell_type": "code",
      "source": [
        "\n",
        "#Evaluation independent\n",
        "for i in range (10):\n",
        "  Y_predicted = (forward_sigmoid(test_images_b, Wi[:,i].reshape(test_images_b.shape[1],-1))>0.6)\n",
        "  accuracy = np.sum((Y_predicted == (test_labels_original == i).reshape(-1,1)))/test_labels_original.shape[0]\n",
        "  print (\"Digit \", i, \"Accuracy\", accuracy)\n",
        "\n",
        "\n",
        "# Evaluation total\n",
        "predicted_labels_testw=np.argmax(forward_sigmoid(test_images_b,Wi),axis=1).astype('uint8')\n",
        "acc_test=sum(predicted_labels_testw==test_labels_original)/test_labels_original.shape[0]\n",
        "print(\"Total Test accuracy= \",acc_test)"
      ],
      "execution_count": 51,
      "outputs": [
        {
          "output_type": "stream",
          "text": [
            "Digit  0 Accuracy 0.9902\n",
            "Digit  1 Accuracy 0.9907\n",
            "Digit  2 Accuracy 0.9745\n",
            "Digit  3 Accuracy 0.971\n",
            "Digit  4 Accuracy 0.9746\n",
            "Digit  5 Accuracy 0.9629\n",
            "Digit  6 Accuracy 0.9834\n",
            "Digit  7 Accuracy 0.9812\n",
            "Digit  8 Accuracy 0.9477\n",
            "Digit  9 Accuracy 0.9581\n",
            "Total Test accuracy=  0.9006\n"
          ],
          "name": "stdout"
        }
      ]
    },
    {
      "metadata": {
        "id": "EgegsyYZq-1J",
        "colab_type": "text"
      },
      "cell_type": "markdown",
      "source": [
        "## Problem 3 Explore"
      ]
    },
    {
      "metadata": {
        "id": "_Q61Phk3rAPL",
        "colab_type": "text"
      },
      "cell_type": "markdown",
      "source": [
        "- Load the training and test data using Keras, no validation set needed.\n",
        "- Create network with an input layer consisting of 28 x 28 input neurons and an output layer consisting of 10 output neurons.\n",
        "- Use softmax and categorical cross entropy loss.\n",
        "- Implement mini-batch stochastic gradient descent using only numpy, that is, you are not allowed to use TensorFlow/Keras for SGD."
      ]
    },
    {
      "metadata": {
        "id": "Qp2tI94luFoB",
        "colab_type": "code",
        "outputId": "c950534b-4d4b-4864-fa17-79f6deb0ee55",
        "colab": {
          "base_uri": "https://localhost:8080/",
          "height": 255
        }
      },
      "cell_type": "code",
      "source": [
        "# add bias to each instance\n",
        "m,n=train_images.shape\n",
        "train_images_b = np.c_[np.ones((m, 1)), train_images]\n",
        "\n",
        "\n",
        "train_labels_i=my_own_categorical(train_labels_original)\n",
        "\n",
        "np.random.seed(42)\n",
        "initial_weight = np.random.randn(n+1,10) \n",
        "print(\"initial_weight.shape \",initial_weight.shape)\n",
        "print(initial_weight)"
      ],
      "execution_count": 52,
      "outputs": [
        {
          "output_type": "stream",
          "text": [
            "initial_weight.shape  (785, 10)\n",
            "[[ 0.49671415 -0.1382643   0.64768854 ...  0.76743473 -0.46947439\n",
            "   0.54256004]\n",
            " [-0.46341769 -0.46572975  0.24196227 ...  0.31424733 -0.90802408\n",
            "  -1.4123037 ]\n",
            " [ 1.46564877 -0.2257763   0.0675282  ...  0.37569802 -0.60063869\n",
            "  -0.29169375]\n",
            " ...\n",
            " [ 0.59899634  0.85334898 -0.49419002 ... -0.22093172  0.19112423\n",
            "  -1.14970747]\n",
            " [-0.19360951  0.7445864   0.64194713 ... -0.07782144 -0.27595145\n",
            "  -0.36172384]\n",
            " [-0.06289387 -0.44787764  0.65814304 ...  0.06970427 -0.65065662\n",
            "  -0.32664756]]\n"
          ],
          "name": "stdout"
        }
      ]
    },
    {
      "metadata": {
        "id": "K5whn05F_5NX",
        "colab_type": "code",
        "colab": {}
      },
      "cell_type": "code",
      "source": [
        "def softmaxv2(z):\n",
        "  z_exp=np.exp(z-np.max(z))\n",
        "  #rint(z_exp.shape)\n",
        "  #rint(z_exp)\n",
        "  total=np.sum(z_exp,axis=1)\n",
        "  #rint(total.shape)\n",
        "  #rint(total)\n",
        "  return z_exp/total.reshape(z_exp.shape[0],1)"
      ],
      "execution_count": 0,
      "outputs": []
    },
    {
      "metadata": {
        "id": "TnpzegIRURLQ",
        "colab_type": "code",
        "colab": {}
      },
      "cell_type": "code",
      "source": [
        "def softmaxv3(z):\n",
        "  z_exp=np.exp(z-np.max(z))\n",
        "  #rint(z_exp.shape)\n",
        "  #rint(z_exp)\n",
        "  total=np.sum(z_exp)\n",
        "  #rint(total.shape)\n",
        "  #rint(total)\n",
        "  return z_exp/total"
      ],
      "execution_count": 0,
      "outputs": []
    },
    {
      "metadata": {
        "id": "nRHEmf7cBuSH",
        "colab_type": "code",
        "colab": {}
      },
      "cell_type": "code",
      "source": [
        "test=np.random.randn(12,4) \n",
        "test.dtype\n",
        "a=softmax(test)\n",
        "#print(a)\n",
        "#print(np.sum(a,axis=1))"
      ],
      "execution_count": 0,
      "outputs": []
    },
    {
      "metadata": {
        "id": "d-10ODYjMyx9",
        "colab_type": "code",
        "colab": {}
      },
      "cell_type": "code",
      "source": [
        "o=np.ones((3,3))-np.arange(3)\n",
        "#print(o)\n",
        "ii=np.eye(3)\n",
        "#print(ii)"
      ],
      "execution_count": 0,
      "outputs": []
    },
    {
      "metadata": {
        "id": "475ob8Mt9LYH",
        "colab_type": "code",
        "colab": {}
      },
      "cell_type": "code",
      "source": [
        "train_labels_i=my_own_categorical(train_labels_original)\n",
        "initial_weight=np.zeros((train_images_b.shape[1],10))\n",
        "# number of epochs\n",
        "epochs = 20\n",
        "# learning rate\n",
        "lr = 0.001\n",
        "weight = initial_weight\n",
        "batch_size = 40\n",
        "\n",
        "dz=np.zeros((batch_size,10))\n",
        "for epoch in range(epochs):\n",
        "    shuffled_indices = np.random.permutation(m)\n",
        "    train_images_b_shuffled = train_images_b[shuffled_indices]\n",
        "    y_shuffled = train_labels_i[shuffled_indices]\n",
        "   \n",
        "    for i in range(0, m, batch_size):\n",
        "        xi = train_images_b_shuffled[i:i+batch_size,:]\n",
        "        yi = y_shuffled[i:i+batch_size,:]\n",
        "        z=xi.dot(weight)\n",
        "        a=softmax(z)\n",
        "        #for j in range(0,batch_size):\n",
        "          #ytemp=y_shuffled[j,:]\n",
        "          #print(ytemp.shape)\n",
        "          #difftemp=(a[j,:].reshape(1,10)-np.eye(10))\n",
        "          #print(difftemp.shape)\n",
        "          \n",
        "          #dz[j,:]=ytemp.reshape(1,10).dot(difftemp)\n",
        "        dz= (a - yi) \n",
        "        gradient = 1/batch_size * xi.T.dot(dz)\n",
        "        weight = weight - lr * gradient\n",
        "\n",
        " "
      ],
      "execution_count": 0,
      "outputs": []
    },
    {
      "metadata": {
        "id": "N_7nC0MJTjDN",
        "colab_type": "code",
        "outputId": "4708463b-ba50-43b9-f940-41ea6b671650",
        "colab": {
          "base_uri": "https://localhost:8080/",
          "height": 68
        }
      },
      "cell_type": "code",
      "source": [
        "y_predict = softmaxv3(train_images_b[1].dot(weight))                  \n",
        "y_predict"
      ],
      "execution_count": 0,
      "outputs": [
        {
          "output_type": "execute_result",
          "data": {
            "text/plain": [
              "array([9.92642898e-01, 3.95224933e-06, 1.84828158e-04, 4.39405941e-04,\n",
              "       8.26985697e-06, 5.85298617e-03, 2.93359016e-04, 1.62698961e-04,\n",
              "       2.97437028e-04, 1.14164806e-04])"
            ]
          },
          "metadata": {
            "tags": []
          },
          "execution_count": 58
        }
      ]
    },
    {
      "metadata": {
        "id": "oA2lJ_u68KRF",
        "colab_type": "code",
        "outputId": "20fa032e-a90d-4ff6-bad1-9394420522cd",
        "colab": {
          "base_uri": "https://localhost:8080/",
          "height": 85
        }
      },
      "cell_type": "code",
      "source": [
        "\n",
        "\n",
        "# Test accuracy\n",
        "mt=test_labels_original.shape[0]\n",
        "\n",
        "#m,n=test_images.shape\n",
        "\n",
        "test_images_b = np.c_[np.ones((mt, 1)), test_images]\n",
        "\n",
        "predicted_labels_test_raw=softmax(test_images_b.dot(weight))  \n",
        "print(predicted_labels_test_raw.shape)\n",
        "predicted_labels_test=np.argmax(predicted_labels_test_raw,axis=1)\n",
        "print(predicted_labels_test.shape)\n",
        "print(test_labels_original.shape)\n",
        "predicted_labels_test = predicted_labels_test.astype('uint8')\n",
        "test_labels_original=test_labels_original.astype('uint8')\n",
        "\n",
        "wrong_indices_test = [i for i in range(mt) if predicted_labels_test[i] != test_labels_original[i]]\n",
        "# The quantity below is equal to the test accuracy reported by the network fit method.\n",
        "acc_test=1.0 - len(wrong_indices_test) / mt\n",
        "print(\"Test acc= \",acc_test)\n",
        "             "
      ],
      "execution_count": 0,
      "outputs": [
        {
          "output_type": "stream",
          "text": [
            "(10000, 10)\n",
            "(10000,)\n",
            "(10000,)\n",
            "Test acc=  0.8932\n"
          ],
          "name": "stdout"
        }
      ]
    },
    {
      "metadata": {
        "id": "HuFfxil3uLjQ",
        "colab_type": "text"
      },
      "cell_type": "markdown",
      "source": [
        "## Problem 3 Final Solution --Use softmax and categorical cross entropy loss."
      ]
    },
    {
      "metadata": {
        "id": "WQZ5PrrcuOtC",
        "colab_type": "code",
        "outputId": "695c2029-4cf1-404d-e3d8-7aeb8cc62bad",
        "colab": {
          "base_uri": "https://localhost:8080/",
          "height": 221
        }
      },
      "cell_type": "code",
      "source": [
        "#Train\n",
        "# load the data , adding bias\n",
        "train_images_b, train_labels_original, test_images_b, test_labels_original=load_data()\n",
        "#Use one hot encode\n",
        "Y=my_own_categorical(train_labels_original)\n",
        "\n",
        "W= train_model_cc(train_images_b, Y, 0.01, 64, 10)"
      ],
      "execution_count": 70,
      "outputs": [
        {
          "output_type": "stream",
          "text": [
            "train model cc\n",
            "Epoch  0  Loss = 0.6243326458556628\n",
            "Epoch  1  Loss = 0.4990935532128692\n",
            "Epoch  2  Loss = 0.4480792667106013\n",
            "Epoch  3  Loss = 0.4186756495966363\n",
            "Epoch  4  Loss = 0.39898858895728295\n",
            "Epoch  5  Loss = 0.3844089297362303\n",
            "Epoch  6  Loss = 0.3731993160298413\n",
            "Epoch  7  Loss = 0.3643318723974797\n",
            "Epoch  8  Loss = 0.35707386350204207\n",
            "Epoch  9  Loss = 0.3508354150634164\n",
            "Epoch  9  Final Loss = 0.3508354150634164\n"
          ],
          "name": "stdout"
        }
      ]
    },
    {
      "metadata": {
        "id": "o9rWBrHnvPsc",
        "colab_type": "code",
        "outputId": "d0b052d5-547a-4bbf-bb80-1ce0a8a098e5",
        "colab": {
          "base_uri": "https://localhost:8080/",
          "height": 34
        }
      },
      "cell_type": "code",
      "source": [
        "#Evaluation\n",
        "\n",
        "\n",
        "# Evaluation total\n",
        "predicted_labels_testw=np.argmax(forward_sigmoid(test_images_b,Wi),axis=1).astype('uint8')\n",
        "acc_test=sum(predicted_labels_testw==test_labels_original)/test_labels_original.shape[0]\n",
        "print(\"Total Test accuracy= \",acc_test)\n"
      ],
      "execution_count": 71,
      "outputs": [
        {
          "output_type": "stream",
          "text": [
            "Total Test accuracy=  0.9006\n"
          ],
          "name": "stdout"
        }
      ]
    },
    {
      "metadata": {
        "id": "T7qUFZYd0wOH",
        "colab_type": "text"
      },
      "cell_type": "markdown",
      "source": [
        "##Loading the MNIST digits data set, and implement functions for P4,P5"
      ]
    },
    {
      "metadata": {
        "id": "7fToY8WB053r",
        "colab_type": "code",
        "colab": {}
      },
      "cell_type": "code",
      "source": [
        "from keras.utils import to_categorical\n",
        "from keras.datasets import mnist\n",
        "from keras import models\n",
        "from keras import layers\n",
        "\n",
        "import numpy as np"
      ],
      "execution_count": 0,
      "outputs": []
    },
    {
      "metadata": {
        "id": "ewdmy7mK07HQ",
        "colab_type": "code",
        "colab": {}
      },
      "cell_type": "code",
      "source": [
        "def load_data_no_b():\n",
        "  (train_images_original, train_labels_original), (test_images_original, test_labels_original) = mnist.load_data()\n",
        "  train_images = train_images_original.reshape(train_images_original.shape[0], -1)/255\n",
        "  #train_images = train_images.astype('float32') / 255\n",
        "\n",
        "  test_images = test_images_original.reshape(test_images_original.shape[0], -1)/255\n",
        "  #test_images = test_images.astype('float32') / 255\n",
        "  \n",
        "  \n",
        "  return train_images, train_labels_original, test_images, test_labels_original\n",
        "\n",
        "def Safe(r,c, i, j, visited,im): \n",
        "  return (i >= 0 and i < r and \n",
        "            j >= 0 and j < c and \n",
        "            not visited[i][j] and im[i][j]) \n",
        "def DFS(r,c,i, j, visited,im): \n",
        "    rowNbr = [-1, -1, -1,  0, 0,  1, 1, 1]; \n",
        "    colNbr = [-1,  0,  1, -1, 1, -1, 0, 1]; \n",
        "\n",
        "    visited[i][j] = True\n",
        "    for k in range(8): \n",
        "        if Safe(r,c,i + rowNbr[k], j + colNbr[k], visited,im): \n",
        "            DFS(r,c,i + rowNbr[k], j + colNbr[k], visited,im) \n",
        "\n",
        "def countCC(r,c,im): \n",
        "\n",
        "    visited = [[False for j in range(c)]for i in range(r)] \n",
        "    count = 0\n",
        "    for i in range(r): \n",
        "        for j in range(c): \n",
        "            if visited[i][j] == False and im[i][j] ==1: \n",
        "                DFS(r,c,i, j, visited,im) \n",
        "                count += 1\n",
        "\n",
        "    return count \n",
        "  \n",
        "\n",
        "def extra_features(train_images_b,test_images_b):\n",
        "  \n",
        "  row = 28 \n",
        "  col = 28\n",
        "  new_feature_w_region=np.zeros((train_images_b.shape[0],1))\n",
        "  for i in range(0,train_images_b.shape[0]):\n",
        "    new_feature_w_region[i,0]=countCC(row,col,1-train_images_b[i].reshape(( 28 ,28))) \n",
        "\n",
        "  new_feature_w_region_test=np.zeros((test_images_b.shape[0],1))\n",
        "  for i in range(0,test_images_b.shape[0]):\n",
        "    new_feature_w_region_test[i,0]=countCC(row,col,test_images_b[i].reshape(( 28 ,28))) \n",
        "\n",
        "  new_feature_w_region_n=new_feature_w_region/max(new_feature_w_region)\n",
        "  new_feature_w_region_n_test=new_feature_w_region_test/max(new_feature_w_region_test)\n",
        "\n",
        "  b_area=np.sum(train_images_b,axis=1)\n",
        "  b_area_n=(b_area/max(b_area)).reshape((b_area.shape[0],1))\n",
        "  w_area=28*28-b_area\n",
        "  w_area_n=(w_area/max(w_area)).reshape((w_area.shape[0],1))\n",
        "\n",
        "  train_images_ext=np.c_[b_area_n,w_area_n,new_feature_w_region_n,train_images_b]\n",
        "\n",
        "\n",
        "  b_area_test=np.sum(test_images_b,axis=1)\n",
        "  b_area_test_n=(b_area_test/max(b_area_test)).reshape((b_area_test.shape[0],1))\n",
        "  w_area_test=28*28-b_area_test_n\n",
        "  w_area_test_n=(w_area_test/max(w_area_test)).reshape((w_area_test.shape[0],1))\n",
        "\n",
        "  test_images_ext=np.c_[b_area_test_n,w_area_test_n,new_feature_w_region_n_test,test_images_b]\n",
        "  \n",
        "  \n",
        "  return train_images_ext, test_images_ext\n",
        "\n",
        "\n",
        "def train_nn(train_images,train_labels,test_images, test_labels,batch_size=128, epochs = 10):\n",
        "  num_features=3\n",
        "  network = models.Sequential()\n",
        "  network.add(layers.Dense(10, activation='softmax', input_shape=(28 * 28 +num_features,)))\n",
        "  network.summary()\n",
        "\n",
        "  network.compile(optimizer='sgd',\n",
        "                  loss='categorical_crossentropy',\n",
        "                  metrics=['accuracy'])\n",
        "\n",
        "  \n",
        "  history = network.fit(train_images, \n",
        "                        train_labels, \n",
        "                        epochs=epochs, \n",
        "                        batch_size=batch_size, \n",
        "                        validation_data=(test_images, test_labels))\n",
        "  return history"
      ],
      "execution_count": 0,
      "outputs": []
    },
    {
      "metadata": {
        "id": "OkRdYiAYrCOk",
        "colab_type": "text"
      },
      "cell_type": "markdown",
      "source": [
        "## Problem 4 Explore"
      ]
    },
    {
      "metadata": {
        "id": "SGl9vN-prDrl",
        "colab_type": "text"
      },
      "cell_type": "markdown",
      "source": [
        "Reimplement the network from Problem 3 entirely in Keras.\n",
        "\n",
        "\n",
        "\n",
        "\n"
      ]
    },
    {
      "metadata": {
        "id": "Qeinh8WnwqpB",
        "colab_type": "text"
      },
      "cell_type": "markdown",
      "source": [
        "### Preparing the labels"
      ]
    },
    {
      "metadata": {
        "id": "dbexMEv3wvHt",
        "colab_type": "code",
        "colab": {}
      },
      "cell_type": "code",
      "source": [
        "\n",
        "train_labels = to_categorical(train_labels_original)\n",
        "test_labels = to_categorical(test_labels_original)"
      ],
      "execution_count": 0,
      "outputs": []
    },
    {
      "metadata": {
        "id": "-HNCFav2v77P",
        "colab_type": "code",
        "outputId": "b477fc26-75d8-4014-fce7-e83017342480",
        "colab": {
          "base_uri": "https://localhost:8080/",
          "height": 34
        }
      },
      "cell_type": "code",
      "source": [
        "train_labels.shape"
      ],
      "execution_count": 75,
      "outputs": [
        {
          "output_type": "execute_result",
          "data": {
            "text/plain": [
              "(60000, 10)"
            ]
          },
          "metadata": {
            "tags": []
          },
          "execution_count": 75
        }
      ]
    },
    {
      "metadata": {
        "id": "NX5IdrQ9xGb0",
        "colab_type": "code",
        "outputId": "431459f6-71ea-4687-8df7-794e055edbfd",
        "colab": {
          "base_uri": "https://localhost:8080/",
          "height": 34
        }
      },
      "cell_type": "code",
      "source": [
        "train_labels_original.shape"
      ],
      "execution_count": 76,
      "outputs": [
        {
          "output_type": "execute_result",
          "data": {
            "text/plain": [
              "(60000,)"
            ]
          },
          "metadata": {
            "tags": []
          },
          "execution_count": 76
        }
      ]
    },
    {
      "metadata": {
        "id": "bWB0peaOxMOZ",
        "colab_type": "code",
        "outputId": "b44e3108-8474-480a-b3b4-ed37b986b96f",
        "colab": {
          "base_uri": "https://localhost:8080/",
          "height": 34
        }
      },
      "cell_type": "code",
      "source": [
        "np.argmax(train_labels[0])"
      ],
      "execution_count": 77,
      "outputs": [
        {
          "output_type": "execute_result",
          "data": {
            "text/plain": [
              "5"
            ]
          },
          "metadata": {
            "tags": []
          },
          "execution_count": 77
        }
      ]
    },
    {
      "metadata": {
        "id": "nKZtzr8vxNna",
        "colab_type": "code",
        "outputId": "f671d600-7e68-4921-bf8d-81ed7f4a47fd",
        "colab": {
          "base_uri": "https://localhost:8080/",
          "height": 34
        }
      },
      "cell_type": "code",
      "source": [
        "train_labels_original[0]"
      ],
      "execution_count": 78,
      "outputs": [
        {
          "output_type": "execute_result",
          "data": {
            "text/plain": [
              "5"
            ]
          },
          "metadata": {
            "tags": []
          },
          "execution_count": 78
        }
      ]
    },
    {
      "metadata": {
        "id": "VQznbkqWxfYr",
        "colab_type": "text"
      },
      "cell_type": "markdown",
      "source": [
        "### The network architecture"
      ]
    },
    {
      "metadata": {
        "id": "G3Qw-zXgxh0v",
        "colab_type": "code",
        "outputId": "113a679f-3ef9-4bc2-d37f-6e7473f85c5b",
        "colab": {
          "base_uri": "https://localhost:8080/",
          "height": 241
        }
      },
      "cell_type": "code",
      "source": [
        "network = models.Sequential()\n",
        "#network.add(layers.Dense(512, activation='relu', input_shape=(28 * 28,)))\n",
        "network.add(layers.Dense(10, activation='softmax', input_shape=(28 * 28,)))\n",
        "network.summary()"
      ],
      "execution_count": 79,
      "outputs": [
        {
          "output_type": "stream",
          "text": [
            "WARNING:tensorflow:From /usr/local/lib/python3.6/dist-packages/tensorflow/python/framework/op_def_library.py:263: colocate_with (from tensorflow.python.framework.ops) is deprecated and will be removed in a future version.\n",
            "Instructions for updating:\n",
            "Colocations handled automatically by placer.\n",
            "_________________________________________________________________\n",
            "Layer (type)                 Output Shape              Param #   \n",
            "=================================================================\n",
            "dense_1 (Dense)              (None, 10)                7850      \n",
            "=================================================================\n",
            "Total params: 7,850\n",
            "Trainable params: 7,850\n",
            "Non-trainable params: 0\n",
            "_________________________________________________________________\n"
          ],
          "name": "stdout"
        }
      ]
    },
    {
      "metadata": {
        "id": "Ao_vyUBkxp-9",
        "colab_type": "text"
      },
      "cell_type": "markdown",
      "source": [
        "### The compilation step"
      ]
    },
    {
      "metadata": {
        "id": "PctuyouVxtGF",
        "colab_type": "code",
        "colab": {}
      },
      "cell_type": "code",
      "source": [
        "network.compile(optimizer='sgd',\n",
        "                loss='categorical_crossentropy',\n",
        "                metrics=['accuracy'])"
      ],
      "execution_count": 0,
      "outputs": []
    },
    {
      "metadata": {
        "id": "VmA2OacpxwoL",
        "colab_type": "text"
      },
      "cell_type": "markdown",
      "source": [
        "### The training step"
      ]
    },
    {
      "metadata": {
        "id": "YnKio_vQxw9G",
        "colab_type": "code",
        "outputId": "caaab318-c051-4e60-cc7a-52a77b65fd96",
        "colab": {
          "base_uri": "https://localhost:8080/",
          "height": 445
        }
      },
      "cell_type": "code",
      "source": [
        "epochs = 10\n",
        "history = network.fit(train_images, \n",
        "                      train_labels, \n",
        "                      epochs=epochs, \n",
        "                      batch_size=128, \n",
        "                      validation_data=(test_images, test_labels))"
      ],
      "execution_count": 82,
      "outputs": [
        {
          "output_type": "stream",
          "text": [
            "WARNING:tensorflow:From /usr/local/lib/python3.6/dist-packages/tensorflow/python/ops/math_ops.py:3066: to_int32 (from tensorflow.python.ops.math_ops) is deprecated and will be removed in a future version.\n",
            "Instructions for updating:\n",
            "Use tf.cast instead.\n",
            "Train on 60000 samples, validate on 10000 samples\n",
            "Epoch 1/10\n",
            "60000/60000 [==============================] - 2s 35us/step - loss: 1.2540 - acc: 0.7046 - val_loss: 0.8084 - val_acc: 0.8242\n",
            "Epoch 2/10\n",
            "60000/60000 [==============================] - 1s 22us/step - loss: 0.7135 - acc: 0.8398 - val_loss: 0.6085 - val_acc: 0.8601\n",
            "Epoch 3/10\n",
            "60000/60000 [==============================] - 1s 20us/step - loss: 0.5863 - acc: 0.8590 - val_loss: 0.5268 - val_acc: 0.8748\n",
            "Epoch 4/10\n",
            "60000/60000 [==============================] - 1s 21us/step - loss: 0.5248 - acc: 0.8687 - val_loss: 0.4811 - val_acc: 0.8812\n",
            "Epoch 5/10\n",
            "60000/60000 [==============================] - 1s 22us/step - loss: 0.4874 - acc: 0.8755 - val_loss: 0.4516 - val_acc: 0.8864\n",
            "Epoch 6/10\n",
            "60000/60000 [==============================] - 1s 21us/step - loss: 0.4616 - acc: 0.8804 - val_loss: 0.4298 - val_acc: 0.8895\n",
            "Epoch 7/10\n",
            "60000/60000 [==============================] - 1s 21us/step - loss: 0.4425 - acc: 0.8836 - val_loss: 0.4136 - val_acc: 0.8927\n",
            "Epoch 8/10\n",
            "60000/60000 [==============================] - 1s 21us/step - loss: 0.4276 - acc: 0.8867 - val_loss: 0.4011 - val_acc: 0.8937\n",
            "Epoch 9/10\n",
            "60000/60000 [==============================] - 1s 21us/step - loss: 0.4156 - acc: 0.8889 - val_loss: 0.3903 - val_acc: 0.8960\n",
            "Epoch 10/10\n",
            "60000/60000 [==============================] - 1s 21us/step - loss: 0.4056 - acc: 0.8908 - val_loss: 0.3815 - val_acc: 0.8981\n"
          ],
          "name": "stdout"
        }
      ]
    },
    {
      "metadata": {
        "id": "S6s1tNdwxxuI",
        "colab_type": "text"
      },
      "cell_type": "markdown",
      "source": [
        "### Display the training/test loss/accuracy"
      ]
    },
    {
      "metadata": {
        "id": "dYeQuqVdxyDw",
        "colab_type": "code",
        "outputId": "52b05abf-dbe2-42e4-c66f-473aa4eadff8",
        "colab": {
          "base_uri": "https://localhost:8080/",
          "height": 376
        }
      },
      "cell_type": "code",
      "source": [
        "history_dict = history.history\n",
        "loss_values = history_dict['loss']\n",
        "test_loss_values = history_dict['val_loss']\n",
        "epochs_range = range(1, epochs + 1)\n",
        "plt.plot(epochs_range, loss_values, 'bo', label='Training loss')\n",
        "plt.plot(epochs_range, test_loss_values, 'ro', label='Test loss')\n",
        "plt.title('Training and test loss')\n",
        "plt.xlabel('Epochs')\n",
        "plt.ylabel('Loss')\n",
        "plt.legend()\n",
        "plt.show()"
      ],
      "execution_count": 83,
      "outputs": [
        {
          "output_type": "display_data",
          "data": {
            "image/png": "[encoded data removed]",
            "text/plain": [
              "<Figure size 576x396 with 1 Axes>"
            ]
          },
          "metadata": {
            "tags": []
          }
        }
      ]
    },
    {
      "metadata": {
        "id": "HeFiu62sx_NX",
        "colab_type": "code",
        "colab": {}
      },
      "cell_type": "code",
      "source": [
        "acc_values = history_dict['acc']\n",
        "test_acc_values = history_dict['val_acc']"
      ],
      "execution_count": 0,
      "outputs": []
    },
    {
      "metadata": {
        "id": "CD-1lE83yA9G",
        "colab_type": "code",
        "outputId": "14b0364e-663d-4d24-8eda-940fdf130300",
        "colab": {
          "base_uri": "https://localhost:8080/",
          "height": 376
        }
      },
      "cell_type": "code",
      "source": [
        "plt.plot(epochs_range, acc_values, 'bo', label='Training accuracy')\n",
        "plt.plot(epochs_range, test_acc_values, 'ro', label='Test accuracy')\n",
        "plt.title('Training and test accuracy')\n",
        "plt.xlabel('Epochs')\n",
        "plt.ylabel('Accuracy')\n",
        "plt.legend()\n",
        "plt.show()"
      ],
      "execution_count": 85,
      "outputs": [
        {
          "output_type": "display_data",
          "data": {
            "image/png": "[encoded data removed]",
            "text/plain": [
              "<Figure size 576x396 with 1 Axes>"
            ]
          },
          "metadata": {
            "tags": []
          }
        }
      ]
    },
    {
      "metadata": {
        "id": "scL94Os91sB2",
        "colab_type": "text"
      },
      "cell_type": "markdown",
      "source": [
        "## Problem 4 Final Solution --Reimplement the network from Problem 3 entirely in Keras."
      ]
    },
    {
      "metadata": {
        "id": "g0y6bFtL1wD0",
        "colab_type": "code",
        "outputId": "d17830cd-b365-4241-8ba6-8329247aa41d",
        "colab": {
          "base_uri": "https://localhost:8080/",
          "height": 527
        }
      },
      "cell_type": "code",
      "source": [
        "#Train\n",
        "train_images, train_labels_original, test_images, test_labels_original=load_data_no_b()\n",
        "\n",
        "train_labels = to_categorical(train_labels_original)\n",
        "test_labels = to_categorical(test_labels_original)\n",
        "\n",
        "network = models.Sequential()\n",
        "network.add(layers.Dense(10, activation='softmax', input_shape=(28 * 28,)))\n",
        "network.summary()\n",
        "\n",
        "network.compile(optimizer='sgd',\n",
        "                loss='categorical_crossentropy',\n",
        "                metrics=['accuracy'])\n",
        "\n",
        "epochs = 10\n",
        "history = network.fit(train_images, \n",
        "                      train_labels, \n",
        "                      epochs=epochs, \n",
        "                      batch_size=128, \n",
        "                      validation_data=(test_images, test_labels))\n",
        "\n"
      ],
      "execution_count": 108,
      "outputs": [
        {
          "output_type": "stream",
          "text": [
            "_________________________________________________________________\n",
            "Layer (type)                 Output Shape              Param #   \n",
            "=================================================================\n",
            "dense_5 (Dense)              (None, 10)                7850      \n",
            "=================================================================\n",
            "Total params: 7,850\n",
            "Trainable params: 7,850\n",
            "Non-trainable params: 0\n",
            "_________________________________________________________________\n",
            "Train on 60000 samples, validate on 10000 samples\n",
            "Epoch 1/10\n",
            "60000/60000 [==============================] - 2s 28us/step - loss: 1.2558 - acc: 0.7005 - val_loss: 0.8093 - val_acc: 0.8327\n",
            "Epoch 2/10\n",
            "60000/60000 [==============================] - 1s 22us/step - loss: 0.7136 - acc: 0.8410 - val_loss: 0.6063 - val_acc: 0.8610\n",
            "Epoch 3/10\n",
            "60000/60000 [==============================] - 1s 22us/step - loss: 0.5853 - acc: 0.8602 - val_loss: 0.5236 - val_acc: 0.8746\n",
            "Epoch 4/10\n",
            "60000/60000 [==============================] - 1s 22us/step - loss: 0.5235 - acc: 0.8697 - val_loss: 0.4778 - val_acc: 0.8818\n",
            "Epoch 5/10\n",
            "60000/60000 [==============================] - 1s 22us/step - loss: 0.4859 - acc: 0.8768 - val_loss: 0.4482 - val_acc: 0.8862\n",
            "Epoch 6/10\n",
            "60000/60000 [==============================] - 1s 21us/step - loss: 0.4601 - acc: 0.8812 - val_loss: 0.4271 - val_acc: 0.8895\n",
            "Epoch 7/10\n",
            "60000/60000 [==============================] - 1s 22us/step - loss: 0.4410 - acc: 0.8847 - val_loss: 0.4108 - val_acc: 0.8931\n",
            "Epoch 8/10\n",
            "60000/60000 [==============================] - 1s 22us/step - loss: 0.4261 - acc: 0.8874 - val_loss: 0.3983 - val_acc: 0.8945\n",
            "Epoch 9/10\n",
            "60000/60000 [==============================] - 1s 22us/step - loss: 0.4141 - acc: 0.8902 - val_loss: 0.3879 - val_acc: 0.8970\n",
            "Epoch 10/10\n",
            "60000/60000 [==============================] - 1s 22us/step - loss: 0.4042 - acc: 0.8921 - val_loss: 0.3790 - val_acc: 0.8980\n"
          ],
          "name": "stdout"
        }
      ]
    },
    {
      "metadata": {
        "id": "qZ4-DEpC104P",
        "colab_type": "code",
        "outputId": "5e61ba83-7f09-46cb-e2fd-fe3f7335a1c1",
        "colab": {
          "base_uri": "https://localhost:8080/",
          "height": 752
        }
      },
      "cell_type": "code",
      "source": [
        "#Evaluation\n",
        "\n",
        "\n",
        "history_dict = history.history\n",
        "#print(history_dict['acc'])\n",
        "print(\"Final accuracy\",history_dict['val_acc'][epochs-1])\n",
        "\n",
        "\n",
        "loss_values = history_dict['loss']\n",
        "test_loss_values = history_dict['val_loss']\n",
        "epochs_range = range(1, epochs + 1)\n",
        "plt.plot(epochs_range, loss_values, 'bo', label='Training loss')\n",
        "plt.plot(epochs_range, test_loss_values, 'ro', label='Test loss')\n",
        "plt.title('Training and test loss')\n",
        "plt.xlabel('Epochs')\n",
        "plt.ylabel('Loss')\n",
        "plt.legend()\n",
        "plt.show()\n",
        "\n",
        "\n",
        "plt.plot(epochs_range, acc_values, 'bo', label='Training accuracy')\n",
        "plt.plot(epochs_range, test_acc_values, 'ro', label='Test accuracy')\n",
        "plt.title('Training and test accuracy')\n",
        "plt.xlabel('Epochs')\n",
        "plt.ylabel('Accuracy')\n",
        "plt.legend()\n",
        "plt.show()"
      ],
      "execution_count": 110,
      "outputs": [
        {
          "output_type": "stream",
          "text": [
            "Final accuracy 0.898\n"
          ],
          "name": "stdout"
        },
        {
          "output_type": "display_data",
          "data": {
            "image/png": "[encoded data removed]",
            "text/plain": [
              "<Figure size 576x396 with 1 Axes>"
            ]
          },
          "metadata": {
            "tags": []
          }
        },
        {
          "output_type": "display_data",
          "data": {
            "image/png": "[encoded data removed]",
            "text/plain": [
              "<Figure size 576x396 with 1 Axes>"
            ]
          },
          "metadata": {
            "tags": []
          }
        }
      ]
    },
    {
      "metadata": {
        "id": "H0Pxsd4zrFrY",
        "colab_type": "text"
      },
      "cell_type": "markdown",
      "source": [
        "## Problem 5"
      ]
    },
    {
      "metadata": {
        "id": "AjOrlv9zrG-F",
        "colab_type": "text"
      },
      "cell_type": "markdown",
      "source": [
        "Extend the network from Problem 4 by adding new features.\n",
        "- Round the grey values of the images to 1 and 0 so you obtain black and white images. Add as an additional feature the number of white regions. For instance, a typical 0 has 2 white regions and 8 has 3. Use the following neighborhoods for pixels:\n",
        "\n",
        "```\n",
        "pixel x,y (indicated by .) is connected to its neighbors (indicated by o):\n",
        "\n",
        " o\n",
        "o.o  \n",
        " o\n",
        " \n",
        "ooo\n",
        "o.o\n",
        "ooo\n",
        "```\n",
        "- Consider the width.\n",
        "- Consider the height.\n",
        "- Come up with other features.\n",
        "\n",
        "You should normalize your new features so that they are at the same scale as the pixel values (between 0 and 1)."
      ]
    },
    {
      "metadata": {
        "id": "eRbjZwOQrJP9",
        "colab_type": "code",
        "colab": {}
      },
      "cell_type": "code",
      "source": [
        "(train_images_original, train_labels_original), (test_images_original, test_labels_original) = mnist.load_data()\n",
        "train_images = train_images_original.reshape((60000, 28 * 28))\n",
        "train_images_b = (train_images.astype('float32') / 255 > 0.5)*1\n",
        "\n",
        "test_images = test_images_original.reshape((10000, 28 * 28))\n",
        "test_images_b = (test_images.astype('float32') / 255 > 0.5)*1\n",
        "  \n",
        "\n",
        "  \n",
        "train_labels = to_categorical(train_labels_original)\n",
        "test_labels = to_categorical(test_labels_original)\n",
        "\n",
        "\n",
        "\n",
        "\n"
      ],
      "execution_count": 0,
      "outputs": []
    },
    {
      "metadata": {
        "id": "gwg1m6goCwfY",
        "colab_type": "code",
        "outputId": "4e213480-03f0-4b5d-c319-3c9c87a52897",
        "colab": {
          "base_uri": "https://localhost:8080/",
          "height": 1058
        }
      },
      "cell_type": "code",
      "source": [
        "#im = filters.threshold_otsu(train_images[0])\n",
        "#print(train_images[0])\n",
        "print(\"A digit segmented\")\n",
        "plt.imshow(train_images_b[1].reshape(( 28 ,28)))\n",
        "plt.grid(None)\n",
        "plt.show()\n",
        "plt.imshow(train_images_b[30198].reshape(( 28 ,28)))\n",
        "plt.grid(None)\n",
        "plt.show()\n",
        "print(\"Digit  4 gray scale\")\n",
        "plt.imshow(train_images[30198].reshape(( 28 ,28)))\n",
        "plt.grid(None)\n",
        "plt.show()\n",
        "train_images[0].shape"
      ],
      "execution_count": 90,
      "outputs": [
        {
          "output_type": "stream",
          "text": [
            "A digit segmented\n"
          ],
          "name": "stdout"
        },
        {
          "output_type": "display_data",
          "data": {
            "image/png": "[encoded data removed]",
            "text/plain": [
              "<Figure size 576x396 with 1 Axes>"
            ]
          },
          "metadata": {
            "tags": []
          }
        },
        {
          "output_type": "display_data",
          "data": {
            "image/png": "[encoded data removed]",
            "text/plain": [
              "<Figure size 576x396 with 1 Axes>"
            ]
          },
          "metadata": {
            "tags": []
          }
        },
        {
          "output_type": "stream",
          "text": [
            "Digit  4 gray scale\n"
          ],
          "name": "stdout"
        },
        {
          "output_type": "display_data",
          "data": {
            "image/png": "[encoded data removed]",
            "text/plain": [
              "<Figure size 576x396 with 1 Axes>"
            ]
          },
          "metadata": {
            "tags": []
          }
        },
        {
          "output_type": "execute_result",
          "data": {
            "text/plain": [
              "(784,)"
            ]
          },
          "metadata": {
            "tags": []
          },
          "execution_count": 90
        }
      ]
    },
    {
      "metadata": {
        "id": "405x9SxHFNAu",
        "colab_type": "code",
        "outputId": "f31d3a7e-f718-4d56-a2b7-5dbc6345816d",
        "colab": {
          "base_uri": "https://localhost:8080/",
          "height": 398
        }
      },
      "cell_type": "code",
      "source": [
        "# compute # of connected commponets \n",
        "def Safe(r,c, i, j, visited,im): \n",
        "  return (i >= 0 and i < r and \n",
        "            j >= 0 and j < c and \n",
        "            not visited[i][j] and im[i][j]) \n",
        "def DFS(r,c,i, j, visited,im): \n",
        "    rowNbr = [-1, -1, -1,  0, 0,  1, 1, 1]; \n",
        "    colNbr = [-1,  0,  1, -1, 1, -1, 0, 1]; \n",
        "\n",
        "    visited[i][j] = True\n",
        "    for k in range(8): \n",
        "        if Safe(r,c,i + rowNbr[k], j + colNbr[k], visited,im): \n",
        "            DFS(r,c,i + rowNbr[k], j + colNbr[k], visited,im) \n",
        "\n",
        "def countCC(r,c,im): \n",
        "\n",
        "    visited = [[False for j in range(c)]for i in range(r)] \n",
        "    count = 0\n",
        "    for i in range(r): \n",
        "        for j in range(c): \n",
        "            if visited[i][j] == False and im[i][j] ==1: \n",
        "                DFS(r,c,i, j, visited,im) \n",
        "                count += 1\n",
        "\n",
        "    return count \n",
        "im=1-train_images[1].reshape(( 28 ,28))\n",
        "row = len(im) \n",
        "col = len(im[0]) \n",
        "  \n",
        "\n",
        "n_cc= countCC(row,col,1-train_images_b[1].reshape(( 28 ,28))) \n",
        "print(\"0 has No de connected components= \",n_cc)\n",
        "plt.imshow(train_images_b[1].reshape((28,28)))\n",
        "plt.show\n",
        "\n",
        "n_cc= countCC(row,col,1-train_images_b[0].reshape(( 28 ,28))) \n",
        "print(\"5 has No de connected components= \",n_cc)\n",
        "plt.imshow(train_images_b[0].reshape((28,28)))\n",
        "plt.show"
      ],
      "execution_count": 94,
      "outputs": [
        {
          "output_type": "stream",
          "text": [
            "0 has No de connected components=  2\n",
            "5 has No de connected components=  1\n"
          ],
          "name": "stdout"
        },
        {
          "output_type": "execute_result",
          "data": {
            "text/plain": [
              "<function matplotlib.pyplot.show>"
            ]
          },
          "metadata": {
            "tags": []
          },
          "execution_count": 94
        },
        {
          "output_type": "display_data",
          "data": {
            "image/png": "[encoded data removed]",
            "text/plain": [
              "<Figure size 576x396 with 1 Axes>"
            ]
          },
          "metadata": {
            "tags": []
          }
        }
      ]
    },
    {
      "metadata": {
        "id": "693WGupSP_is",
        "colab_type": "code",
        "colab": {}
      },
      "cell_type": "code",
      "source": [
        "m,n=train_images_b.shape\n",
        "new_feature_w_region=np.zeros((m,1))\n",
        "for i in range(0,m):\n",
        "  new_feature_w_region[i,0]=countCC(row,col,1-train_images_b[i].reshape(( 28 ,28))) "
      ],
      "execution_count": 0,
      "outputs": []
    },
    {
      "metadata": {
        "id": "-vrVO0X-HaXE",
        "colab_type": "code",
        "outputId": "7c22e3d1-ba57-4a14-9de4-5e7ac8aa3748",
        "colab": {
          "base_uri": "https://localhost:8080/",
          "height": 983
        }
      },
      "cell_type": "code",
      "source": [
        "new_feature_w_region.shape\n",
        "print(new_feature_w_region)\n",
        "print(new_feature_w_region.shape)\n",
        "print(max(new_feature_w_region))\n",
        "new_feature_w_region_n=new_feature_w_region/max(new_feature_w_region)\n",
        "print(new_feature_w_region_n)\n",
        "ind=np.argmax(new_feature_w_region)\n",
        "print(ind)\n",
        "plt.imshow(train_images_b[ind].reshape(( 28 ,28)))\n",
        "plt.grid(None)\n",
        "plt.show()\n",
        "\n",
        "eight=train_labels_original==8\n",
        "ind_8=np.argmax(eight)\n",
        "plt.imshow(train_images_b[ind_8].reshape(( 28 ,28)))\n",
        "plt.grid(None)\n",
        "plt.show()\n",
        "cc_8=countCC(row,col,1-train_images_b[ind_8].reshape(( 28 ,28))) \n",
        "print(cc_8)"
      ],
      "execution_count": 96,
      "outputs": [
        {
          "output_type": "stream",
          "text": [
            "[[1.]\n",
            " [2.]\n",
            " [1.]\n",
            " ...\n",
            " [1.]\n",
            " [1.]\n",
            " [3.]]\n",
            "(60000, 1)\n",
            "[5.]\n",
            "[[0.2]\n",
            " [0.4]\n",
            " [0.2]\n",
            " ...\n",
            " [0.2]\n",
            " [0.2]\n",
            " [0.6]]\n",
            "7290\n"
          ],
          "name": "stdout"
        },
        {
          "output_type": "display_data",
          "data": {
            "image/png": "[encoded data removed]",
            "text/plain": [
              "<Figure size 576x396 with 1 Axes>"
            ]
          },
          "metadata": {
            "tags": []
          }
        },
        {
          "output_type": "display_data",
          "data": {
            "image/png": "[encoded data removed]",
            "text/plain": [
              "<Figure size 576x396 with 1 Axes>"
            ]
          },
          "metadata": {
            "tags": []
          }
        },
        {
          "output_type": "stream",
          "text": [
            "3\n"
          ],
          "name": "stdout"
        }
      ]
    },
    {
      "metadata": {
        "id": "IIJuAdHBHdXP",
        "colab_type": "code",
        "colab": {}
      },
      "cell_type": "code",
      "source": [
        "#train_images_ext=np.c_[new_feature_w_region_n,train_images_b]\n",
        "#train_images_ext.shape\n",
        "\n",
        "m,n=test_images_b.shape\n",
        "new_feature_w_region_test=np.zeros((m,1))\n",
        "for i in range(0,m):\n",
        "  new_feature_w_region_test[i,0]=countCC(row,col,test_images_b[i].reshape(( 28 ,28))) \n",
        "  \n",
        "new_feature_w_region_n_test=new_feature_w_region_test/max(new_feature_w_region_test)\n",
        "#test_images_ext=np.c_[new_feature_w_region_n_test,test_images_b]"
      ],
      "execution_count": 0,
      "outputs": []
    },
    {
      "metadata": {
        "id": "BoEICJZbSHOY",
        "colab_type": "code",
        "outputId": "76141511-b662-49c1-c92c-357191d69f32",
        "colab": {
          "base_uri": "https://localhost:8080/",
          "height": 102
        }
      },
      "cell_type": "code",
      "source": [
        "b_area=np.sum(train_images_b,axis=1)\n",
        "b_area.shape\n",
        "print(b_area)\n",
        "b_area_n=(b_area/max(b_area)).reshape((b_area.shape[0],1))\n",
        "w_area=28*28-b_area\n",
        "w_area_n=(w_area/max(w_area)).reshape((w_area.shape[0],1))\n",
        "print(w_area.shape)\n",
        "print(b_area.shape)\n",
        "print(w_area)\n",
        "\n",
        "train_images_ext=np.c_[b_area_n,w_area_n,new_feature_w_region_n,train_images_b]\n",
        "train_images_ext.shape"
      ],
      "execution_count": 98,
      "outputs": [
        {
          "output_type": "stream",
          "text": [
            "[111 125  81 ...  86  85  82]\n",
            "(60000,)\n",
            "(60000,)\n",
            "[673 659 703 ... 698 699 702]\n"
          ],
          "name": "stdout"
        },
        {
          "output_type": "execute_result",
          "data": {
            "text/plain": [
              "(60000, 787)"
            ]
          },
          "metadata": {
            "tags": []
          },
          "execution_count": 98
        }
      ]
    },
    {
      "metadata": {
        "id": "Tg-btKULUQ0e",
        "colab_type": "code",
        "outputId": "2ee419cf-65e7-465d-ab4b-ae96818e600c",
        "colab": {
          "base_uri": "https://localhost:8080/",
          "height": 34
        }
      },
      "cell_type": "code",
      "source": [
        "b_area_test=np.sum(test_images_b,axis=1)\n",
        "b_area_test_n=(b_area_test/max(b_area_test)).reshape((b_area_test.shape[0],1))\n",
        "w_area_test=28*28-b_area_test_n\n",
        "w_area_test_n=(w_area_test/max(w_area_test)).reshape((w_area_test.shape[0],1))\n",
        "\n",
        "test_images_ext=np.c_[b_area_test_n,w_area_test_n,new_feature_w_region_n_test,test_images_b]\n",
        "test_images_ext.shape"
      ],
      "execution_count": 99,
      "outputs": [
        {
          "output_type": "execute_result",
          "data": {
            "text/plain": [
              "(10000, 787)"
            ]
          },
          "metadata": {
            "tags": []
          },
          "execution_count": 99
        }
      ]
    },
    {
      "metadata": {
        "id": "UVdKQxo6CxQX",
        "colab_type": "code",
        "outputId": "43ddf662-cb03-4121-e6ea-90ef984cff20",
        "colab": {
          "base_uri": "https://localhost:8080/",
          "height": 697
        }
      },
      "cell_type": "code",
      "source": [
        "num_features=3\n",
        "network = models.Sequential()\n",
        "#network.add(layers.Dense(512, activation='relu', input_shape=(28 * 28 +num_features,)))\n",
        "network.add(layers.Dense(10, activation='softmax', input_shape=(28 * 28 +num_features,)))\n",
        "network.summary()\n",
        "network.compile(optimizer='sgd',\n",
        "                loss='categorical_crossentropy',\n",
        "                metrics=['accuracy'])\n",
        "\n",
        "epochs = 15\n",
        "history = network.fit(train_images_ext, \n",
        "                      train_labels, \n",
        "                      epochs=epochs, \n",
        "                      batch_size=128, \n",
        "                      validation_data=(test_images_ext, test_labels))\n"
      ],
      "execution_count": 100,
      "outputs": [
        {
          "output_type": "stream",
          "text": [
            "_________________________________________________________________\n",
            "Layer (type)                 Output Shape              Param #   \n",
            "=================================================================\n",
            "dense_3 (Dense)              (None, 10)                7880      \n",
            "=================================================================\n",
            "Total params: 7,880\n",
            "Trainable params: 7,880\n",
            "Non-trainable params: 0\n",
            "_________________________________________________________________\n",
            "Train on 60000 samples, validate on 10000 samples\n",
            "Epoch 1/15\n",
            "60000/60000 [==============================] - 1s 24us/step - loss: 1.2659 - acc: 0.6826 - val_loss: 0.7976 - val_acc: 0.8212\n",
            "Epoch 2/15\n",
            "60000/60000 [==============================] - 1s 21us/step - loss: 0.7070 - acc: 0.8334 - val_loss: 0.6018 - val_acc: 0.8553\n",
            "Epoch 3/15\n",
            "60000/60000 [==============================] - 1s 20us/step - loss: 0.5823 - acc: 0.8555 - val_loss: 0.5235 - val_acc: 0.8695\n",
            "Epoch 4/15\n",
            "60000/60000 [==============================] - 1s 20us/step - loss: 0.5224 - acc: 0.8663 - val_loss: 0.4804 - val_acc: 0.8756\n",
            "Epoch 5/15\n",
            "60000/60000 [==============================] - 1s 20us/step - loss: 0.4857 - acc: 0.8728 - val_loss: 0.4517 - val_acc: 0.8823\n",
            "Epoch 6/15\n",
            "60000/60000 [==============================] - 1s 21us/step - loss: 0.4604 - acc: 0.8779 - val_loss: 0.4312 - val_acc: 0.8858\n",
            "Epoch 7/15\n",
            "60000/60000 [==============================] - 1s 21us/step - loss: 0.4416 - acc: 0.8821 - val_loss: 0.4158 - val_acc: 0.8894\n",
            "Epoch 8/15\n",
            "60000/60000 [==============================] - 1s 20us/step - loss: 0.4269 - acc: 0.8850 - val_loss: 0.4036 - val_acc: 0.8928\n",
            "Epoch 9/15\n",
            "60000/60000 [==============================] - 1s 21us/step - loss: 0.4149 - acc: 0.8876 - val_loss: 0.3937 - val_acc: 0.8946\n",
            "Epoch 10/15\n",
            "60000/60000 [==============================] - 1s 21us/step - loss: 0.4050 - acc: 0.8894 - val_loss: 0.3854 - val_acc: 0.8962\n",
            "Epoch 11/15\n",
            "60000/60000 [==============================] - 1s 21us/step - loss: 0.3965 - acc: 0.8914 - val_loss: 0.3778 - val_acc: 0.8981\n",
            "Epoch 12/15\n",
            "60000/60000 [==============================] - 1s 21us/step - loss: 0.3893 - acc: 0.8930 - val_loss: 0.3721 - val_acc: 0.8993\n",
            "Epoch 13/15\n",
            "60000/60000 [==============================] - 1s 20us/step - loss: 0.3829 - acc: 0.8945 - val_loss: 0.3669 - val_acc: 0.9005\n",
            "Epoch 14/15\n",
            "60000/60000 [==============================] - 1s 21us/step - loss: 0.3772 - acc: 0.8955 - val_loss: 0.3620 - val_acc: 0.9012\n",
            "Epoch 15/15\n",
            "60000/60000 [==============================] - 1s 21us/step - loss: 0.3721 - acc: 0.8969 - val_loss: 0.3583 - val_acc: 0.9026\n"
          ],
          "name": "stdout"
        }
      ]
    },
    {
      "metadata": {
        "id": "cGf0ZMqq35xT",
        "colab_type": "text"
      },
      "cell_type": "markdown",
      "source": [
        "## Problem 5 Final Solution --Extend the network from Problem 4 by adding new features."
      ]
    },
    {
      "metadata": {
        "id": "VhiCGJC339SQ",
        "colab_type": "code",
        "colab": {}
      },
      "cell_type": "code",
      "source": [
        "#Train\n",
        "#Load data\n",
        "train_images, train_labels_original, test_images, test_labels_original=load_data_no_b()\n",
        "\n",
        "# one hot encode\n",
        "train_labels = to_categorical(train_labels_original)\n",
        "test_labels = to_categorical(test_labels_original)\n",
        "\n",
        "# get extra features, connected components, area black and area white.\n",
        "train_images_ext,test_images_ext= extra_features(train_images,test_images)\n"
      ],
      "execution_count": 0,
      "outputs": []
    },
    {
      "metadata": {
        "id": "H5K-1aFT4WBs",
        "colab_type": "code",
        "outputId": "8b446566-ddf6-4a3c-ff50-ace91de189c0",
        "colab": {
          "base_uri": "https://localhost:8080/",
          "height": 527
        }
      },
      "cell_type": "code",
      "source": [
        "#Train the NN using the extra features\n",
        "history=train_nn(train_images_ext,train_labels,test_images_ext, test_labels,64,10)"
      ],
      "execution_count": 113,
      "outputs": [
        {
          "output_type": "stream",
          "text": [
            "_________________________________________________________________\n",
            "Layer (type)                 Output Shape              Param #   \n",
            "=================================================================\n",
            "dense_6 (Dense)              (None, 10)                7880      \n",
            "=================================================================\n",
            "Total params: 7,880\n",
            "Trainable params: 7,880\n",
            "Non-trainable params: 0\n",
            "_________________________________________________________________\n",
            "Train on 60000 samples, validate on 10000 samples\n",
            "Epoch 1/10\n",
            "60000/60000 [==============================] - 3s 42us/step - loss: 0.9843 - acc: 0.7756 - val_loss: 0.5988 - val_acc: 0.8666\n",
            "Epoch 2/10\n",
            "60000/60000 [==============================] - 2s 29us/step - loss: 0.5518 - acc: 0.8657 - val_loss: 0.4739 - val_acc: 0.8848\n",
            "Epoch 3/10\n",
            "60000/60000 [==============================] - 2s 29us/step - loss: 0.4716 - acc: 0.8785 - val_loss: 0.4234 - val_acc: 0.8903\n",
            "Epoch 4/10\n",
            "60000/60000 [==============================] - 2s 29us/step - loss: 0.4324 - acc: 0.8858 - val_loss: 0.3954 - val_acc: 0.8959\n",
            "Epoch 5/10\n",
            "60000/60000 [==============================] - 2s 29us/step - loss: 0.4079 - acc: 0.8909 - val_loss: 0.3761 - val_acc: 0.9000\n",
            "Epoch 6/10\n",
            "60000/60000 [==============================] - 2s 29us/step - loss: 0.3910 - acc: 0.8942 - val_loss: 0.3632 - val_acc: 0.9021\n",
            "Epoch 7/10\n",
            "60000/60000 [==============================] - 2s 31us/step - loss: 0.3782 - acc: 0.8970 - val_loss: 0.3524 - val_acc: 0.9057\n",
            "Epoch 8/10\n",
            "60000/60000 [==============================] - 2s 30us/step - loss: 0.3681 - acc: 0.8992 - val_loss: 0.3442 - val_acc: 0.9071\n",
            "Epoch 9/10\n",
            "60000/60000 [==============================] - 2s 29us/step - loss: 0.3600 - acc: 0.9007 - val_loss: 0.3381 - val_acc: 0.9092\n",
            "Epoch 10/10\n",
            "60000/60000 [==============================] - 2s 29us/step - loss: 0.3532 - acc: 0.9019 - val_loss: 0.3323 - val_acc: 0.9097\n"
          ],
          "name": "stdout"
        }
      ]
    },
    {
      "metadata": {
        "id": "ShFcMfd_uQOc",
        "colab_type": "code",
        "outputId": "bfedf07d-54aa-4d75-84d1-f9c0596f24b1",
        "colab": {
          "base_uri": "https://localhost:8080/",
          "height": 752
        }
      },
      "cell_type": "code",
      "source": [
        "#Evaluation\n",
        "\n",
        "\n",
        "history_dict = history.history\n",
        "#print(history_dict['acc'])\n",
        "print(\"Final accuracy\",history_dict['val_acc'][epochs-1])\n",
        "\n",
        "\n",
        "loss_values = history_dict['loss']\n",
        "test_loss_values = history_dict['val_loss']\n",
        "epochs_range = range(1, epochs + 1)\n",
        "plt.plot(epochs_range, loss_values, 'bo', label='Training loss')\n",
        "plt.plot(epochs_range, test_loss_values, 'ro', label='Test loss')\n",
        "plt.title('Training and test loss')\n",
        "plt.xlabel('Epochs')\n",
        "plt.ylabel('Loss')\n",
        "plt.legend()\n",
        "plt.show()\n",
        "\n",
        "\n",
        "plt.plot(epochs_range, acc_values, 'bo', label='Training accuracy')\n",
        "plt.plot(epochs_range, test_acc_values, 'ro', label='Test accuracy')\n",
        "plt.title('Training and test accuracy')\n",
        "plt.xlabel('Epochs')\n",
        "plt.ylabel('Accuracy')\n",
        "plt.legend()\n",
        "plt.show()"
      ],
      "execution_count": 114,
      "outputs": [
        {
          "output_type": "stream",
          "text": [
            "Final accuracy 0.9097\n"
          ],
          "name": "stdout"
        },
        {
          "output_type": "display_data",
          "data": {
            "image/png": "[encoded data removed]",
            "text/plain": [
              "<Figure size 576x396 with 1 Axes>"
            ]
          },
          "metadata": {
            "tags": []
          }
        },
        {
          "output_type": "display_data",
          "data": {
            "image/png": "[encoded data removed]",
            "text/plain": [
              "<Figure size 576x396 with 1 Axes>"
            ]
          },
          "metadata": {
            "tags": []
          }
        }
      ]
    }
  ]
}