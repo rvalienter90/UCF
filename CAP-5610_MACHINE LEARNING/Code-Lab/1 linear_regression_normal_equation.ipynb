{
 "cells": [
  {
   "cell_type": "code",
   "execution_count": 0,
   "metadata": {
    "id": "M-LlSxWz90s4",
    "colab_type": "code",
    "colab": {}
   },
   "outputs": [],
   "source": [
    "%matplotlib inline\n",
    "import matplotlib as mpl\n",
    "import matplotlib.pyplot as plt\n",
    "mpl.rc('axes', labelsize=14)\n",
    "mpl.rc('xtick', labelsize=12)\n",
    "mpl.rc('ytick', labelsize=12)"
   ]
  },
  {
   "cell_type": "code",
   "execution_count": 0,
   "metadata": {
    "id": "MQIPYW1hDkvG",
    "colab_type": "code",
    "colab": {}
   },
   "outputs": [],
   "source": [
    "import numpy as np\n",
    "\n",
    "np.random.seed(42)\n",
    "\n",
    "X =  2 * np.random.rand(100, 1)\n",
    "y = 4 + 3 * X + np.random.rand(100, 1)"
   ]
  },
  {
   "cell_type": "code",
   "execution_count": 0,
   "metadata": {
    "id": "3QBSwjq298tG",
    "colab_type": "code",
    "outputId": "2c9aeb81-8c94-4776-fdfc-a649ce3506f8",
    "colab": {
     "base_uri": "https://localhost:8080/",
     "height": 289.0
    }
   },
   "outputs": [
    {
     "data": {
      "image/png": "[encoded data removed]",
      "text/plain": [
       "<Figure size 432x288 with 1 Axes>"
      ]
     },
     "metadata": {
      "tags": []
     },
     "output_type": "display_data"
    }
   ],
   "source": [
    "plt.plot(X, y, \"b.\")\n",
    "plt.xlabel(\"$x_1$\", fontsize=18)\n",
    "plt.ylabel(\"$y$\", rotation=0, fontsize=18)\n",
    "plt.axis([0, 2, 0, 15])\n",
    "plt.show()"
   ]
  },
  {
   "cell_type": "markdown",
   "metadata": {
    "id": "O73poDS-DqJU",
    "colab_type": "text"
   },
   "source": [
    "# Linear regression using the normal equation"
   ]
  },
  {
   "cell_type": "markdown",
   "metadata": {
    "id": "njOc4uVzIPPe",
    "colab_type": "text"
   },
   "source": [
    "We use numpy to compute the solution for the normal equation."
   ]
  },
  {
   "cell_type": "code",
   "execution_count": 0,
   "metadata": {
    "id": "m0f-Dl-V_2w2",
    "colab_type": "code",
    "colab": {}
   },
   "outputs": [],
   "source": [
    "# add x0 = 1 to each instance\n",
    "X_b = np.c_[np.ones((100, 1)), X]"
   ]
  },
  {
   "cell_type": "code",
   "execution_count": 0,
   "metadata": {
    "id": "iFElD_b4F-jF",
    "colab_type": "code",
    "outputId": "e3c6e10c-6ece-40c3-e2b0-a5ec8ad02587",
    "colab": {
     "base_uri": "https://localhost:8080/",
     "height": 104.0
    }
   },
   "outputs": [
    {
     "data": {
      "text/plain": [
       "array([[0.74908024],\n",
       "       [1.90142861],\n",
       "       [1.46398788],\n",
       "       [1.19731697],\n",
       "       [0.31203728]])"
      ]
     },
     "execution_count": 9,
     "metadata": {
      "tags": []
     },
     "output_type": "execute_result"
    }
   ],
   "source": [
    "X[:5]"
   ]
  },
  {
   "cell_type": "code",
   "execution_count": 0,
   "metadata": {
    "id": "PhdGrFkWGIMm",
    "colab_type": "code",
    "outputId": "85228009-0347-4355-9a59-2d43060d4ea9",
    "colab": {
     "base_uri": "https://localhost:8080/",
     "height": 104.0
    }
   },
   "outputs": [
    {
     "data": {
      "text/plain": [
       "array([[1.        , 0.74908024],\n",
       "       [1.        , 1.90142861],\n",
       "       [1.        , 1.46398788],\n",
       "       [1.        , 1.19731697],\n",
       "       [1.        , 0.31203728]])"
      ]
     },
     "execution_count": 10,
     "metadata": {
      "tags": []
     },
     "output_type": "execute_result"
    }
   ],
   "source": [
    "X_b[:5]"
   ]
  },
  {
   "cell_type": "code",
   "execution_count": 0,
   "metadata": {
    "id": "OYCAkMQwGPe2",
    "colab_type": "code",
    "colab": {}
   },
   "outputs": [],
   "source": [
    "# compute best weights using normal equation\n",
    "w_best = np.linalg.inv(X_b.T.dot(X_b)).dot(X_b.T).dot(y)"
   ]
  },
  {
   "cell_type": "code",
   "execution_count": 0,
   "metadata": {
    "id": "4wAMp7vhGovv",
    "colab_type": "code",
    "outputId": "79d8a66a-016b-426d-9954-1e1060b8e0cb",
    "colab": {
     "base_uri": "https://localhost:8080/",
     "height": 52.0
    }
   },
   "outputs": [
    {
     "data": {
      "text/plain": [
       "array([[4.51359766],\n",
       "       [2.98323418]])"
      ]
     },
     "execution_count": 12,
     "metadata": {
      "tags": []
     },
     "output_type": "execute_result"
    }
   ],
   "source": [
    "w_best"
   ]
  },
  {
   "cell_type": "code",
   "execution_count": 0,
   "metadata": {
    "id": "iLEvWCQKGqkl",
    "colab_type": "code",
    "outputId": "80154ca5-695f-4741-f8d6-3c87c3c42be8",
    "colab": {
     "base_uri": "https://localhost:8080/",
     "height": 52.0
    }
   },
   "outputs": [
    {
     "data": {
      "text/plain": [
       "array([[ 4.51359766],\n",
       "       [10.48006601]])"
      ]
     },
     "execution_count": 13,
     "metadata": {
      "tags": []
     },
     "output_type": "execute_result"
    }
   ],
   "source": [
    "X_new = np.array([[0], [2]])\n",
    "# add x0 = 1 to each instance\n",
    "X_new_b = np.c_[np.ones((2, 1)), X_new]  \n",
    "y_predict = X_new_b.dot(w_best)\n",
    "y_predict"
   ]
  },
  {
   "cell_type": "code",
   "execution_count": 0,
   "metadata": {
    "id": "DLlC7XQvHDb9",
    "colab_type": "code",
    "outputId": "f5671809-27d7-4e7f-8149-b1dc1210f453",
    "colab": {
     "base_uri": "https://localhost:8080/",
     "height": 289.0
    }
   },
   "outputs": [
    {
     "data": {
      "image/png": "[encoded data removed]",
      "text/plain": [
       "<Figure size 432x288 with 1 Axes>"
      ]
     },
     "metadata": {
      "tags": []
     },
     "output_type": "display_data"
    }
   ],
   "source": [
    "plt.plot(X_new, y_predict, \"r-\", linewidth=2, label=\"Predictions\")\n",
    "plt.plot(X, y, \"b.\")\n",
    "plt.xlabel(\"$x_1$\", fontsize=18)\n",
    "plt.ylabel(\"$y$\", rotation=0, fontsize=18)\n",
    "plt.legend(loc=\"upper left\", fontsize=14)\n",
    "plt.axis([0, 2, 0, 15])\n",
    "plt.show()"
   ]
  },
  {
   "cell_type": "code",
   "execution_count": 0,
   "metadata": {
    "id": "LAWGPCqhHPEp",
    "colab_type": "code",
    "colab": {}
   },
   "outputs": [],
   "source": [
    ""
   ]
  },
  {
   "cell_type": "markdown",
   "metadata": {
    "id": "eMKOmswCIgXw",
    "colab_type": "text"
   },
   "source": [
    "We use sklearn to compute the solution."
   ]
  },
  {
   "cell_type": "code",
   "execution_count": 0,
   "metadata": {
    "id": "R4vatF0tImgP",
    "colab_type": "code",
    "outputId": "368ca4fc-4f86-473a-fc64-1ea2c0315b48",
    "colab": {
     "base_uri": "https://localhost:8080/",
     "height": 35.0
    }
   },
   "outputs": [
    {
     "data": {
      "text/plain": [
       "(array([4.51359766]), array([[2.98323418]]))"
      ]
     },
     "execution_count": 15,
     "metadata": {
      "tags": []
     },
     "output_type": "execute_result"
    }
   ],
   "source": [
    "from sklearn.linear_model import LinearRegression\n",
    "lin_reg = LinearRegression()\n",
    "lin_reg.fit(X, y)\n",
    "lin_reg.intercept_, lin_reg.coef_"
   ]
  },
  {
   "cell_type": "code",
   "execution_count": 0,
   "metadata": {
    "id": "Q34S8HVrItp_",
    "colab_type": "code",
    "outputId": "1b76f074-260d-4131-f979-44915f590d6b",
    "colab": {
     "base_uri": "https://localhost:8080/",
     "height": 52.0
    }
   },
   "outputs": [
    {
     "data": {
      "text/plain": [
       "array([[ 4.51359766],\n",
       "       [10.48006601]])"
      ]
     },
     "execution_count": 16,
     "metadata": {
      "tags": []
     },
     "output_type": "execute_result"
    }
   ],
   "source": [
    "lin_reg.predict(X_new)"
   ]
  },
  {
   "cell_type": "code",
   "execution_count": 0,
   "metadata": {
    "id": "s0KhZLJiI1h3",
    "colab_type": "code",
    "colab": {}
   },
   "outputs": [],
   "source": [
    ""
   ]
  },
  {
   "cell_type": "markdown",
   "metadata": {
    "id": "1ZTA_1wEI3zW",
    "colab_type": "text"
   },
   "source": [
    "The ```LinearRegression``` class is based on the ```scipy.linalg.lstsq()``` function (the name stands for \"least squares\"), which you could call directly:"
   ]
  },
  {
   "cell_type": "code",
   "execution_count": 0,
   "metadata": {
    "id": "YOrsmtEkJLv-",
    "colab_type": "code",
    "outputId": "763dcd2b-49f0-4e41-e882-c7328c6a8cbf",
    "colab": {
     "base_uri": "https://localhost:8080/",
     "height": 50.0
    }
   },
   "outputs": [
    {
     "data": {
      "text/plain": [
       "array([[4.51359766],\n",
       "       [2.98323418]])"
      ]
     },
     "execution_count": 13,
     "metadata": {
      "tags": []
     },
     "output_type": "execute_result"
    }
   ],
   "source": [
    "w_best_svd, residuals, rank, s = np.linalg.lstsq(X_b, y, rcond=1e-6)\n",
    "w_best_svd"
   ]
  },
  {
   "cell_type": "markdown",
   "metadata": {
    "id": "7K2oN21oKgyy",
    "colab_type": "text"
   },
   "source": [
    "This function computes $X^+ y$, where  $X^+$ is the pseudoinverse of $X$ (specifically the Moore-Penrose inverse). You can use ```np.linalg.pinv()``` to compute the pseudoinverse directly:"
   ]
  },
  {
   "cell_type": "code",
   "execution_count": 0,
   "metadata": {
    "id": "zPow36_sKvSg",
    "colab_type": "code",
    "outputId": "81b2d343-4226-4138-e613-7a873d5d30b7",
    "colab": {
     "base_uri": "https://localhost:8080/",
     "height": 50.0
    }
   },
   "outputs": [
    {
     "data": {
      "text/plain": [
       "array([[4.51359766],\n",
       "       [2.98323418]])"
      ]
     },
     "execution_count": 14,
     "metadata": {
      "tags": []
     },
     "output_type": "execute_result"
    }
   ],
   "source": [
    "np.linalg.pinv(X_b).dot(y)"
   ]
  },
  {
   "cell_type": "markdown",
   "metadata": {
    "id": "0feK3IXhLGMZ",
    "colab_type": "text"
   },
   "source": [
    "The ```LinearRegression``` is based on the pseudoinverse, which ultimately relies on the SVD matrix decomposition of $X$. Its time complexity is  and it works even when  or when some features are linear combinations of other features (in these cases,  is not invertible so the Normal Equation fails).  \n",
    "\n",
    "The ```LinearRegression``` class, in particular, it is based on an analytical solution, it does not scale well with the number of features, it scales linearly with the number of instances, all the data must fit in memory, it does not require feature scaling and the order of the instances in the training set does not matter."
   ]
  }
 ],
 "metadata": {
  "colab": {
   "name": "linear_regression_normal_equation.ipynb",
   "version": "0.3.2",
   "provenance": []
  },
  "kernelspec": {
   "name": "python3",
   "display_name": "Python 3"
  }
 },
 "nbformat": 4,
 "nbformat_minor": 0
}
