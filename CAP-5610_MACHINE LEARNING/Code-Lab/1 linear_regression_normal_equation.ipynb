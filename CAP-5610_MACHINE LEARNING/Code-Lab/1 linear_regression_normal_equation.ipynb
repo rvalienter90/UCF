{
  "nbformat": 4,
  "nbformat_minor": 0,
  "metadata": {
    "colab": {
      "name": "linear_regression_normal_equation.ipynb",
      "version": "0.3.2",
      "provenance": []
    },
    "kernelspec": {
      "name": "python3",
      "display_name": "Python 3"
    },
    "accelerator": "GPU"
  },
  "cells": [
    {
      "metadata": {
        "id": "M-LlSxWz90s4",
        "colab_type": "code",
        "colab": {}
      },
      "cell_type": "code",
      "source": [
        "%matplotlib inline\n",
        "import matplotlib as mpl\n",
        "import matplotlib.pyplot as plt\n",
        "mpl.rc('axes', labelsize=14)\n",
        "mpl.rc('xtick', labelsize=12)\n",
        "mpl.rc('ytick', labelsize=12)\n",
        "#libs"
      ],
      "execution_count": 0,
      "outputs": []
    },
    {
      "metadata": {
        "id": "MQIPYW1hDkvG",
        "colab_type": "code",
        "colab": {}
      },
      "cell_type": "code",
      "source": [
        "#numpy\n",
        "import numpy as np\n",
        "\n",
        "np.random.seed(42)\n",
        "\n",
        "X =  2 * np.random.rand(100, 1)\n",
        "y = 4 + 3 * X + np.random.rand(100, 1)"
      ],
      "execution_count": 0,
      "outputs": []
    },
    {
      "metadata": {
        "id": "3QBSwjq298tG",
        "colab_type": "code",
        "outputId": "6fc87071-6ec0-49cb-a7da-21ea38edee79",
        "colab": {
          "base_uri": "https://localhost:8080/",
          "height": 288
        }
      },
      "cell_type": "code",
      "source": [
        "plt.plot(X, y, \"b.\")\n",
        "plt.xlabel(\"$x_1$\", fontsize=18)\n",
        "plt.ylabel(\"$y$\", rotation=0, fontsize=18)\n",
        "plt.axis([0, 2, 0, 15])\n",
        "plt.show()"
      ],
      "execution_count": 4,
      "outputs": [
        {
          "output_type": "display_data",
          "data": {
            "image/png": "[encoded data removed]",
            "text/plain": [
              "<Figure size 432x288 with 1 Axes>"
            ]
          },
          "metadata": {
            "tags": []
          }
        }
      ]
    },
    {
      "metadata": {
        "id": "O73poDS-DqJU",
        "colab_type": "text"
      },
      "cell_type": "markdown",
      "source": [
        "# Linear regression using the normal equation"
      ]
    },
    {
      "metadata": {
        "id": "njOc4uVzIPPe",
        "colab_type": "text"
      },
      "cell_type": "markdown",
      "source": [
        "We use numpy to compute the solution for the normal equation."
      ]
    },
    {
      "metadata": {
        "id": "m0f-Dl-V_2w2",
        "colab_type": "code",
        "colab": {}
      },
      "cell_type": "code",
      "source": [
        "# add x0 = 1 to each instance\n",
        "X_b = np.c_[np.ones((100, 1)), X]"
      ],
      "execution_count": 0,
      "outputs": []
    },
    {
      "metadata": {
        "id": "iFElD_b4F-jF",
        "colab_type": "code",
        "outputId": "559982f1-58a3-4dd1-f299-a9751c0f795b",
        "colab": {
          "base_uri": "https://localhost:8080/",
          "height": 102
        }
      },
      "cell_type": "code",
      "source": [
        "X[:5]"
      ],
      "execution_count": 6,
      "outputs": [
        {
          "output_type": "execute_result",
          "data": {
            "text/plain": [
              "array([[0.74908024],\n",
              "       [1.90142861],\n",
              "       [1.46398788],\n",
              "       [1.19731697],\n",
              "       [0.31203728]])"
            ]
          },
          "metadata": {
            "tags": []
          },
          "execution_count": 6
        }
      ]
    },
    {
      "metadata": {
        "id": "PhdGrFkWGIMm",
        "colab_type": "code",
        "outputId": "962b3f35-abd6-4703-faf5-4c2352832478",
        "colab": {
          "base_uri": "https://localhost:8080/",
          "height": 102
        }
      },
      "cell_type": "code",
      "source": [
        "X_b[:5]"
      ],
      "execution_count": 7,
      "outputs": [
        {
          "output_type": "execute_result",
          "data": {
            "text/plain": [
              "array([[1.        , 0.74908024],\n",
              "       [1.        , 1.90142861],\n",
              "       [1.        , 1.46398788],\n",
              "       [1.        , 1.19731697],\n",
              "       [1.        , 0.31203728]])"
            ]
          },
          "metadata": {
            "tags": []
          },
          "execution_count": 7
        }
      ]
    },
    {
      "metadata": {
        "id": "OYCAkMQwGPe2",
        "colab_type": "code",
        "colab": {}
      },
      "cell_type": "code",
      "source": [
        "# compute best weights using normal equation\n",
        "w_best = np.linalg.inv(X_b.T.dot(X_b)).dot(X_b.T).dot(y)"
      ],
      "execution_count": 0,
      "outputs": []
    },
    {
      "metadata": {
        "id": "4wAMp7vhGovv",
        "colab_type": "code",
        "outputId": "04155a4a-c2ea-47d3-8f3b-6d2dd91dba07",
        "colab": {
          "base_uri": "https://localhost:8080/",
          "height": 51
        }
      },
      "cell_type": "code",
      "source": [
        "w_best"
      ],
      "execution_count": 9,
      "outputs": [
        {
          "output_type": "execute_result",
          "data": {
            "text/plain": [
              "array([[4.51359766],\n",
              "       [2.98323418]])"
            ]
          },
          "metadata": {
            "tags": []
          },
          "execution_count": 9
        }
      ]
    },
    {
      "metadata": {
        "id": "iLEvWCQKGqkl",
        "colab_type": "code",
        "outputId": "d2beadb2-2bd6-4524-f79c-9fe4bbd7b116",
        "colab": {
          "base_uri": "https://localhost:8080/",
          "height": 51
        }
      },
      "cell_type": "code",
      "source": [
        "X_new = np.array([[0], [2]])\n",
        "# add x0 = 1 to each instance\n",
        "X_new_b = np.c_[np.ones((2, 1)), X_new]  \n",
        "y_predict = X_new_b.dot(w_best)\n",
        "y_predict"
      ],
      "execution_count": 10,
      "outputs": [
        {
          "output_type": "execute_result",
          "data": {
            "text/plain": [
              "array([[ 4.51359766],\n",
              "       [10.48006601]])"
            ]
          },
          "metadata": {
            "tags": []
          },
          "execution_count": 10
        }
      ]
    },
    {
      "metadata": {
        "id": "tXvyLuL4V2z_",
        "colab_type": "code",
        "colab": {
          "base_uri": "https://localhost:8080/",
          "height": 517
        },
        "outputId": "e1f701a7-2618-4d4c-88b6-cae82fa8755e"
      },
      "cell_type": "code",
      "source": [
        "plt.plot(X_new, y_predict, \"r-\", linewidth=2, label=\"Predictions\")\n",
        "plt.show()\n",
        "plt.plot(X_new,y_predict,'b.')\n",
        "plt.show()"
      ],
      "execution_count": 15,
      "outputs": [
        {
          "output_type": "display_data",
          "data": {
            "image/png": "[encoded data removed]",
            "text/plain": [
              "<Figure size 432x288 with 1 Axes>"
            ]
          },
          "metadata": {
            "tags": []
          }
        },
        {
          "output_type": "display_data",
          "data": {
            "image/png": "[encoded data removed]",
            "text/plain": [
              "<Figure size 432x288 with 1 Axes>"
            ]
          },
          "metadata": {
            "tags": []
          }
        }
      ]
    },
    {
      "metadata": {
        "id": "DLlC7XQvHDb9",
        "colab_type": "code",
        "outputId": "12ae9569-a219-4581-a0ac-b87e84297623",
        "colab": {
          "base_uri": "https://localhost:8080/",
          "height": 288
        }
      },
      "cell_type": "code",
      "source": [
        "plt.plot(X_new, y_predict, \"r-\", linewidth=2, label=\"Predictions\")\n",
        "plt.plot(X, y, \"b.\")\n",
        "plt.xlabel(\"$x_1$\", fontsize=18)\n",
        "plt.ylabel(\"$y$\", rotation=0, fontsize=18)\n",
        "plt.legend(loc=\"upper left\", fontsize=14)\n",
        "plt.axis([0, 2, 0, 15])\n",
        "plt.show()"
      ],
      "execution_count": 11,
      "outputs": [
        {
          "output_type": "display_data",
          "data": {
            "image/png": "[encoded data removed]",
            "text/plain": [
              "<Figure size 432x288 with 1 Axes>"
            ]
          },
          "metadata": {
            "tags": []
          }
        }
      ]
    },
    {
      "metadata": {
        "id": "LAWGPCqhHPEp",
        "colab_type": "code",
        "colab": {}
      },
      "cell_type": "code",
      "source": [
        ""
      ],
      "execution_count": 0,
      "outputs": []
    },
    {
      "metadata": {
        "id": "eMKOmswCIgXw",
        "colab_type": "text"
      },
      "cell_type": "markdown",
      "source": [
        "We use sklearn to compute the solution."
      ]
    },
    {
      "metadata": {
        "id": "R4vatF0tImgP",
        "colab_type": "code",
        "outputId": "368ca4fc-4f86-473a-fc64-1ea2c0315b48",
        "colab": {
          "base_uri": "https://localhost:8080/",
          "height": 35
        }
      },
      "cell_type": "code",
      "source": [
        "from sklearn.linear_model import LinearRegression\n",
        "lin_reg = LinearRegression()\n",
        "lin_reg.fit(X, y)\n",
        "lin_reg.intercept_, lin_reg.coef_"
      ],
      "execution_count": 0,
      "outputs": [
        {
          "output_type": "execute_result",
          "data": {
            "text/plain": [
              "(array([4.51359766]), array([[2.98323418]]))"
            ]
          },
          "metadata": {
            "tags": []
          },
          "execution_count": 15
        }
      ]
    },
    {
      "metadata": {
        "id": "Q34S8HVrItp_",
        "colab_type": "code",
        "outputId": "1b76f074-260d-4131-f979-44915f590d6b",
        "colab": {
          "base_uri": "https://localhost:8080/",
          "height": 52
        }
      },
      "cell_type": "code",
      "source": [
        "lin_reg.predict(X_new)"
      ],
      "execution_count": 0,
      "outputs": [
        {
          "output_type": "execute_result",
          "data": {
            "text/plain": [
              "array([[ 4.51359766],\n",
              "       [10.48006601]])"
            ]
          },
          "metadata": {
            "tags": []
          },
          "execution_count": 16
        }
      ]
    },
    {
      "metadata": {
        "id": "s0KhZLJiI1h3",
        "colab_type": "code",
        "colab": {}
      },
      "cell_type": "code",
      "source": [
        ""
      ],
      "execution_count": 0,
      "outputs": []
    },
    {
      "metadata": {
        "id": "1ZTA_1wEI3zW",
        "colab_type": "text"
      },
      "cell_type": "markdown",
      "source": [
        "The ```LinearRegression``` class is based on the ```scipy.linalg.lstsq()``` function (the name stands for \"least squares\"), which you could call directly:"
      ]
    },
    {
      "metadata": {
        "id": "YOrsmtEkJLv-",
        "colab_type": "code",
        "outputId": "763dcd2b-49f0-4e41-e882-c7328c6a8cbf",
        "colab": {
          "base_uri": "https://localhost:8080/",
          "height": 50
        }
      },
      "cell_type": "code",
      "source": [
        "w_best_svd, residuals, rank, s = np.linalg.lstsq(X_b, y, rcond=1e-6)\n",
        "w_best_svd"
      ],
      "execution_count": 0,
      "outputs": [
        {
          "output_type": "execute_result",
          "data": {
            "text/plain": [
              "array([[4.51359766],\n",
              "       [2.98323418]])"
            ]
          },
          "metadata": {
            "tags": []
          },
          "execution_count": 13
        }
      ]
    },
    {
      "metadata": {
        "id": "7K2oN21oKgyy",
        "colab_type": "text"
      },
      "cell_type": "markdown",
      "source": [
        "This function computes $X^+ y$, where  $X^+$ is the pseudoinverse of $X$ (specifically the Moore-Penrose inverse). You can use ```np.linalg.pinv()``` to compute the pseudoinverse directly:"
      ]
    },
    {
      "metadata": {
        "id": "zPow36_sKvSg",
        "colab_type": "code",
        "outputId": "81b2d343-4226-4138-e613-7a873d5d30b7",
        "colab": {
          "base_uri": "https://localhost:8080/",
          "height": 50
        }
      },
      "cell_type": "code",
      "source": [
        "np.linalg.pinv(X_b).dot(y)"
      ],
      "execution_count": 0,
      "outputs": [
        {
          "output_type": "execute_result",
          "data": {
            "text/plain": [
              "array([[4.51359766],\n",
              "       [2.98323418]])"
            ]
          },
          "metadata": {
            "tags": []
          },
          "execution_count": 14
        }
      ]
    },
    {
      "metadata": {
        "id": "0feK3IXhLGMZ",
        "colab_type": "text"
      },
      "cell_type": "markdown",
      "source": [
        "The ```LinearRegression``` is based on the pseudoinverse, which ultimately relies on the SVD matrix decomposition of $X$. Its time complexity is  and it works even when  or when some features are linear combinations of other features (in these cases,  is not invertible so the Normal Equation fails).  \n",
        "\n",
        "The ```LinearRegression``` class, in particular, it is based on an analytical solution, it does not scale well with the number of features, it scales linearly with the number of instances, all the data must fit in memory, it does not require feature scaling and the order of the instances in the training set does not matter."
      ]
    }
  ]
}