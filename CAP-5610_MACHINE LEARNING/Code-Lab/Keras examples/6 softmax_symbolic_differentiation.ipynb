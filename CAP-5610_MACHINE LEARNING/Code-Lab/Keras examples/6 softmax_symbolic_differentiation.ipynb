{
  "nbformat": 4,
  "nbformat_minor": 0,
  "metadata": {
    "colab": {
      "name": "softmax_symbolic_differentiation.ipynb",
      "version": "0.3.2",
      "provenance": []
    },
    "kernelspec": {
      "name": "python3",
      "display_name": "Python 3"
    }
  },
  "cells": [
    {
      "metadata": {
        "id": "WaoKtWjMhJlW",
        "colab_type": "text"
      },
      "cell_type": "markdown",
      "source": [
        "## Symbolic differentiation with the Python package ``scipy``\n",
        "\n",
        "We are going to verify the formulas in the notes\n",
        "[*Softmax and categorical cross entropy*](https://github.com/schneider128k/machine_learning_course/blob/master/slides/softmax.pdf) using the Python package ```scipy```. \n",
        "\n",
        "It lets you do symbolic differentiation. See [differentiation with ```scipy```](https://scipy-lectures.org/packages/sympy.html#differentiation)."
      ]
    },
    {
      "metadata": {
        "id": "baxv1z4yRdww",
        "colab_type": "code",
        "colab": {}
      },
      "cell_type": "code",
      "source": [
        "import sympy as sym"
      ],
      "execution_count": 0,
      "outputs": []
    },
    {
      "metadata": {
        "id": "aH9QoMZ-UDY6",
        "colab_type": "text"
      },
      "cell_type": "markdown",
      "source": [
        "## Weighted inputs $z_1, z_2, z_3$"
      ]
    },
    {
      "metadata": {
        "id": "-52b5DyQRi1X",
        "colab_type": "code",
        "colab": {}
      },
      "cell_type": "code",
      "source": [
        "z1 = sym.Symbol('z1')\n",
        "z2 = sym.Symbol('z2')\n",
        "z3 = sym.Symbol('z3')\n"
      ],
      "execution_count": 0,
      "outputs": []
    },
    {
      "metadata": {
        "id": "jiUEvNd4UQLa",
        "colab_type": "text"
      },
      "cell_type": "markdown",
      "source": [
        "## Softmax activations $a_k$\n",
        "\n",
        "The softmax activations $a_k$ are given by\n",
        "\n",
        "$$ a_k = \\frac{e^{z_k}}{\\sum_{j=1}^n e^{z_j}}. $$"
      ]
    },
    {
      "metadata": {
        "id": "vb2dW5BzRt1W",
        "colab_type": "code",
        "colab": {}
      },
      "cell_type": "code",
      "source": [
        "a1 = sym.exp(z1) / (sym.exp(z1) + sym.exp(z2) + sym.exp(z3))\n",
        "a2 = sym.exp(z2) / (sym.exp(z1) + sym.exp(z2) + sym.exp(z3))\n",
        "a3 = sym.exp(z3) / (sym.exp(z1) + sym.exp(z2) + sym.exp(z3))\n"
      ],
      "execution_count": 0,
      "outputs": []
    },
    {
      "metadata": {
        "id": "USIVNcVTgI44",
        "colab_type": "text"
      },
      "cell_type": "markdown",
      "source": [
        "## Partial derivatives of $a_k$ with respect to $z_j$"
      ]
    },
    {
      "metadata": {
        "id": "7x0pFk9CgSrb",
        "colab_type": "text"
      },
      "cell_type": "markdown",
      "source": [
        "We want to verify the formula (2) for the partial derivatives of the activations $a_k$ with respect to the weighted inputs $z_j$:\n",
        "\n",
        "$${\\partial a_k \\over \\partial z_j} = a_k \\cdot (\\delta_{jk} - a_j)$$"
      ]
    },
    {
      "metadata": {
        "id": "fn1C0Z-lSYFd",
        "colab_type": "code",
        "outputId": "5764af85-3169-4feb-de04-77744d241113",
        "colab": {
          "base_uri": "https://localhost:8080/",
          "height": 34
        }
      },
      "cell_type": "code",
      "source": [
        "sym.simplify(a1 * (1 - a1) - sym.diff(a1, z1))"
      ],
      "execution_count": 0,
      "outputs": [
        {
          "output_type": "execute_result",
          "data": {
            "text/plain": [
              "0"
            ]
          },
          "metadata": {
            "tags": []
          },
          "execution_count": 4
        }
      ]
    },
    {
      "metadata": {
        "id": "GB8P8EdsS5AT",
        "colab_type": "code",
        "outputId": "ce441278-a891-4ff7-e73e-493d034d8f42",
        "colab": {
          "base_uri": "https://localhost:8080/",
          "height": 34
        }
      },
      "cell_type": "code",
      "source": [
        "sym.simplify(a1 * -a2 - sym.diff(a1, z2))"
      ],
      "execution_count": 0,
      "outputs": [
        {
          "output_type": "execute_result",
          "data": {
            "text/plain": [
              "0"
            ]
          },
          "metadata": {
            "tags": []
          },
          "execution_count": 5
        }
      ]
    },
    {
      "metadata": {
        "id": "4CmrO5GXXJmB",
        "colab_type": "code",
        "outputId": "bbeb0ca7-a162-47fa-f76b-7a3faa207d5f",
        "colab": {
          "base_uri": "https://localhost:8080/",
          "height": 34
        }
      },
      "cell_type": "code",
      "source": [
        "sym.simplify(a1 * -a3 - sym.diff(a1, z3))"
      ],
      "execution_count": 0,
      "outputs": [
        {
          "output_type": "execute_result",
          "data": {
            "text/plain": [
              "0"
            ]
          },
          "metadata": {
            "tags": []
          },
          "execution_count": 6
        }
      ]
    },
    {
      "metadata": {
        "id": "Yc-RvIB5XWcA",
        "colab_type": "text"
      },
      "cell_type": "markdown",
      "source": [
        "## Categorical cross entropy loss function $\\mathcal{L}$\n",
        "\n",
        "The cross entropy function is given by\n",
        "\n",
        "$$ \\mathcal{L} = -\\sum_{k=1}^m y_k \\log a_k. $$"
      ]
    },
    {
      "metadata": {
        "id": "PJWRzrbXU9va",
        "colab_type": "code",
        "colab": {}
      },
      "cell_type": "code",
      "source": [
        "# labels\n",
        "y1 = sym.Symbol('y1')\n",
        "y2 = sym.Symbol('y2')\n",
        "y3 = sym.Symbol('y3')\n",
        "\n",
        "# loss\n",
        "L = - y1 * sym.log(a1) - y2 * sym.log(a2) - y3 * sym.log(a3) "
      ],
      "execution_count": 0,
      "outputs": []
    },
    {
      "metadata": {
        "id": "DIBWI9Hnjthq",
        "colab_type": "text"
      },
      "cell_type": "markdown",
      "source": [
        "## Partial derivatives of the loss function $\\mathcal{L}$ with respect to the activations $a_k$\n",
        "\n",
        "These are given by formula (5). \n",
        "\n",
        "$$ {\\partial \\mathcal{L} \\over \\partial z_j} = - \\frac{y_k}{a_k}$$"
      ]
    },
    {
      "metadata": {
        "id": "46Xxz2SnYG1i",
        "colab_type": "text"
      },
      "cell_type": "markdown",
      "source": [
        "## Partial derivatives of the loss function $\\mathcal{L}$ with respect to the activations $z_j$."
      ]
    },
    {
      "metadata": {
        "id": "i-rKpMphf0DP",
        "colab_type": "text"
      },
      "cell_type": "markdown",
      "source": [
        "We want to verify the formula (8) for the partial derivative of the loss function $\\mathcal{L}$ with respect to $z_j$:\n",
        "\n",
        "$$ {\\partial \\mathcal{L} \\over \\partial z_j} = \\sum_{k=1}^m y_k \\cdot (a_j - \\delta_{kj})$$"
      ]
    },
    {
      "metadata": {
        "id": "CQkXvfZTYUt_",
        "colab_type": "code",
        "outputId": "91f4facc-49fc-4367-dcf8-2c591251058f",
        "colab": {
          "base_uri": "https://localhost:8080/",
          "height": 34
        }
      },
      "cell_type": "code",
      "source": [
        "sym.simplify(y1 * (a1 - 1) + y2 * a1 + y3 * a1 - sym.diff(L, z1))"
      ],
      "execution_count": 0,
      "outputs": [
        {
          "output_type": "execute_result",
          "data": {
            "text/plain": [
              "0"
            ]
          },
          "metadata": {
            "tags": []
          },
          "execution_count": 8
        }
      ]
    },
    {
      "metadata": {
        "id": "x7pb62zCe9Df",
        "colab_type": "code",
        "outputId": "29186610-a08a-46b6-c76c-486dacd2ee08",
        "colab": {
          "base_uri": "https://localhost:8080/",
          "height": 34
        }
      },
      "cell_type": "code",
      "source": [
        "sym.simplify(y1 * a2 + y2 * (a2 - 1) + y3 * a2 - sym.diff(L, z2))"
      ],
      "execution_count": 0,
      "outputs": [
        {
          "output_type": "execute_result",
          "data": {
            "text/plain": [
              "0"
            ]
          },
          "metadata": {
            "tags": []
          },
          "execution_count": 9
        }
      ]
    },
    {
      "metadata": {
        "id": "XcMN-idwfW1A",
        "colab_type": "code",
        "outputId": "03fc71e9-2f37-492c-f897-15037cb5f025",
        "colab": {
          "base_uri": "https://localhost:8080/",
          "height": 34
        }
      },
      "cell_type": "code",
      "source": [
        "sym.simplify(y1 * a3 + y2 * a3 + y3 * (a3 - 1) - sym.diff(L, z3))"
      ],
      "execution_count": 0,
      "outputs": [
        {
          "output_type": "execute_result",
          "data": {
            "text/plain": [
              "0"
            ]
          },
          "metadata": {
            "tags": []
          },
          "execution_count": 10
        }
      ]
    }
  ]
}