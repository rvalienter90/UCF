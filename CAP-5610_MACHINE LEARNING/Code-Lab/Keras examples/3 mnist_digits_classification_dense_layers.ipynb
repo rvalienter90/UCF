{
  "nbformat": 4,
  "nbformat_minor": 0,
  "metadata": {
    "colab": {
      "name": "mnist_digits_classification_dense_layers.ipynb",
      "version": "0.3.2",
      "provenance": []
    },
    "kernelspec": {
      "name": "python3",
      "display_name": "Python 3"
    },
    "accelerator": "GPU"
  },
  "cells": [
    {
      "metadata": {
        "id": "rt44vyY1xW9b",
        "colab_type": "text"
      },
      "cell_type": "markdown",
      "source": [
        "# Classification of MNIST digits with dense layers"
      ]
    },
    {
      "metadata": {
        "id": "yH1EOQd6R2uQ",
        "colab_type": "text"
      },
      "cell_type": "markdown",
      "source": [
        "## Loading the image data"
      ]
    },
    {
      "metadata": {
        "id": "FSJyddqGexl5",
        "colab_type": "code",
        "outputId": "1ace9ae0-36bc-4745-bbcc-9ea035a1579e",
        "colab": {
          "base_uri": "https://localhost:8080/",
          "height": 67
        }
      },
      "cell_type": "code",
      "source": [
        "from keras.datasets import mnist\n",
        "\n",
        "(train_images_original, train_labels_original), (test_images_original, test_labels_original) = mnist.load_data()"
      ],
      "execution_count": 0,
      "outputs": [
        {
          "output_type": "stream",
          "text": [
            "Using TensorFlow backend.\n"
          ],
          "name": "stderr"
        },
        {
          "output_type": "stream",
          "text": [
            "Downloading data from https://s3.amazonaws.com/img-datasets/mnist.npz\n",
            "11493376/11490434 [==============================] - 0s 0us/step\n"
          ],
          "name": "stdout"
        }
      ]
    },
    {
      "metadata": {
        "id": "91gu7qVhR6eX",
        "colab_type": "text"
      },
      "cell_type": "markdown",
      "source": [
        "## Preparing the image data"
      ]
    },
    {
      "metadata": {
        "id": "UB7_xf0hzsPx",
        "colab_type": "code",
        "colab": {}
      },
      "cell_type": "code",
      "source": [
        "train_images = train_images_original.reshape((60000, 28 * 28))\n",
        "train_images = train_images.astype('float32') / 255\n",
        "\n",
        "test_images = test_images_original.reshape((10000, 28 * 28))\n",
        "test_images = test_images.astype('float32') / 255"
      ],
      "execution_count": 0,
      "outputs": []
    },
    {
      "metadata": {
        "id": "HwRvZSOvSzXx",
        "colab_type": "text"
      },
      "cell_type": "markdown",
      "source": [
        "## Preparing the labels\n",
        "\n",
        "We need to categorically encode the labels."
      ]
    },
    {
      "metadata": {
        "id": "C1ulkKRPSgJP",
        "colab_type": "code",
        "colab": {}
      },
      "cell_type": "code",
      "source": [
        "from keras.utils import to_categorical\n",
        "\n",
        "train_labels = to_categorical(train_labels_original)\n",
        "test_labels = to_categorical(test_labels_original)"
      ],
      "execution_count": 0,
      "outputs": []
    },
    {
      "metadata": {
        "id": "rC8AL-W7Vunu",
        "colab_type": "text"
      },
      "cell_type": "markdown",
      "source": [
        "## Deplaying some of the original and prepared image data and labels"
      ]
    },
    {
      "metadata": {
        "id": "1mqqyfjeWBvO",
        "colab_type": "code",
        "outputId": "bc5271fa-c6c2-4b01-ba90-be0a92bb1da9",
        "colab": {
          "base_uri": "https://localhost:8080/",
          "height": 34
        }
      },
      "cell_type": "code",
      "source": [
        "train_images.shape"
      ],
      "execution_count": 0,
      "outputs": [
        {
          "output_type": "execute_result",
          "data": {
            "text/plain": [
              "(60000, 784)"
            ]
          },
          "metadata": {
            "tags": []
          },
          "execution_count": 4
        }
      ]
    },
    {
      "metadata": {
        "id": "0gYNAbR4WM5d",
        "colab_type": "code",
        "outputId": "bc42cce3-72bb-4ec6-dd35-c0278f847cc3",
        "colab": {
          "base_uri": "https://localhost:8080/",
          "height": 34
        }
      },
      "cell_type": "code",
      "source": [
        "train_images_original.shape"
      ],
      "execution_count": 0,
      "outputs": [
        {
          "output_type": "execute_result",
          "data": {
            "text/plain": [
              "(60000, 28, 28)"
            ]
          },
          "metadata": {
            "tags": []
          },
          "execution_count": 5
        }
      ]
    },
    {
      "metadata": {
        "id": "-uFEJL_WWRXI",
        "colab_type": "code",
        "outputId": "87dca75d-8e76-4e14-fade-8f0d66dcdea0",
        "colab": {
          "base_uri": "https://localhost:8080/",
          "height": 347
        }
      },
      "cell_type": "code",
      "source": [
        "import matplotlib.pyplot as plt\n",
        "plt.imshow(train_images_original[0])\n",
        "plt.grid(None)\n",
        "plt.show()"
      ],
      "execution_count": 0,
      "outputs": [
        {
          "output_type": "display_data",
          "data": {
            "image/png": "[encoded data removed]",
            "text/plain": [
              "<Figure size 576x396 with 1 Axes>"
            ]
          },
          "metadata": {
            "tags": []
          }
        }
      ]
    },
    {
      "metadata": {
        "id": "lwUQhGR8O3Fu",
        "colab_type": "code",
        "outputId": "9049150b-6060-48f8-b862-ba9707ae13a2",
        "colab": {
          "base_uri": "https://localhost:8080/",
          "height": 34
        }
      },
      "cell_type": "code",
      "source": [
        "train_labels.shape"
      ],
      "execution_count": 0,
      "outputs": [
        {
          "output_type": "execute_result",
          "data": {
            "text/plain": [
              "(60000, 10)"
            ]
          },
          "metadata": {
            "tags": []
          },
          "execution_count": 7
        }
      ]
    },
    {
      "metadata": {
        "id": "45k_Qxb6TVx2",
        "colab_type": "code",
        "outputId": "46580654-f85c-4c48-f5d5-c47b76fe34a7",
        "colab": {
          "base_uri": "https://localhost:8080/",
          "height": 34
        }
      },
      "cell_type": "code",
      "source": [
        "train_labels[0]"
      ],
      "execution_count": 0,
      "outputs": [
        {
          "output_type": "execute_result",
          "data": {
            "text/plain": [
              "array([0., 0., 0., 0., 0., 1., 0., 0., 0., 0.], dtype=float32)"
            ]
          },
          "metadata": {
            "tags": []
          },
          "execution_count": 8
        }
      ]
    },
    {
      "metadata": {
        "id": "3UuJmDovTZlO",
        "colab_type": "code",
        "colab": {}
      },
      "cell_type": "code",
      "source": [
        "import numpy as np"
      ],
      "execution_count": 0,
      "outputs": []
    },
    {
      "metadata": {
        "id": "2fvjL7woTmTN",
        "colab_type": "code",
        "outputId": "8febf87c-c89b-4bfb-9a47-bc9bf0a7f532",
        "colab": {
          "base_uri": "https://localhost:8080/",
          "height": 34
        }
      },
      "cell_type": "code",
      "source": [
        "np.argmax(train_labels[0])"
      ],
      "execution_count": 0,
      "outputs": [
        {
          "output_type": "execute_result",
          "data": {
            "text/plain": [
              "5"
            ]
          },
          "metadata": {
            "tags": []
          },
          "execution_count": 10
        }
      ]
    },
    {
      "metadata": {
        "id": "Ta3BJNQQVasW",
        "colab_type": "code",
        "outputId": "897420b8-1632-487e-c5ab-4c00600c276f",
        "colab": {
          "base_uri": "https://localhost:8080/",
          "height": 34
        }
      },
      "cell_type": "code",
      "source": [
        "train_labels_original[0]"
      ],
      "execution_count": 0,
      "outputs": [
        {
          "output_type": "execute_result",
          "data": {
            "text/plain": [
              "5"
            ]
          },
          "metadata": {
            "tags": []
          },
          "execution_count": 11
        }
      ]
    },
    {
      "metadata": {
        "id": "36YichvkWfgL",
        "colab_type": "text"
      },
      "cell_type": "markdown",
      "source": [
        "## The network architecture"
      ]
    },
    {
      "metadata": {
        "id": "J1ggKa17T2s5",
        "colab_type": "code",
        "outputId": "998ce660-d22b-45fa-ff48-083768b722d3",
        "colab": {
          "base_uri": "https://localhost:8080/",
          "height": 222
        }
      },
      "cell_type": "code",
      "source": [
        "from keras import models\n",
        "from keras import layers\n",
        "\n",
        "network = models.Sequential()\n",
        "network.add(layers.Dense(512, activation='relu', input_shape=(28 * 28,)))\n",
        "network.add(layers.Dense(10, activation='softmax'))\n",
        "network.summary()"
      ],
      "execution_count": 0,
      "outputs": [
        {
          "output_type": "stream",
          "text": [
            "_________________________________________________________________\n",
            "Layer (type)                 Output Shape              Param #   \n",
            "=================================================================\n",
            "dense_1 (Dense)              (None, 512)               401920    \n",
            "_________________________________________________________________\n",
            "dense_2 (Dense)              (None, 10)                5130      \n",
            "=================================================================\n",
            "Total params: 407,050\n",
            "Trainable params: 407,050\n",
            "Non-trainable params: 0\n",
            "_________________________________________________________________\n"
          ],
          "name": "stdout"
        }
      ]
    },
    {
      "metadata": {
        "id": "8H6VF7ZIY6Oy",
        "colab_type": "text"
      },
      "cell_type": "markdown",
      "source": [
        "## The compilation step"
      ]
    },
    {
      "metadata": {
        "id": "mHp0sz7cYPsK",
        "colab_type": "code",
        "colab": {}
      },
      "cell_type": "code",
      "source": [
        "network.compile(optimizer='rmsprop',\n",
        "                loss='categorical_crossentropy',\n",
        "                metrics=['accuracy'])"
      ],
      "execution_count": 0,
      "outputs": []
    },
    {
      "metadata": {
        "id": "3SnwsJAtZtYx",
        "colab_type": "text"
      },
      "cell_type": "markdown",
      "source": [
        "## The training step"
      ]
    },
    {
      "metadata": {
        "id": "2YuVq3JIZksS",
        "colab_type": "code",
        "outputId": "72fe39e0-a79b-4813-dc8c-79c76a684010",
        "colab": {
          "base_uri": "https://localhost:8080/",
          "height": 370
        }
      },
      "cell_type": "code",
      "source": [
        "epochs = 10\n",
        "history = network.fit(train_images, \n",
        "                      train_labels, \n",
        "                      epochs=epochs, \n",
        "                      batch_size=128, \n",
        "                      validation_data=(test_images, test_labels))"
      ],
      "execution_count": 0,
      "outputs": [
        {
          "output_type": "stream",
          "text": [
            "Train on 60000 samples, validate on 10000 samples\n",
            "Epoch 1/10\n",
            "60000/60000 [==============================] - 4s 67us/step - loss: 0.2531 - acc: 0.9268 - val_loss: 0.1436 - val_acc: 0.9570\n",
            "Epoch 2/10\n",
            "60000/60000 [==============================] - 2s 36us/step - loss: 0.1052 - acc: 0.9690 - val_loss: 0.0975 - val_acc: 0.9717\n",
            "Epoch 3/10\n",
            "60000/60000 [==============================] - 2s 36us/step - loss: 0.0688 - acc: 0.9797 - val_loss: 0.0735 - val_acc: 0.9778\n",
            "Epoch 4/10\n",
            "60000/60000 [==============================] - 2s 36us/step - loss: 0.0504 - acc: 0.9848 - val_loss: 0.0673 - val_acc: 0.9806\n",
            "Epoch 5/10\n",
            "60000/60000 [==============================] - 2s 36us/step - loss: 0.0369 - acc: 0.9888 - val_loss: 0.0709 - val_acc: 0.9794\n",
            "Epoch 6/10\n",
            "60000/60000 [==============================] - 2s 36us/step - loss: 0.0291 - acc: 0.9916 - val_loss: 0.0681 - val_acc: 0.9796\n",
            "Epoch 7/10\n",
            "60000/60000 [==============================] - 2s 36us/step - loss: 0.0218 - acc: 0.9936 - val_loss: 0.0714 - val_acc: 0.9799\n",
            "Epoch 8/10\n",
            "60000/60000 [==============================] - 2s 36us/step - loss: 0.0168 - acc: 0.9952 - val_loss: 0.0665 - val_acc: 0.9821\n",
            "Epoch 9/10\n",
            "60000/60000 [==============================] - 2s 36us/step - loss: 0.0131 - acc: 0.9963 - val_loss: 0.0784 - val_acc: 0.9791\n",
            "Epoch 10/10\n",
            "60000/60000 [==============================] - 2s 36us/step - loss: 0.0100 - acc: 0.9970 - val_loss: 0.0689 - val_acc: 0.9807\n"
          ],
          "name": "stdout"
        }
      ]
    },
    {
      "metadata": {
        "id": "vTtzYNe-a-Ro",
        "colab_type": "text"
      },
      "cell_type": "markdown",
      "source": [
        "## Display the training/test loss/accuracy"
      ]
    },
    {
      "metadata": {
        "id": "kZ70napGZ-cK",
        "colab_type": "code",
        "colab": {}
      },
      "cell_type": "code",
      "source": [
        "history_dict = history.history\n",
        "loss_values = history_dict['loss']\n",
        "test_loss_values = history_dict['val_loss']\n",
        "epochs_range = range(1, epochs + 1)"
      ],
      "execution_count": 0,
      "outputs": []
    },
    {
      "metadata": {
        "id": "9aM-5qqCfnck",
        "colab_type": "code",
        "outputId": "99539f91-8544-4daf-b669-3e578ca1f8b6",
        "colab": {
          "base_uri": "https://localhost:8080/",
          "height": 376
        }
      },
      "cell_type": "code",
      "source": [
        "plt.plot(epochs_range, loss_values, 'bo', label='Training loss')\n",
        "plt.plot(epochs_range, test_loss_values, 'ro', label='Test loss')\n",
        "plt.title('Training and test loss')\n",
        "plt.xlabel('Epochs')\n",
        "plt.ylabel('Loss')\n",
        "plt.legend()\n",
        "plt.show()"
      ],
      "execution_count": 0,
      "outputs": [
        {
          "output_type": "display_data",
          "data": {
            "image/png": "[encoded data removed]",
            "text/plain": [
              "<Figure size 576x396 with 1 Axes>"
            ]
          },
          "metadata": {
            "tags": []
          }
        }
      ]
    },
    {
      "metadata": {
        "id": "-IB2uFCzez-e",
        "colab_type": "code",
        "colab": {}
      },
      "cell_type": "code",
      "source": [
        "acc_values = history_dict['acc']\n",
        "test_acc_values = history_dict['val_acc']"
      ],
      "execution_count": 0,
      "outputs": []
    },
    {
      "metadata": {
        "id": "AdyXVyeLf-SV",
        "colab_type": "code",
        "outputId": "923789d9-3e57-4ef0-83c8-d262c51cc8f0",
        "colab": {
          "base_uri": "https://localhost:8080/",
          "height": 376
        }
      },
      "cell_type": "code",
      "source": [
        "plt.plot(epochs_range, acc_values, 'bo', label='Training accuracy')\n",
        "plt.plot(epochs_range, test_acc_values, 'ro', label='Test accuracy')\n",
        "plt.title('Training and test accuracy')\n",
        "plt.xlabel('Epochs')\n",
        "plt.ylabel('Accuracy')\n",
        "plt.legend()\n",
        "plt.show()"
      ],
      "execution_count": 0,
      "outputs": [
        {
          "output_type": "display_data",
          "data": {
            "image/png": "[encoded data removed]",
            "text/plain": [
              "<Figure size 576x396 with 1 Axes>"
            ]
          },
          "metadata": {
            "tags": []
          }
        }
      ]
    },
    {
      "metadata": {
        "id": "h2stwglLgXE9",
        "colab_type": "text"
      },
      "cell_type": "markdown",
      "source": [
        "## Overfitting\n",
        "\n",
        "As you can see, the training loss decreases with every epoch, and the training accuracy increases with every epoch. That's what you would expect when gradient descent optimization - the quantity you're trying to minimize should be less with every iteration.\n",
        "\n",
        "But this isn't the case for the training loss and accuracy: they seem to peak at the sixth epoch.\n",
        "\n",
        "This is an example of overfitting: a model that performs better on the training data isn't necessarily a model that performs better on data it has never seen before. You are overoptimizing on the training data, and you end up learning representations that are specific to the training data and don't generalize to data outside the training set."
      ]
    },
    {
      "metadata": {
        "id": "iPbL28KUjWka",
        "colab_type": "text"
      },
      "cell_type": "markdown",
      "source": [
        "## Showing some misclassified digits"
      ]
    },
    {
      "metadata": {
        "id": "BkpI5di5kzEy",
        "colab_type": "code",
        "colab": {}
      },
      "cell_type": "code",
      "source": [
        "predictions = network.predict(test_images)"
      ],
      "execution_count": 0,
      "outputs": []
    },
    {
      "metadata": {
        "id": "MyoQ-72Kk7Ah",
        "colab_type": "code",
        "outputId": "9266cfc0-f678-4f4e-b29f-0171d6c72deb",
        "colab": {
          "base_uri": "https://localhost:8080/",
          "height": 67
        }
      },
      "cell_type": "code",
      "source": [
        "predictions[0]"
      ],
      "execution_count": 0,
      "outputs": [
        {
          "output_type": "execute_result",
          "data": {
            "text/plain": [
              "array([3.7676487e-11, 7.2184453e-15, 7.7126208e-09, 3.3514003e-05,\n",
              "       2.7630079e-15, 1.5432149e-10, 1.1950310e-18, 9.9996638e-01,\n",
              "       8.8433005e-10, 5.9446528e-08], dtype=float32)"
            ]
          },
          "metadata": {
            "tags": []
          },
          "execution_count": 20
        }
      ]
    },
    {
      "metadata": {
        "id": "kPhKmlKNl5tX",
        "colab_type": "code",
        "outputId": "3fde85c7-d197-41ed-cb3b-bb11b369cedb",
        "colab": {
          "base_uri": "https://localhost:8080/",
          "height": 34
        }
      },
      "cell_type": "code",
      "source": [
        "np.argmax(predictions[0])"
      ],
      "execution_count": 0,
      "outputs": [
        {
          "output_type": "execute_result",
          "data": {
            "text/plain": [
              "7"
            ]
          },
          "metadata": {
            "tags": []
          },
          "execution_count": 21
        }
      ]
    },
    {
      "metadata": {
        "id": "OiTXq8M0mD-4",
        "colab_type": "code",
        "outputId": "7cb69a70-192a-474c-879b-0cee9aac93b6",
        "colab": {
          "base_uri": "https://localhost:8080/",
          "height": 34
        }
      },
      "cell_type": "code",
      "source": [
        "test_labels_original[0]"
      ],
      "execution_count": 0,
      "outputs": [
        {
          "output_type": "execute_result",
          "data": {
            "text/plain": [
              "7"
            ]
          },
          "metadata": {
            "tags": []
          },
          "execution_count": 22
        }
      ]
    },
    {
      "metadata": {
        "id": "bD6JO8WbmMmo",
        "colab_type": "code",
        "colab": {}
      },
      "cell_type": "code",
      "source": [
        "predicted_labels = np.argmax(predictions, axis=1) \n",
        "predicted_labels = predicted_labels.astype('uint8')"
      ],
      "execution_count": 0,
      "outputs": []
    },
    {
      "metadata": {
        "id": "5sPpiYofpJLl",
        "colab_type": "code",
        "outputId": "465254d0-9e12-4fc0-9e7f-e0553e51d7da",
        "colab": {
          "base_uri": "https://localhost:8080/",
          "height": 34
        }
      },
      "cell_type": "code",
      "source": [
        "predicted_labels"
      ],
      "execution_count": 0,
      "outputs": [
        {
          "output_type": "execute_result",
          "data": {
            "text/plain": [
              "array([7, 2, 1, ..., 4, 5, 6], dtype=uint8)"
            ]
          },
          "metadata": {
            "tags": []
          },
          "execution_count": 24
        }
      ]
    },
    {
      "metadata": {
        "id": "82zScJn7pMuW",
        "colab_type": "code",
        "colab": {}
      },
      "cell_type": "code",
      "source": [
        "wrong_indices = [i for i in range(10000) if predicted_labels[i] != test_labels_original[i]]"
      ],
      "execution_count": 0,
      "outputs": []
    },
    {
      "metadata": {
        "id": "4rfbv49rpsSN",
        "colab_type": "code",
        "outputId": "f9aa64c0-750d-47f2-cdd2-e95b550a6c33",
        "colab": {
          "base_uri": "https://localhost:8080/",
          "height": 34
        }
      },
      "cell_type": "code",
      "source": [
        "# The quantity below is equal to the test accuracy reported by the network fit method.\n",
        "1.0 - len(wrong_indices) / 10000.0"
      ],
      "execution_count": 0,
      "outputs": [
        {
          "output_type": "execute_result",
          "data": {
            "text/plain": [
              "0.9807"
            ]
          },
          "metadata": {
            "tags": []
          },
          "execution_count": 26
        }
      ]
    },
    {
      "metadata": {
        "id": "6Pr6E4LNp219",
        "colab_type": "code",
        "colab": {}
      },
      "cell_type": "code",
      "source": [
        "# This show the ith misclassified digit. \n",
        "i = 4\n",
        "wrong_index = wrong_indices[i]  "
      ],
      "execution_count": 0,
      "outputs": []
    },
    {
      "metadata": {
        "id": "-SK4C_52q5oc",
        "colab_type": "code",
        "outputId": "38aad9bc-8baa-449c-82e4-6ef7733ef2a7",
        "colab": {
          "base_uri": "https://localhost:8080/",
          "height": 34
        }
      },
      "cell_type": "code",
      "source": [
        "predicted_labels[wrong_index]"
      ],
      "execution_count": 0,
      "outputs": [
        {
          "output_type": "execute_result",
          "data": {
            "text/plain": [
              "5"
            ]
          },
          "metadata": {
            "tags": []
          },
          "execution_count": 28
        }
      ]
    },
    {
      "metadata": {
        "id": "mJiXy-LBq-Dz",
        "colab_type": "code",
        "outputId": "ce12384d-0e65-4bf9-beb4-e32966306600",
        "colab": {
          "base_uri": "https://localhost:8080/",
          "height": 34
        }
      },
      "cell_type": "code",
      "source": [
        "test_labels_original[wrong_index]"
      ],
      "execution_count": 0,
      "outputs": [
        {
          "output_type": "execute_result",
          "data": {
            "text/plain": [
              "3"
            ]
          },
          "metadata": {
            "tags": []
          },
          "execution_count": 29
        }
      ]
    },
    {
      "metadata": {
        "id": "1VE3-4X6rFDc",
        "colab_type": "code",
        "outputId": "927efd2f-ef54-479f-d337-25933cf043f9",
        "colab": {
          "base_uri": "https://localhost:8080/",
          "height": 347
        }
      },
      "cell_type": "code",
      "source": [
        "plt.imshow(test_images_original[wrong_index])\n",
        "plt.grid(None)\n",
        "plt.show()"
      ],
      "execution_count": 0,
      "outputs": [
        {
          "output_type": "display_data",
          "data": {
            "image/png": "[encoded data removed]",
            "text/plain": [
              "<Figure size 576x396 with 1 Axes>"
            ]
          },
          "metadata": {
            "tags": []
          }
        }
      ]
    },
    {
      "metadata": {
        "id": "a5Lo7sDbrmKM",
        "colab_type": "code",
        "colab": {}
      },
      "cell_type": "code",
      "source": [
        ""
      ],
      "execution_count": 0,
      "outputs": []
    }
  ]
}