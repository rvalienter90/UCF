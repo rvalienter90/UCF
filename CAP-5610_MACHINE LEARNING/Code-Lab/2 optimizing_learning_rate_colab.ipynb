{
 "cells": [
  {
   "cell_type": "code",
   "execution_count": 0,
   "metadata": {
    "id": "lyfgNSJ4LnDe",
    "colab_type": "code",
    "colab": {}
   },
   "outputs": [],
   "source": [
    "import numpy as np\n",
    "import matplotlib.pyplot as plt\n",
    "%matplotlib inline"
   ]
  },
  {
   "cell_type": "code",
   "execution_count": 0,
   "metadata": {
    "id": "sGl2udpsLs5c",
    "colab_type": "code",
    "colab": {}
   },
   "outputs": [],
   "source": [
    "left = 0.0\n",
    "right = 4.0\n",
    "samples = np.array([0.0])"
   ]
  },
  {
   "cell_type": "code",
   "execution_count": 0,
   "metadata": {
    "id": "qWAA4sJtLu-D",
    "colab_type": "code",
    "colab": {}
   },
   "outputs": [],
   "source": [
    "def loss(x):\n",
    "    return 2.0 * (x - 2.0)**2\n",
    "\n",
    "def loss_gradient(x):\n",
    "    return 4.0 * (x - 2.0)"
   ]
  },
  {
   "cell_type": "code",
   "execution_count": 0,
   "metadata": {
    "id": "mLCLOAjILzhK",
    "colab_type": "code",
    "colab": {}
   },
   "outputs": [],
   "source": [
    "def plot(learning_rate):\n",
    "    global samples\n",
    "    global left\n",
    "    global right\n",
    "    x = np.linspace(left, right)\n",
    "    fig, ax = plt.subplots(1, 1, figsize=(8, 6))\n",
    "    ax.grid(True)\n",
    "    ax.plot(x, loss(x))\n",
    "    colors = np.full(samples.shape, 0.5)\n",
    "    ax.scatter(samples, loss(samples))\n",
    "    last_sample = samples[-1]\n",
    "    new_sample = last_sample - float(learning_rate) * loss_gradient(last_sample)\n",
    "    samples = np.append(samples, new_sample)\n",
    "    left = min(left, new_sample)\n",
    "    right = max(right, new_sample)"
   ]
  },
  {
   "cell_type": "code",
   "execution_count": 0,
   "metadata": {
    "id": "Z2vPqgPnL2rR",
    "colab_type": "code",
    "outputId": "b38967f2-80c5-4b38-f12f-aaa6ff87e790",
    "colab": {
     "base_uri": "https://localhost:8080/",
     "height": 374.0
    }
   },
   "outputs": [
    {
     "data": {
      "image/png": "[encoded data removed]",
      "text/plain": [
       "<matplotlib.figure.Figure at 0x7fbf1e65d908>"
      ]
     },
     "metadata": {
      "tags": []
     },
     "output_type": "display_data"
    }
   ],
   "source": [
    "plot(0.15)"
   ]
  },
  {
   "cell_type": "code",
   "execution_count": 0,
   "metadata": {
    "id": "Rm3VN3WvMU1A",
    "colab_type": "code",
    "colab": {}
   },
   "outputs": [],
   "source": [
    ""
   ]
  }
 ],
 "metadata": {
  "colab": {
   "name": "optimizing_learning_rate_colab.ipynb",
   "version": "0.3.2",
   "provenance": []
  },
  "kernelspec": {
   "name": "python3",
   "display_name": "Python 3"
  }
 },
 "nbformat": 4,
 "nbformat_minor": 0
}
